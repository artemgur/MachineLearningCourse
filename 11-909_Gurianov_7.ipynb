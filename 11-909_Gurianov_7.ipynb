{
 "cells": [
  {
   "cell_type": "markdown",
   "source": [
    "## ДЗ №1\n",
    "\n",
    "1. Построить модель линейной регрессии для данных из файла data.csv"
   ],
   "metadata": {
    "collapsed": false
   }
  },
  {
   "cell_type": "code",
   "execution_count": 1,
   "metadata": {
    "collapsed": true
   },
   "outputs": [],
   "source": [
    "import numpy as np\n",
    "import matplotlib.pyplot as plt"
   ]
  },
  {
   "cell_type": "code",
   "execution_count": 2,
   "outputs": [
    {
     "data": {
      "text/plain": "array([[240000.,   3650.],\n       [139800.,   3800.],\n       [150500.,   4400.],\n       [185530.,   4450.],\n       [176000.,   5250.],\n       [114800.,   5350.],\n       [166800.,   5800.],\n       [ 89000.,   5990.],\n       [144500.,   5999.],\n       [ 84000.,   6200.],\n       [ 82029.,   6390.],\n       [ 63060.,   6390.],\n       [ 74000.,   6600.],\n       [ 97500.,   6800.],\n       [ 67000.,   6800.],\n       [ 76025.,   6900.],\n       [ 48235.,   6900.],\n       [ 93000.,   6990.],\n       [ 60949.,   7490.],\n       [ 65674.,   7555.],\n       [ 54000.,   7990.],\n       [ 68500.,   7990.],\n       [ 22899.,   7990.],\n       [ 61789.,   8290.]])"
     },
     "execution_count": 2,
     "metadata": {},
     "output_type": "execute_result"
    }
   ],
   "source": [
    "data = np.loadtxt('data.csv', skiprows=1, delimiter=',')\n",
    "data"
   ],
   "metadata": {
    "collapsed": false
   }
  },
  {
   "cell_type": "code",
   "execution_count": 3,
   "outputs": [],
   "source": [
    "x, y = data[:, 0].reshape(-1, 1), data[:, 1]"
   ],
   "metadata": {
    "collapsed": false
   }
  },
  {
   "cell_type": "code",
   "execution_count": 4,
   "outputs": [
    {
     "name": "stdout",
     "output_type": "stream",
     "text": [
      "0.7329747078314965\n",
      "8499.599649933216 [-0.02144896]\n"
     ]
    },
    {
     "data": {
      "text/plain": "<matplotlib.lines._AxLine at 0x1ea16752f50>"
     },
     "execution_count": 4,
     "metadata": {},
     "output_type": "execute_result"
    },
    {
     "data": {
      "text/plain": "<Figure size 640x480 with 1 Axes>",
      "image/png": "[encoded data removed]"
     },
     "metadata": {},
     "output_type": "display_data"
    }
   ],
   "source": [
    "from sklearn.linear_model import LinearRegression\n",
    "\n",
    "lr = LinearRegression().fit(x, y)\n",
    "print(lr.score(x, y))\n",
    "print(lr.intercept_, lr.coef_)\n",
    "\n",
    "plt.scatter(x, y, c='red')\n",
    "plt.axline((0, lr.intercept_), slope=lr.coef_, c='black')"
   ],
   "metadata": {
    "collapsed": false
   }
  },
  {
   "cell_type": "markdown",
   "source": [
    "## ДЗ №2\n",
    "\n",
    "1. Разбить датасет digits на обучающую и тестовую выборку, 85% и 15% соответственно.\n",
    "2. Найти лучший классификатор (и лучшие параметры) для этого набора данных.\n",
    "3. Выведите в графическом виде все примеры, где лучший классификатор ошибся.\n",
    "4. Сравнить результат с классификацией датасета digits, предобработанного алгоритмом t-SNE."
   ],
   "metadata": {
    "collapsed": false
   }
  },
  {
   "cell_type": "markdown",
   "source": [
    "Загрузим данные"
   ],
   "metadata": {
    "collapsed": false
   }
  },
  {
   "cell_type": "code",
   "execution_count": 5,
   "outputs": [
    {
     "name": "stdout",
     "output_type": "stream",
     "text": [
      "[[ 0.  0.  5. ...  0.  0.  0.]\n",
      " [ 0.  0.  0. ... 10.  0.  0.]\n",
      " [ 0.  0.  0. ... 16.  9.  0.]\n",
      " ...\n",
      " [ 0.  0.  1. ...  6.  0.  0.]\n",
      " [ 0.  0.  2. ... 12.  0.  0.]\n",
      " [ 0.  0. 10. ... 12.  1.  0.]]\n",
      "[0 1 2 ... 8 9 8]\n"
     ]
    }
   ],
   "source": [
    "from sklearn.datasets import load_digits\n",
    "\n",
    "digits_dataset = load_digits()\n",
    "x = digits_dataset.data\n",
    "y = digits_dataset.target\n",
    "print(x)\n",
    "print(y)"
   ],
   "metadata": {
    "collapsed": false
   }
  },
  {
   "cell_type": "markdown",
   "source": [
    "Вычислим, сколько строк должно быть в обучающей выборке"
   ],
   "metadata": {
    "collapsed": false
   }
  },
  {
   "cell_type": "code",
   "execution_count": 6,
   "outputs": [
    {
     "data": {
      "text/plain": "1527"
     },
     "execution_count": 6,
     "metadata": {},
     "output_type": "execute_result"
    }
   ],
   "source": [
    "from math import floor\n",
    "\n",
    "train_size = floor(x.shape[0] * 0.85)\n",
    "train_size"
   ],
   "metadata": {
    "collapsed": false
   }
  },
  {
   "cell_type": "markdown",
   "source": [
    "Будем использовать реализацию t-SNE из OpenTSNE. Это нужно, так как реализация TSNE из sklearn не имеет метода transform, и преобразование нельзя применить к новым данным (это понадобится в задании 3 для распознавания числа)"
   ],
   "metadata": {
    "collapsed": false
   }
  },
  {
   "cell_type": "code",
   "execution_count": 7,
   "outputs": [],
   "source": [
    "%%capture\n",
    "!pip install opentsne"
   ],
   "metadata": {
    "collapsed": false
   }
  },
  {
   "cell_type": "markdown",
   "source": [
    "Применим t-SNE к датасету"
   ],
   "metadata": {
    "collapsed": false
   }
  },
  {
   "cell_type": "code",
   "execution_count": 8,
   "outputs": [
    {
     "data": {
      "text/plain": "TSNEEmbedding([[ -1.9837878 ,  47.07121155],\n               [  9.51069711, -10.62749715],\n               [-14.42086622, -16.21018012],\n               ...,\n               [ -5.6025507 , -10.26896169],\n               [-18.01791184,  14.30242341],\n               [-13.1898873 ,  -5.80652111]])"
     },
     "execution_count": 8,
     "metadata": {},
     "output_type": "execute_result"
    }
   ],
   "source": [
    "from openTSNE import TSNE\n",
    "\n",
    "tsne = TSNE(n_components=2)\n",
    "x_tsne = tsne.fit(x)\n",
    "x_tsne"
   ],
   "metadata": {
    "collapsed": false
   }
  },
  {
   "cell_type": "markdown",
   "source": [
    "Визуализируем результаты. Видно, что разным числам соответствуют разные кластеры"
   ],
   "metadata": {
    "collapsed": false
   }
  },
  {
   "cell_type": "code",
   "execution_count": 9,
   "outputs": [
    {
     "data": {
      "text/plain": "<matplotlib.collections.PathCollection at 0x1ea36dd4580>"
     },
     "execution_count": 9,
     "metadata": {},
     "output_type": "execute_result"
    },
    {
     "data": {
      "text/plain": "<Figure size 640x480 with 1 Axes>",
      "image/png": "[encoded data removed]"
     },
     "metadata": {},
     "output_type": "display_data"
    }
   ],
   "source": [
    "plt.scatter(x_tsne[:, 0], x_tsne[:, 1], c=y)"
   ],
   "metadata": {
    "collapsed": false
   }
  },
  {
   "cell_type": "markdown",
   "source": [
    "Разделим на обучающую и тестовую выборки:\n",
    "- Датасет\n",
    "- Датасет, предобтаботанный t-SNE\n",
    "- Целевую переменную"
   ],
   "metadata": {
    "collapsed": false
   }
  },
  {
   "cell_type": "code",
   "execution_count": 10,
   "outputs": [],
   "source": [
    "x_train = x[:train_size]\n",
    "x_test = x[train_size:]\n",
    "\n",
    "x_train_tsne = x_tsne[:train_size]\n",
    "x_test_tsne = x_tsne[train_size:]\n",
    "\n",
    "y_train = y[:train_size]\n",
    "y_test = y[train_size:]"
   ],
   "metadata": {
    "collapsed": false
   }
  },
  {
   "cell_type": "markdown",
   "source": [
    "Эта функция:\n",
    "1. Обучает модель (если tsne=True, то на данных, предобработанных t-SNE)\n",
    "2. Вычисляет значение accuracy\n",
    "3. Если accuracy модели – лучшая, сохраняет модель (а также информацию о том, обучена ли модель на предобтаботанных t-SNE данных)"
   ],
   "metadata": {
    "collapsed": false
   }
  },
  {
   "cell_type": "code",
   "execution_count": 11,
   "outputs": [],
   "source": [
    "from sklearn.metrics import accuracy_score\n",
    "\n",
    "best_accuracy = -1\n",
    "best_algorithm = None\n",
    "best_tsne = False\n",
    "\n",
    "def run_classifier(classifier, tsne=False):\n",
    "    global best_accuracy, best_algorithm, best_tsne\n",
    "\n",
    "    if tsne:\n",
    "        x_train_local = x_train_tsne\n",
    "        x_test_local = x_test_tsne\n",
    "    else:\n",
    "        x_train_local = x_train\n",
    "        x_test_local = x_test\n",
    "\n",
    "    classifier.fit(x_train_local, y_train)\n",
    "    prediction = classifier.predict(x_test_local)\n",
    "    accuracy = accuracy_score(y_test, prediction)\n",
    "\n",
    "    if accuracy > best_accuracy:\n",
    "        best_accuracy = accuracy\n",
    "        best_algorithm = classifier\n",
    "        best_tsne = tsne\n",
    "\n",
    "    return accuracy"
   ],
   "metadata": {
    "collapsed": false
   }
  },
  {
   "cell_type": "markdown",
   "source": [
    "Попробуем разные модели"
   ],
   "metadata": {
    "collapsed": false
   }
  },
  {
   "cell_type": "code",
   "execution_count": 12,
   "outputs": [
    {
     "name": "stderr",
     "output_type": "stream",
     "text": [
      "C:\\Python310\\lib\\site-packages\\sklearn\\linear_model\\_logistic.py:444: ConvergenceWarning: lbfgs failed to converge (status=1):\n",
      "STOP: TOTAL NO. of ITERATIONS REACHED LIMIT.\n",
      "\n",
      "Increase the number of iterations (max_iter) or scale the data as shown in:\n",
      "    https://scikit-learn.org/stable/modules/preprocessing.html\n",
      "Please also refer to the documentation for alternative solver options:\n",
      "    https://scikit-learn.org/stable/modules/linear_model.html#logistic-regression\n",
      "  n_iter_i = _check_optimize_result(\n"
     ]
    },
    {
     "data": {
      "text/plain": "0.9111111111111111"
     },
     "execution_count": 12,
     "metadata": {},
     "output_type": "execute_result"
    }
   ],
   "source": [
    "from sklearn.linear_model import LogisticRegression\n",
    "\n",
    "run_classifier(LogisticRegression(max_iter=100))"
   ],
   "metadata": {
    "collapsed": false
   }
  },
  {
   "cell_type": "code",
   "execution_count": 13,
   "outputs": [
    {
     "name": "stderr",
     "output_type": "stream",
     "text": [
      "C:\\Python310\\lib\\site-packages\\sklearn\\linear_model\\_logistic.py:444: ConvergenceWarning: lbfgs failed to converge (status=1):\n",
      "STOP: TOTAL NO. of ITERATIONS REACHED LIMIT.\n",
      "\n",
      "Increase the number of iterations (max_iter) or scale the data as shown in:\n",
      "    https://scikit-learn.org/stable/modules/preprocessing.html\n",
      "Please also refer to the documentation for alternative solver options:\n",
      "    https://scikit-learn.org/stable/modules/linear_model.html#logistic-regression\n",
      "  n_iter_i = _check_optimize_result(\n"
     ]
    },
    {
     "data": {
      "text/plain": "0.8814814814814815"
     },
     "execution_count": 13,
     "metadata": {},
     "output_type": "execute_result"
    }
   ],
   "source": [
    "run_classifier(LogisticRegression(max_iter=200), True)"
   ],
   "metadata": {
    "collapsed": false
   }
  },
  {
   "cell_type": "code",
   "execution_count": 14,
   "outputs": [
    {
     "data": {
      "text/plain": "0.9555555555555556"
     },
     "execution_count": 14,
     "metadata": {},
     "output_type": "execute_result"
    }
   ],
   "source": [
    "from sklearn.neighbors import KNeighborsClassifier\n",
    "\n",
    "run_classifier(KNeighborsClassifier(n_neighbors=3))"
   ],
   "metadata": {
    "collapsed": false
   }
  },
  {
   "cell_type": "code",
   "execution_count": 15,
   "outputs": [
    {
     "data": {
      "text/plain": "0.9592592592592593"
     },
     "execution_count": 15,
     "metadata": {},
     "output_type": "execute_result"
    }
   ],
   "source": [
    "run_classifier(KNeighborsClassifier(n_neighbors=3), True)"
   ],
   "metadata": {
    "collapsed": false
   }
  },
  {
   "cell_type": "code",
   "execution_count": 16,
   "outputs": [
    {
     "data": {
      "text/plain": "0.7777777777777778"
     },
     "execution_count": 16,
     "metadata": {},
     "output_type": "execute_result"
    }
   ],
   "source": [
    "from sklearn.naive_bayes import GaussianNB\n",
    "\n",
    "run_classifier(GaussianNB())"
   ],
   "metadata": {
    "collapsed": false
   }
  },
  {
   "cell_type": "code",
   "execution_count": 17,
   "outputs": [
    {
     "data": {
      "text/plain": "0.9296296296296296"
     },
     "execution_count": 17,
     "metadata": {},
     "output_type": "execute_result"
    }
   ],
   "source": [
    "run_classifier(GaussianNB(), True)"
   ],
   "metadata": {
    "collapsed": false
   }
  },
  {
   "cell_type": "code",
   "execution_count": 18,
   "outputs": [
    {
     "data": {
      "text/plain": "0.9259259259259259"
     },
     "execution_count": 18,
     "metadata": {},
     "output_type": "execute_result"
    }
   ],
   "source": [
    "from sklearn.svm import SVC\n",
    "\n",
    "run_classifier(SVC())"
   ],
   "metadata": {
    "collapsed": false
   }
  },
  {
   "cell_type": "code",
   "execution_count": 19,
   "outputs": [
    {
     "data": {
      "text/plain": "0.9444444444444444"
     },
     "execution_count": 19,
     "metadata": {},
     "output_type": "execute_result"
    }
   ],
   "source": [
    "run_classifier(SVC(), True)"
   ],
   "metadata": {
    "collapsed": false
   }
  },
  {
   "cell_type": "code",
   "execution_count": 20,
   "outputs": [
    {
     "data": {
      "text/plain": "0.9148148148148149"
     },
     "execution_count": 20,
     "metadata": {},
     "output_type": "execute_result"
    }
   ],
   "source": [
    "from sklearn.ensemble import RandomForestClassifier\n",
    "\n",
    "run_classifier(RandomForestClassifier(n_estimators=100, bootstrap=False, n_jobs=-1))"
   ],
   "metadata": {
    "collapsed": false
   }
  },
  {
   "cell_type": "code",
   "execution_count": 21,
   "outputs": [
    {
     "data": {
      "text/plain": "0.9518518518518518"
     },
     "execution_count": 21,
     "metadata": {},
     "output_type": "execute_result"
    }
   ],
   "source": [
    "run_classifier(RandomForestClassifier(n_estimators=100, bootstrap=False, n_jobs=-1), True)"
   ],
   "metadata": {
    "collapsed": false
   }
  },
  {
   "cell_type": "code",
   "execution_count": 22,
   "outputs": [],
   "source": [
    "%%capture\n",
    "!pip install catboost"
   ],
   "metadata": {
    "collapsed": false
   }
  },
  {
   "cell_type": "code",
   "execution_count": 23,
   "outputs": [
    {
     "name": "stdout",
     "output_type": "stream",
     "text": [
      "Learning rate set to 0.080854\n",
      "0:\tlearn: 2.1232085\ttotal: 173ms\tremaining: 2m 52s\n",
      "1:\tlearn: 1.9346124\ttotal: 177ms\tremaining: 1m 28s\n",
      "2:\tlearn: 1.7902000\ttotal: 181ms\tremaining: 1m\n",
      "3:\tlearn: 1.6609760\ttotal: 185ms\tremaining: 46s\n",
      "4:\tlearn: 1.5427574\ttotal: 188ms\tremaining: 37.4s\n",
      "5:\tlearn: 1.4412863\ttotal: 191ms\tremaining: 31.7s\n",
      "6:\tlearn: 1.3658550\ttotal: 195ms\tremaining: 27.6s\n",
      "7:\tlearn: 1.2872218\ttotal: 198ms\tremaining: 24.6s\n",
      "8:\tlearn: 1.2195008\ttotal: 202ms\tremaining: 22.2s\n",
      "9:\tlearn: 1.1535292\ttotal: 206ms\tremaining: 20.4s\n",
      "10:\tlearn: 1.0926212\ttotal: 209ms\tremaining: 18.8s\n",
      "11:\tlearn: 1.0396298\ttotal: 213ms\tremaining: 17.5s\n",
      "12:\tlearn: 0.9893040\ttotal: 216ms\tremaining: 16.4s\n",
      "13:\tlearn: 0.9430253\ttotal: 220ms\tremaining: 15.5s\n",
      "14:\tlearn: 0.8966361\ttotal: 224ms\tremaining: 14.7s\n",
      "15:\tlearn: 0.8549227\ttotal: 227ms\tremaining: 14s\n",
      "16:\tlearn: 0.8167400\ttotal: 231ms\tremaining: 13.4s\n",
      "17:\tlearn: 0.7791816\ttotal: 235ms\tremaining: 12.8s\n",
      "18:\tlearn: 0.7451788\ttotal: 239ms\tremaining: 12.4s\n",
      "19:\tlearn: 0.7137463\ttotal: 243ms\tremaining: 11.9s\n",
      "20:\tlearn: 0.6855606\ttotal: 247ms\tremaining: 11.5s\n",
      "21:\tlearn: 0.6612991\ttotal: 251ms\tremaining: 11.2s\n",
      "22:\tlearn: 0.6356455\ttotal: 255ms\tremaining: 10.8s\n",
      "23:\tlearn: 0.6107837\ttotal: 259ms\tremaining: 10.5s\n",
      "24:\tlearn: 0.5881311\ttotal: 264ms\tremaining: 10.3s\n",
      "25:\tlearn: 0.5655373\ttotal: 268ms\tremaining: 10s\n",
      "26:\tlearn: 0.5476008\ttotal: 271ms\tremaining: 9.77s\n",
      "27:\tlearn: 0.5256434\ttotal: 274ms\tremaining: 9.53s\n",
      "28:\tlearn: 0.5083386\ttotal: 278ms\tremaining: 9.31s\n",
      "29:\tlearn: 0.4911587\ttotal: 281ms\tremaining: 9.1s\n",
      "30:\tlearn: 0.4764630\ttotal: 285ms\tremaining: 8.9s\n",
      "31:\tlearn: 0.4620242\ttotal: 288ms\tremaining: 8.72s\n",
      "32:\tlearn: 0.4494352\ttotal: 292ms\tremaining: 8.56s\n",
      "33:\tlearn: 0.4346361\ttotal: 297ms\tremaining: 8.42s\n",
      "34:\tlearn: 0.4233377\ttotal: 301ms\tremaining: 8.3s\n",
      "35:\tlearn: 0.4116901\ttotal: 305ms\tremaining: 8.16s\n",
      "36:\tlearn: 0.4003220\ttotal: 310ms\tremaining: 8.06s\n",
      "37:\tlearn: 0.3888998\ttotal: 313ms\tremaining: 7.92s\n",
      "38:\tlearn: 0.3782667\ttotal: 317ms\tremaining: 7.8s\n",
      "39:\tlearn: 0.3677392\ttotal: 320ms\tremaining: 7.68s\n",
      "40:\tlearn: 0.3583491\ttotal: 324ms\tremaining: 7.57s\n",
      "41:\tlearn: 0.3496599\ttotal: 327ms\tremaining: 7.47s\n",
      "42:\tlearn: 0.3397061\ttotal: 331ms\tremaining: 7.36s\n",
      "43:\tlearn: 0.3309937\ttotal: 334ms\tremaining: 7.26s\n",
      "44:\tlearn: 0.3225720\ttotal: 338ms\tremaining: 7.17s\n",
      "45:\tlearn: 0.3144976\ttotal: 342ms\tremaining: 7.09s\n",
      "46:\tlearn: 0.3079717\ttotal: 346ms\tremaining: 7.02s\n",
      "47:\tlearn: 0.3009129\ttotal: 350ms\tremaining: 6.94s\n",
      "48:\tlearn: 0.2936570\ttotal: 354ms\tremaining: 6.86s\n",
      "49:\tlearn: 0.2862247\ttotal: 357ms\tremaining: 6.79s\n",
      "50:\tlearn: 0.2781445\ttotal: 361ms\tremaining: 6.71s\n",
      "51:\tlearn: 0.2713066\ttotal: 364ms\tremaining: 6.64s\n",
      "52:\tlearn: 0.2657905\ttotal: 368ms\tremaining: 6.57s\n",
      "53:\tlearn: 0.2597225\ttotal: 371ms\tremaining: 6.5s\n",
      "54:\tlearn: 0.2540100\ttotal: 375ms\tremaining: 6.44s\n",
      "55:\tlearn: 0.2483554\ttotal: 378ms\tremaining: 6.37s\n",
      "56:\tlearn: 0.2426944\ttotal: 382ms\tremaining: 6.31s\n",
      "57:\tlearn: 0.2372225\ttotal: 385ms\tremaining: 6.26s\n",
      "58:\tlearn: 0.2315973\ttotal: 389ms\tremaining: 6.2s\n",
      "59:\tlearn: 0.2271488\ttotal: 393ms\tremaining: 6.15s\n",
      "60:\tlearn: 0.2218020\ttotal: 397ms\tremaining: 6.1s\n",
      "61:\tlearn: 0.2171934\ttotal: 401ms\tremaining: 6.07s\n",
      "62:\tlearn: 0.2132344\ttotal: 405ms\tremaining: 6.02s\n",
      "63:\tlearn: 0.2087614\ttotal: 408ms\tremaining: 5.97s\n",
      "64:\tlearn: 0.2049524\ttotal: 412ms\tremaining: 5.92s\n",
      "65:\tlearn: 0.2007828\ttotal: 416ms\tremaining: 5.88s\n",
      "66:\tlearn: 0.1970961\ttotal: 419ms\tremaining: 5.84s\n",
      "67:\tlearn: 0.1936907\ttotal: 423ms\tremaining: 5.79s\n",
      "68:\tlearn: 0.1896953\ttotal: 426ms\tremaining: 5.75s\n",
      "69:\tlearn: 0.1864768\ttotal: 430ms\tremaining: 5.71s\n",
      "70:\tlearn: 0.1830417\ttotal: 433ms\tremaining: 5.66s\n",
      "71:\tlearn: 0.1801436\ttotal: 436ms\tremaining: 5.62s\n",
      "72:\tlearn: 0.1768817\ttotal: 440ms\tremaining: 5.58s\n",
      "73:\tlearn: 0.1738297\ttotal: 443ms\tremaining: 5.55s\n",
      "74:\tlearn: 0.1712792\ttotal: 447ms\tremaining: 5.52s\n",
      "75:\tlearn: 0.1686744\ttotal: 451ms\tremaining: 5.49s\n",
      "76:\tlearn: 0.1652363\ttotal: 455ms\tremaining: 5.46s\n",
      "77:\tlearn: 0.1621557\ttotal: 459ms\tremaining: 5.43s\n",
      "78:\tlearn: 0.1601324\ttotal: 463ms\tremaining: 5.4s\n",
      "79:\tlearn: 0.1571522\ttotal: 467ms\tremaining: 5.37s\n",
      "80:\tlearn: 0.1546926\ttotal: 471ms\tremaining: 5.34s\n",
      "81:\tlearn: 0.1520149\ttotal: 475ms\tremaining: 5.32s\n",
      "82:\tlearn: 0.1496334\ttotal: 479ms\tremaining: 5.29s\n",
      "83:\tlearn: 0.1471321\ttotal: 482ms\tremaining: 5.26s\n",
      "84:\tlearn: 0.1446896\ttotal: 486ms\tremaining: 5.23s\n",
      "85:\tlearn: 0.1426257\ttotal: 489ms\tremaining: 5.2s\n",
      "86:\tlearn: 0.1402266\ttotal: 493ms\tremaining: 5.17s\n",
      "87:\tlearn: 0.1380970\ttotal: 496ms\tremaining: 5.14s\n",
      "88:\tlearn: 0.1362088\ttotal: 500ms\tremaining: 5.12s\n",
      "89:\tlearn: 0.1341156\ttotal: 503ms\tremaining: 5.09s\n",
      "90:\tlearn: 0.1322577\ttotal: 507ms\tremaining: 5.07s\n",
      "91:\tlearn: 0.1300150\ttotal: 511ms\tremaining: 5.04s\n",
      "92:\tlearn: 0.1282840\ttotal: 514ms\tremaining: 5.01s\n",
      "93:\tlearn: 0.1267960\ttotal: 518ms\tremaining: 4.99s\n",
      "94:\tlearn: 0.1250113\ttotal: 521ms\tremaining: 4.96s\n",
      "95:\tlearn: 0.1233322\ttotal: 525ms\tremaining: 4.94s\n",
      "96:\tlearn: 0.1219038\ttotal: 528ms\tremaining: 4.92s\n",
      "97:\tlearn: 0.1201338\ttotal: 532ms\tremaining: 4.89s\n",
      "98:\tlearn: 0.1183918\ttotal: 535ms\tremaining: 4.87s\n",
      "99:\tlearn: 0.1166250\ttotal: 539ms\tremaining: 4.85s\n",
      "100:\tlearn: 0.1149327\ttotal: 542ms\tremaining: 4.82s\n",
      "101:\tlearn: 0.1138032\ttotal: 545ms\tremaining: 4.8s\n",
      "102:\tlearn: 0.1123346\ttotal: 549ms\tremaining: 4.78s\n",
      "103:\tlearn: 0.1108612\ttotal: 552ms\tremaining: 4.76s\n",
      "104:\tlearn: 0.1095634\ttotal: 556ms\tremaining: 4.74s\n",
      "105:\tlearn: 0.1081160\ttotal: 560ms\tremaining: 4.72s\n",
      "106:\tlearn: 0.1067874\ttotal: 563ms\tremaining: 4.7s\n",
      "107:\tlearn: 0.1055786\ttotal: 567ms\tremaining: 4.68s\n",
      "108:\tlearn: 0.1049614\ttotal: 571ms\tremaining: 4.67s\n",
      "109:\tlearn: 0.1034373\ttotal: 574ms\tremaining: 4.65s\n",
      "110:\tlearn: 0.1019988\ttotal: 578ms\tremaining: 4.63s\n",
      "111:\tlearn: 0.1006888\ttotal: 581ms\tremaining: 4.61s\n",
      "112:\tlearn: 0.0995350\ttotal: 584ms\tremaining: 4.59s\n",
      "113:\tlearn: 0.0980935\ttotal: 588ms\tremaining: 4.57s\n",
      "114:\tlearn: 0.0968605\ttotal: 591ms\tremaining: 4.55s\n",
      "115:\tlearn: 0.0960116\ttotal: 595ms\tremaining: 4.53s\n",
      "116:\tlearn: 0.0948108\ttotal: 598ms\tremaining: 4.51s\n",
      "117:\tlearn: 0.0936949\ttotal: 602ms\tremaining: 4.5s\n",
      "118:\tlearn: 0.0922839\ttotal: 605ms\tremaining: 4.48s\n",
      "119:\tlearn: 0.0910230\ttotal: 609ms\tremaining: 4.46s\n",
      "120:\tlearn: 0.0896682\ttotal: 612ms\tremaining: 4.45s\n",
      "121:\tlearn: 0.0884520\ttotal: 616ms\tremaining: 4.43s\n",
      "122:\tlearn: 0.0877134\ttotal: 619ms\tremaining: 4.41s\n",
      "123:\tlearn: 0.0868490\ttotal: 622ms\tremaining: 4.4s\n",
      "124:\tlearn: 0.0858897\ttotal: 626ms\tremaining: 4.38s\n",
      "125:\tlearn: 0.0850229\ttotal: 630ms\tremaining: 4.37s\n",
      "126:\tlearn: 0.0842909\ttotal: 633ms\tremaining: 4.35s\n",
      "127:\tlearn: 0.0832604\ttotal: 637ms\tremaining: 4.34s\n",
      "128:\tlearn: 0.0821628\ttotal: 640ms\tremaining: 4.32s\n",
      "129:\tlearn: 0.0814336\ttotal: 644ms\tremaining: 4.31s\n",
      "130:\tlearn: 0.0807897\ttotal: 647ms\tremaining: 4.29s\n",
      "131:\tlearn: 0.0798234\ttotal: 651ms\tremaining: 4.28s\n",
      "132:\tlearn: 0.0792181\ttotal: 654ms\tremaining: 4.26s\n",
      "133:\tlearn: 0.0786483\ttotal: 658ms\tremaining: 4.25s\n",
      "134:\tlearn: 0.0780699\ttotal: 662ms\tremaining: 4.24s\n",
      "135:\tlearn: 0.0776766\ttotal: 666ms\tremaining: 4.23s\n",
      "136:\tlearn: 0.0769783\ttotal: 669ms\tremaining: 4.22s\n",
      "137:\tlearn: 0.0763038\ttotal: 673ms\tremaining: 4.21s\n",
      "138:\tlearn: 0.0758220\ttotal: 677ms\tremaining: 4.19s\n",
      "139:\tlearn: 0.0750053\ttotal: 680ms\tremaining: 4.18s\n",
      "140:\tlearn: 0.0746259\ttotal: 684ms\tremaining: 4.17s\n",
      "141:\tlearn: 0.0739181\ttotal: 688ms\tremaining: 4.16s\n",
      "142:\tlearn: 0.0734045\ttotal: 691ms\tremaining: 4.14s\n",
      "143:\tlearn: 0.0728811\ttotal: 695ms\tremaining: 4.13s\n",
      "144:\tlearn: 0.0721397\ttotal: 698ms\tremaining: 4.12s\n",
      "145:\tlearn: 0.0715613\ttotal: 702ms\tremaining: 4.11s\n",
      "146:\tlearn: 0.0708461\ttotal: 706ms\tremaining: 4.09s\n",
      "147:\tlearn: 0.0704048\ttotal: 709ms\tremaining: 4.08s\n",
      "148:\tlearn: 0.0697670\ttotal: 712ms\tremaining: 4.07s\n",
      "149:\tlearn: 0.0690683\ttotal: 716ms\tremaining: 4.06s\n",
      "150:\tlearn: 0.0687034\ttotal: 719ms\tremaining: 4.04s\n",
      "151:\tlearn: 0.0680931\ttotal: 723ms\tremaining: 4.03s\n",
      "152:\tlearn: 0.0676588\ttotal: 726ms\tremaining: 4.02s\n",
      "153:\tlearn: 0.0670849\ttotal: 730ms\tremaining: 4.01s\n",
      "154:\tlearn: 0.0664578\ttotal: 733ms\tremaining: 4s\n",
      "155:\tlearn: 0.0659322\ttotal: 737ms\tremaining: 3.99s\n",
      "156:\tlearn: 0.0652986\ttotal: 740ms\tremaining: 3.98s\n",
      "157:\tlearn: 0.0646602\ttotal: 744ms\tremaining: 3.96s\n",
      "158:\tlearn: 0.0641242\ttotal: 747ms\tremaining: 3.95s\n",
      "159:\tlearn: 0.0632953\ttotal: 751ms\tremaining: 3.94s\n",
      "160:\tlearn: 0.0627773\ttotal: 755ms\tremaining: 3.93s\n",
      "161:\tlearn: 0.0624605\ttotal: 758ms\tremaining: 3.92s\n",
      "162:\tlearn: 0.0620242\ttotal: 762ms\tremaining: 3.91s\n",
      "163:\tlearn: 0.0614592\ttotal: 766ms\tremaining: 3.9s\n",
      "164:\tlearn: 0.0609439\ttotal: 769ms\tremaining: 3.89s\n",
      "165:\tlearn: 0.0603934\ttotal: 773ms\tremaining: 3.88s\n",
      "166:\tlearn: 0.0598531\ttotal: 776ms\tremaining: 3.87s\n",
      "167:\tlearn: 0.0594007\ttotal: 780ms\tremaining: 3.86s\n",
      "168:\tlearn: 0.0590236\ttotal: 783ms\tremaining: 3.85s\n",
      "169:\tlearn: 0.0585515\ttotal: 787ms\tremaining: 3.84s\n",
      "170:\tlearn: 0.0580155\ttotal: 790ms\tremaining: 3.83s\n",
      "171:\tlearn: 0.0574158\ttotal: 794ms\tremaining: 3.82s\n",
      "172:\tlearn: 0.0570819\ttotal: 797ms\tremaining: 3.81s\n",
      "173:\tlearn: 0.0566797\ttotal: 801ms\tremaining: 3.8s\n",
      "174:\tlearn: 0.0564462\ttotal: 804ms\tremaining: 3.79s\n",
      "175:\tlearn: 0.0560166\ttotal: 807ms\tremaining: 3.78s\n",
      "176:\tlearn: 0.0556288\ttotal: 811ms\tremaining: 3.77s\n",
      "177:\tlearn: 0.0554158\ttotal: 814ms\tremaining: 3.76s\n",
      "178:\tlearn: 0.0551029\ttotal: 818ms\tremaining: 3.75s\n",
      "179:\tlearn: 0.0547312\ttotal: 821ms\tremaining: 3.74s\n",
      "180:\tlearn: 0.0543149\ttotal: 825ms\tremaining: 3.73s\n",
      "181:\tlearn: 0.0539400\ttotal: 828ms\tremaining: 3.72s\n",
      "182:\tlearn: 0.0535081\ttotal: 831ms\tremaining: 3.71s\n",
      "183:\tlearn: 0.0530610\ttotal: 835ms\tremaining: 3.7s\n",
      "184:\tlearn: 0.0527849\ttotal: 838ms\tremaining: 3.69s\n",
      "185:\tlearn: 0.0523848\ttotal: 842ms\tremaining: 3.68s\n",
      "186:\tlearn: 0.0520729\ttotal: 845ms\tremaining: 3.67s\n",
      "187:\tlearn: 0.0517938\ttotal: 849ms\tremaining: 3.67s\n",
      "188:\tlearn: 0.0514569\ttotal: 852ms\tremaining: 3.66s\n",
      "189:\tlearn: 0.0510901\ttotal: 856ms\tremaining: 3.65s\n",
      "190:\tlearn: 0.0507295\ttotal: 859ms\tremaining: 3.64s\n",
      "191:\tlearn: 0.0503707\ttotal: 863ms\tremaining: 3.63s\n",
      "192:\tlearn: 0.0500555\ttotal: 866ms\tremaining: 3.62s\n",
      "193:\tlearn: 0.0496720\ttotal: 870ms\tremaining: 3.61s\n",
      "194:\tlearn: 0.0494638\ttotal: 874ms\tremaining: 3.61s\n",
      "195:\tlearn: 0.0491733\ttotal: 878ms\tremaining: 3.6s\n",
      "196:\tlearn: 0.0487659\ttotal: 881ms\tremaining: 3.59s\n",
      "197:\tlearn: 0.0484447\ttotal: 885ms\tremaining: 3.58s\n",
      "198:\tlearn: 0.0480364\ttotal: 889ms\tremaining: 3.58s\n",
      "199:\tlearn: 0.0476830\ttotal: 892ms\tremaining: 3.57s\n",
      "200:\tlearn: 0.0473426\ttotal: 896ms\tremaining: 3.56s\n",
      "201:\tlearn: 0.0470615\ttotal: 900ms\tremaining: 3.55s\n",
      "202:\tlearn: 0.0467585\ttotal: 903ms\tremaining: 3.54s\n",
      "203:\tlearn: 0.0463784\ttotal: 907ms\tremaining: 3.54s\n",
      "204:\tlearn: 0.0461398\ttotal: 910ms\tremaining: 3.53s\n",
      "205:\tlearn: 0.0459122\ttotal: 914ms\tremaining: 3.52s\n",
      "206:\tlearn: 0.0455435\ttotal: 917ms\tremaining: 3.51s\n",
      "207:\tlearn: 0.0452503\ttotal: 921ms\tremaining: 3.5s\n",
      "208:\tlearn: 0.0449444\ttotal: 924ms\tremaining: 3.5s\n",
      "209:\tlearn: 0.0447014\ttotal: 928ms\tremaining: 3.49s\n",
      "210:\tlearn: 0.0444519\ttotal: 931ms\tremaining: 3.48s\n",
      "211:\tlearn: 0.0442573\ttotal: 935ms\tremaining: 3.47s\n",
      "212:\tlearn: 0.0438399\ttotal: 938ms\tremaining: 3.47s\n",
      "213:\tlearn: 0.0435647\ttotal: 942ms\tremaining: 3.46s\n",
      "214:\tlearn: 0.0434136\ttotal: 945ms\tremaining: 3.45s\n",
      "215:\tlearn: 0.0431803\ttotal: 949ms\tremaining: 3.44s\n",
      "216:\tlearn: 0.0428822\ttotal: 952ms\tremaining: 3.44s\n",
      "217:\tlearn: 0.0426537\ttotal: 956ms\tremaining: 3.43s\n",
      "218:\tlearn: 0.0423925\ttotal: 959ms\tremaining: 3.42s\n",
      "219:\tlearn: 0.0420988\ttotal: 962ms\tremaining: 3.41s\n",
      "220:\tlearn: 0.0419214\ttotal: 966ms\tremaining: 3.4s\n",
      "221:\tlearn: 0.0416289\ttotal: 969ms\tremaining: 3.4s\n",
      "222:\tlearn: 0.0412146\ttotal: 973ms\tremaining: 3.39s\n",
      "223:\tlearn: 0.0409281\ttotal: 976ms\tremaining: 3.38s\n",
      "224:\tlearn: 0.0406266\ttotal: 980ms\tremaining: 3.37s\n",
      "225:\tlearn: 0.0404237\ttotal: 983ms\tremaining: 3.37s\n",
      "226:\tlearn: 0.0402024\ttotal: 987ms\tremaining: 3.36s\n",
      "227:\tlearn: 0.0399930\ttotal: 990ms\tremaining: 3.35s\n",
      "228:\tlearn: 0.0398083\ttotal: 994ms\tremaining: 3.35s\n",
      "229:\tlearn: 0.0396148\ttotal: 997ms\tremaining: 3.34s\n",
      "230:\tlearn: 0.0393987\ttotal: 1s\tremaining: 3.33s\n",
      "231:\tlearn: 0.0392526\ttotal: 1s\tremaining: 3.32s\n",
      "232:\tlearn: 0.0390813\ttotal: 1.01s\tremaining: 3.32s\n",
      "233:\tlearn: 0.0388628\ttotal: 1.01s\tremaining: 3.31s\n",
      "234:\tlearn: 0.0386433\ttotal: 1.01s\tremaining: 3.3s\n",
      "235:\tlearn: 0.0383663\ttotal: 1.02s\tremaining: 3.3s\n",
      "236:\tlearn: 0.0380874\ttotal: 1.02s\tremaining: 3.29s\n",
      "237:\tlearn: 0.0379409\ttotal: 1.02s\tremaining: 3.28s\n",
      "238:\tlearn: 0.0377455\ttotal: 1.03s\tremaining: 3.28s\n",
      "239:\tlearn: 0.0375778\ttotal: 1.03s\tremaining: 3.27s\n",
      "240:\tlearn: 0.0373701\ttotal: 1.03s\tremaining: 3.26s\n",
      "241:\tlearn: 0.0371360\ttotal: 1.04s\tremaining: 3.26s\n",
      "242:\tlearn: 0.0369964\ttotal: 1.04s\tremaining: 3.25s\n",
      "243:\tlearn: 0.0367739\ttotal: 1.05s\tremaining: 3.24s\n",
      "244:\tlearn: 0.0365814\ttotal: 1.05s\tremaining: 3.24s\n",
      "245:\tlearn: 0.0364125\ttotal: 1.05s\tremaining: 3.23s\n",
      "246:\tlearn: 0.0361898\ttotal: 1.06s\tremaining: 3.23s\n",
      "247:\tlearn: 0.0358699\ttotal: 1.06s\tremaining: 3.22s\n",
      "248:\tlearn: 0.0357390\ttotal: 1.06s\tremaining: 3.21s\n",
      "249:\tlearn: 0.0354605\ttotal: 1.07s\tremaining: 3.21s\n",
      "250:\tlearn: 0.0352935\ttotal: 1.07s\tremaining: 3.2s\n",
      "251:\tlearn: 0.0351430\ttotal: 1.07s\tremaining: 3.19s\n",
      "252:\tlearn: 0.0349419\ttotal: 1.08s\tremaining: 3.19s\n",
      "253:\tlearn: 0.0347422\ttotal: 1.08s\tremaining: 3.18s\n",
      "254:\tlearn: 0.0345834\ttotal: 1.09s\tremaining: 3.17s\n",
      "255:\tlearn: 0.0344543\ttotal: 1.09s\tremaining: 3.17s\n",
      "256:\tlearn: 0.0342977\ttotal: 1.09s\tremaining: 3.16s\n",
      "257:\tlearn: 0.0341699\ttotal: 1.1s\tremaining: 3.15s\n",
      "258:\tlearn: 0.0340170\ttotal: 1.1s\tremaining: 3.15s\n",
      "259:\tlearn: 0.0337698\ttotal: 1.1s\tremaining: 3.14s\n",
      "260:\tlearn: 0.0336232\ttotal: 1.11s\tremaining: 3.14s\n",
      "261:\tlearn: 0.0334532\ttotal: 1.11s\tremaining: 3.13s\n",
      "262:\tlearn: 0.0333039\ttotal: 1.11s\tremaining: 3.12s\n",
      "263:\tlearn: 0.0331444\ttotal: 1.12s\tremaining: 3.12s\n",
      "264:\tlearn: 0.0329582\ttotal: 1.12s\tremaining: 3.11s\n",
      "265:\tlearn: 0.0327989\ttotal: 1.13s\tremaining: 3.1s\n",
      "266:\tlearn: 0.0325763\ttotal: 1.13s\tremaining: 3.1s\n",
      "267:\tlearn: 0.0323731\ttotal: 1.13s\tremaining: 3.09s\n",
      "268:\tlearn: 0.0321650\ttotal: 1.14s\tremaining: 3.08s\n",
      "269:\tlearn: 0.0321015\ttotal: 1.14s\tremaining: 3.08s\n",
      "270:\tlearn: 0.0319078\ttotal: 1.14s\tremaining: 3.07s\n",
      "271:\tlearn: 0.0317723\ttotal: 1.15s\tremaining: 3.07s\n",
      "272:\tlearn: 0.0316219\ttotal: 1.15s\tremaining: 3.06s\n",
      "273:\tlearn: 0.0314764\ttotal: 1.15s\tremaining: 3.05s\n",
      "274:\tlearn: 0.0312649\ttotal: 1.16s\tremaining: 3.05s\n",
      "275:\tlearn: 0.0311837\ttotal: 1.16s\tremaining: 3.04s\n",
      "276:\tlearn: 0.0310770\ttotal: 1.16s\tremaining: 3.04s\n",
      "277:\tlearn: 0.0310078\ttotal: 1.17s\tremaining: 3.03s\n",
      "278:\tlearn: 0.0309039\ttotal: 1.17s\tremaining: 3.02s\n",
      "279:\tlearn: 0.0307779\ttotal: 1.17s\tremaining: 3.02s\n",
      "280:\tlearn: 0.0306030\ttotal: 1.18s\tremaining: 3.01s\n",
      "281:\tlearn: 0.0304709\ttotal: 1.18s\tremaining: 3s\n",
      "282:\tlearn: 0.0303354\ttotal: 1.18s\tremaining: 3s\n",
      "283:\tlearn: 0.0301300\ttotal: 1.19s\tremaining: 2.99s\n",
      "284:\tlearn: 0.0300383\ttotal: 1.19s\tremaining: 2.99s\n",
      "285:\tlearn: 0.0299641\ttotal: 1.19s\tremaining: 2.98s\n",
      "286:\tlearn: 0.0298504\ttotal: 1.2s\tremaining: 2.98s\n",
      "287:\tlearn: 0.0297260\ttotal: 1.2s\tremaining: 2.97s\n",
      "288:\tlearn: 0.0296706\ttotal: 1.2s\tremaining: 2.96s\n",
      "289:\tlearn: 0.0295656\ttotal: 1.21s\tremaining: 2.96s\n",
      "290:\tlearn: 0.0294408\ttotal: 1.21s\tremaining: 2.95s\n",
      "291:\tlearn: 0.0293045\ttotal: 1.22s\tremaining: 2.95s\n",
      "292:\tlearn: 0.0292015\ttotal: 1.22s\tremaining: 2.94s\n",
      "293:\tlearn: 0.0291208\ttotal: 1.22s\tremaining: 2.93s\n",
      "294:\tlearn: 0.0289891\ttotal: 1.23s\tremaining: 2.93s\n",
      "295:\tlearn: 0.0288671\ttotal: 1.23s\tremaining: 2.92s\n",
      "296:\tlearn: 0.0287037\ttotal: 1.23s\tremaining: 2.92s\n",
      "297:\tlearn: 0.0285981\ttotal: 1.24s\tremaining: 2.91s\n",
      "298:\tlearn: 0.0285296\ttotal: 1.24s\tremaining: 2.9s\n",
      "299:\tlearn: 0.0283932\ttotal: 1.24s\tremaining: 2.9s\n",
      "300:\tlearn: 0.0282277\ttotal: 1.25s\tremaining: 2.89s\n",
      "301:\tlearn: 0.0281267\ttotal: 1.25s\tremaining: 2.89s\n",
      "302:\tlearn: 0.0280527\ttotal: 1.25s\tremaining: 2.88s\n",
      "303:\tlearn: 0.0279573\ttotal: 1.26s\tremaining: 2.88s\n",
      "304:\tlearn: 0.0277778\ttotal: 1.26s\tremaining: 2.87s\n",
      "305:\tlearn: 0.0276860\ttotal: 1.26s\tremaining: 2.87s\n",
      "306:\tlearn: 0.0275574\ttotal: 1.27s\tremaining: 2.86s\n",
      "307:\tlearn: 0.0274465\ttotal: 1.27s\tremaining: 2.85s\n",
      "308:\tlearn: 0.0272955\ttotal: 1.27s\tremaining: 2.85s\n",
      "309:\tlearn: 0.0271411\ttotal: 1.28s\tremaining: 2.84s\n",
      "310:\tlearn: 0.0270114\ttotal: 1.28s\tremaining: 2.84s\n",
      "311:\tlearn: 0.0269384\ttotal: 1.28s\tremaining: 2.83s\n",
      "312:\tlearn: 0.0268098\ttotal: 1.29s\tremaining: 2.83s\n",
      "313:\tlearn: 0.0266889\ttotal: 1.29s\tremaining: 2.83s\n",
      "314:\tlearn: 0.0265361\ttotal: 1.3s\tremaining: 2.82s\n",
      "315:\tlearn: 0.0264163\ttotal: 1.3s\tremaining: 2.81s\n",
      "316:\tlearn: 0.0263305\ttotal: 1.3s\tremaining: 2.81s\n",
      "317:\tlearn: 0.0262104\ttotal: 1.31s\tremaining: 2.8s\n",
      "318:\tlearn: 0.0261112\ttotal: 1.31s\tremaining: 2.8s\n",
      "319:\tlearn: 0.0259733\ttotal: 1.31s\tremaining: 2.79s\n",
      "320:\tlearn: 0.0258515\ttotal: 1.32s\tremaining: 2.79s\n",
      "321:\tlearn: 0.0257833\ttotal: 1.32s\tremaining: 2.78s\n",
      "322:\tlearn: 0.0256828\ttotal: 1.32s\tremaining: 2.78s\n",
      "323:\tlearn: 0.0255763\ttotal: 1.33s\tremaining: 2.77s\n",
      "324:\tlearn: 0.0255147\ttotal: 1.33s\tremaining: 2.77s\n",
      "325:\tlearn: 0.0253697\ttotal: 1.33s\tremaining: 2.76s\n",
      "326:\tlearn: 0.0253216\ttotal: 1.34s\tremaining: 2.76s\n",
      "327:\tlearn: 0.0251895\ttotal: 1.34s\tremaining: 2.75s\n",
      "328:\tlearn: 0.0250963\ttotal: 1.34s\tremaining: 2.75s\n",
      "329:\tlearn: 0.0250337\ttotal: 1.35s\tremaining: 2.74s\n",
      "330:\tlearn: 0.0249663\ttotal: 1.35s\tremaining: 2.73s\n",
      "331:\tlearn: 0.0248622\ttotal: 1.36s\tremaining: 2.73s\n",
      "332:\tlearn: 0.0247643\ttotal: 1.36s\tremaining: 2.72s\n",
      "333:\tlearn: 0.0246798\ttotal: 1.36s\tremaining: 2.72s\n",
      "334:\tlearn: 0.0246040\ttotal: 1.37s\tremaining: 2.71s\n",
      "335:\tlearn: 0.0245563\ttotal: 1.37s\tremaining: 2.71s\n",
      "336:\tlearn: 0.0244505\ttotal: 1.37s\tremaining: 2.7s\n",
      "337:\tlearn: 0.0243780\ttotal: 1.38s\tremaining: 2.7s\n",
      "338:\tlearn: 0.0242591\ttotal: 1.38s\tremaining: 2.69s\n",
      "339:\tlearn: 0.0242015\ttotal: 1.38s\tremaining: 2.69s\n",
      "340:\tlearn: 0.0241034\ttotal: 1.39s\tremaining: 2.68s\n",
      "341:\tlearn: 0.0239932\ttotal: 1.39s\tremaining: 2.67s\n",
      "342:\tlearn: 0.0238803\ttotal: 1.39s\tremaining: 2.67s\n",
      "343:\tlearn: 0.0237471\ttotal: 1.4s\tremaining: 2.67s\n",
      "344:\tlearn: 0.0237240\ttotal: 1.4s\tremaining: 2.66s\n",
      "345:\tlearn: 0.0236441\ttotal: 1.4s\tremaining: 2.65s\n",
      "346:\tlearn: 0.0235302\ttotal: 1.41s\tremaining: 2.65s\n",
      "347:\tlearn: 0.0234250\ttotal: 1.41s\tremaining: 2.65s\n",
      "348:\tlearn: 0.0233287\ttotal: 1.42s\tremaining: 2.64s\n",
      "349:\tlearn: 0.0232342\ttotal: 1.42s\tremaining: 2.63s\n",
      "350:\tlearn: 0.0231015\ttotal: 1.42s\tremaining: 2.63s\n",
      "351:\tlearn: 0.0230267\ttotal: 1.43s\tremaining: 2.63s\n",
      "352:\tlearn: 0.0229398\ttotal: 1.43s\tremaining: 2.62s\n",
      "353:\tlearn: 0.0228541\ttotal: 1.43s\tremaining: 2.62s\n",
      "354:\tlearn: 0.0227618\ttotal: 1.44s\tremaining: 2.61s\n",
      "355:\tlearn: 0.0227024\ttotal: 1.44s\tremaining: 2.6s\n",
      "356:\tlearn: 0.0226137\ttotal: 1.44s\tremaining: 2.6s\n",
      "357:\tlearn: 0.0225152\ttotal: 1.45s\tremaining: 2.6s\n",
      "358:\tlearn: 0.0224420\ttotal: 1.45s\tremaining: 2.59s\n",
      "359:\tlearn: 0.0223534\ttotal: 1.45s\tremaining: 2.58s\n",
      "360:\tlearn: 0.0222670\ttotal: 1.46s\tremaining: 2.58s\n",
      "361:\tlearn: 0.0222051\ttotal: 1.46s\tremaining: 2.58s\n",
      "362:\tlearn: 0.0221618\ttotal: 1.46s\tremaining: 2.57s\n",
      "363:\tlearn: 0.0220697\ttotal: 1.47s\tremaining: 2.56s\n",
      "364:\tlearn: 0.0219892\ttotal: 1.47s\tremaining: 2.56s\n",
      "365:\tlearn: 0.0219356\ttotal: 1.48s\tremaining: 2.56s\n",
      "366:\tlearn: 0.0218583\ttotal: 1.48s\tremaining: 2.55s\n",
      "367:\tlearn: 0.0217658\ttotal: 1.48s\tremaining: 2.54s\n",
      "368:\tlearn: 0.0216775\ttotal: 1.49s\tremaining: 2.54s\n",
      "369:\tlearn: 0.0216100\ttotal: 1.49s\tremaining: 2.54s\n",
      "370:\tlearn: 0.0215625\ttotal: 1.49s\tremaining: 2.53s\n",
      "371:\tlearn: 0.0214843\ttotal: 1.5s\tremaining: 2.52s\n",
      "372:\tlearn: 0.0213969\ttotal: 1.5s\tremaining: 2.52s\n",
      "373:\tlearn: 0.0213184\ttotal: 1.5s\tremaining: 2.52s\n",
      "374:\tlearn: 0.0212566\ttotal: 1.51s\tremaining: 2.51s\n",
      "375:\tlearn: 0.0211621\ttotal: 1.51s\tremaining: 2.51s\n",
      "376:\tlearn: 0.0211090\ttotal: 1.51s\tremaining: 2.5s\n",
      "377:\tlearn: 0.0210319\ttotal: 1.52s\tremaining: 2.5s\n",
      "378:\tlearn: 0.0209314\ttotal: 1.52s\tremaining: 2.49s\n",
      "379:\tlearn: 0.0208870\ttotal: 1.52s\tremaining: 2.49s\n",
      "380:\tlearn: 0.0208274\ttotal: 1.53s\tremaining: 2.48s\n",
      "381:\tlearn: 0.0207550\ttotal: 1.53s\tremaining: 2.48s\n",
      "382:\tlearn: 0.0206975\ttotal: 1.53s\tremaining: 2.47s\n",
      "383:\tlearn: 0.0206424\ttotal: 1.54s\tremaining: 2.47s\n",
      "384:\tlearn: 0.0205953\ttotal: 1.54s\tremaining: 2.46s\n",
      "385:\tlearn: 0.0205444\ttotal: 1.54s\tremaining: 2.46s\n",
      "386:\tlearn: 0.0204507\ttotal: 1.55s\tremaining: 2.45s\n",
      "387:\tlearn: 0.0203962\ttotal: 1.55s\tremaining: 2.45s\n",
      "388:\tlearn: 0.0203274\ttotal: 1.55s\tremaining: 2.44s\n",
      "389:\tlearn: 0.0203006\ttotal: 1.56s\tremaining: 2.44s\n",
      "390:\tlearn: 0.0202407\ttotal: 1.56s\tremaining: 2.43s\n",
      "391:\tlearn: 0.0201620\ttotal: 1.56s\tremaining: 2.43s\n",
      "392:\tlearn: 0.0201003\ttotal: 1.57s\tremaining: 2.42s\n",
      "393:\tlearn: 0.0200265\ttotal: 1.57s\tremaining: 2.42s\n",
      "394:\tlearn: 0.0199585\ttotal: 1.58s\tremaining: 2.41s\n",
      "395:\tlearn: 0.0199111\ttotal: 1.58s\tremaining: 2.41s\n",
      "396:\tlearn: 0.0198782\ttotal: 1.58s\tremaining: 2.4s\n",
      "397:\tlearn: 0.0198232\ttotal: 1.59s\tremaining: 2.4s\n",
      "398:\tlearn: 0.0197789\ttotal: 1.59s\tremaining: 2.39s\n",
      "399:\tlearn: 0.0197162\ttotal: 1.59s\tremaining: 2.39s\n",
      "400:\tlearn: 0.0196420\ttotal: 1.6s\tremaining: 2.38s\n",
      "401:\tlearn: 0.0195975\ttotal: 1.6s\tremaining: 2.38s\n",
      "402:\tlearn: 0.0195281\ttotal: 1.6s\tremaining: 2.38s\n",
      "403:\tlearn: 0.0194799\ttotal: 1.61s\tremaining: 2.37s\n",
      "404:\tlearn: 0.0194308\ttotal: 1.61s\tremaining: 2.37s\n",
      "405:\tlearn: 0.0193465\ttotal: 1.61s\tremaining: 2.36s\n",
      "406:\tlearn: 0.0192809\ttotal: 1.62s\tremaining: 2.36s\n",
      "407:\tlearn: 0.0192278\ttotal: 1.62s\tremaining: 2.35s\n",
      "408:\tlearn: 0.0191690\ttotal: 1.62s\tremaining: 2.35s\n",
      "409:\tlearn: 0.0191121\ttotal: 1.63s\tremaining: 2.34s\n",
      "410:\tlearn: 0.0190429\ttotal: 1.63s\tremaining: 2.34s\n",
      "411:\tlearn: 0.0189940\ttotal: 1.63s\tremaining: 2.33s\n",
      "412:\tlearn: 0.0189157\ttotal: 1.64s\tremaining: 2.33s\n",
      "413:\tlearn: 0.0188411\ttotal: 1.64s\tremaining: 2.32s\n",
      "414:\tlearn: 0.0187662\ttotal: 1.64s\tremaining: 2.32s\n",
      "415:\tlearn: 0.0187245\ttotal: 1.65s\tremaining: 2.31s\n",
      "416:\tlearn: 0.0186672\ttotal: 1.65s\tremaining: 2.31s\n",
      "417:\tlearn: 0.0185811\ttotal: 1.66s\tremaining: 2.3s\n",
      "418:\tlearn: 0.0185464\ttotal: 1.66s\tremaining: 2.3s\n",
      "419:\tlearn: 0.0185050\ttotal: 1.66s\tremaining: 2.29s\n",
      "420:\tlearn: 0.0183977\ttotal: 1.67s\tremaining: 2.29s\n",
      "421:\tlearn: 0.0183460\ttotal: 1.67s\tremaining: 2.29s\n",
      "422:\tlearn: 0.0182820\ttotal: 1.67s\tremaining: 2.28s\n",
      "423:\tlearn: 0.0182314\ttotal: 1.68s\tremaining: 2.28s\n",
      "424:\tlearn: 0.0181894\ttotal: 1.68s\tremaining: 2.27s\n",
      "425:\tlearn: 0.0181165\ttotal: 1.68s\tremaining: 2.27s\n",
      "426:\tlearn: 0.0180830\ttotal: 1.69s\tremaining: 2.26s\n",
      "427:\tlearn: 0.0180009\ttotal: 1.69s\tremaining: 2.26s\n",
      "428:\tlearn: 0.0179465\ttotal: 1.69s\tremaining: 2.25s\n",
      "429:\tlearn: 0.0178910\ttotal: 1.7s\tremaining: 2.25s\n",
      "430:\tlearn: 0.0178342\ttotal: 1.7s\tremaining: 2.25s\n",
      "431:\tlearn: 0.0177882\ttotal: 1.7s\tremaining: 2.24s\n",
      "432:\tlearn: 0.0177137\ttotal: 1.71s\tremaining: 2.24s\n",
      "433:\tlearn: 0.0176694\ttotal: 1.71s\tremaining: 2.23s\n",
      "434:\tlearn: 0.0176083\ttotal: 1.71s\tremaining: 2.23s\n",
      "435:\tlearn: 0.0175551\ttotal: 1.72s\tremaining: 2.22s\n",
      "436:\tlearn: 0.0175118\ttotal: 1.72s\tremaining: 2.22s\n",
      "437:\tlearn: 0.0174613\ttotal: 1.73s\tremaining: 2.21s\n",
      "438:\tlearn: 0.0174433\ttotal: 1.73s\tremaining: 2.21s\n",
      "439:\tlearn: 0.0173881\ttotal: 1.73s\tremaining: 2.2s\n",
      "440:\tlearn: 0.0173061\ttotal: 1.74s\tremaining: 2.2s\n",
      "441:\tlearn: 0.0172618\ttotal: 1.74s\tremaining: 2.19s\n",
      "442:\tlearn: 0.0172020\ttotal: 1.74s\tremaining: 2.19s\n",
      "443:\tlearn: 0.0171596\ttotal: 1.75s\tremaining: 2.19s\n",
      "444:\tlearn: 0.0171018\ttotal: 1.75s\tremaining: 2.18s\n",
      "445:\tlearn: 0.0170743\ttotal: 1.75s\tremaining: 2.18s\n",
      "446:\tlearn: 0.0170347\ttotal: 1.76s\tremaining: 2.17s\n",
      "447:\tlearn: 0.0169965\ttotal: 1.76s\tremaining: 2.17s\n",
      "448:\tlearn: 0.0169372\ttotal: 1.76s\tremaining: 2.17s\n",
      "449:\tlearn: 0.0168793\ttotal: 1.77s\tremaining: 2.16s\n",
      "450:\tlearn: 0.0168213\ttotal: 1.77s\tremaining: 2.16s\n",
      "451:\tlearn: 0.0167851\ttotal: 1.77s\tremaining: 2.15s\n",
      "452:\tlearn: 0.0167534\ttotal: 1.78s\tremaining: 2.15s\n",
      "453:\tlearn: 0.0166879\ttotal: 1.78s\tremaining: 2.14s\n",
      "454:\tlearn: 0.0166320\ttotal: 1.78s\tremaining: 2.14s\n",
      "455:\tlearn: 0.0165690\ttotal: 1.79s\tremaining: 2.13s\n",
      "456:\tlearn: 0.0165388\ttotal: 1.79s\tremaining: 2.13s\n",
      "457:\tlearn: 0.0165076\ttotal: 1.8s\tremaining: 2.13s\n",
      "458:\tlearn: 0.0164802\ttotal: 1.8s\tremaining: 2.12s\n",
      "459:\tlearn: 0.0164522\ttotal: 1.8s\tremaining: 2.12s\n",
      "460:\tlearn: 0.0164272\ttotal: 1.81s\tremaining: 2.11s\n",
      "461:\tlearn: 0.0163800\ttotal: 1.81s\tremaining: 2.11s\n",
      "462:\tlearn: 0.0163291\ttotal: 1.81s\tremaining: 2.1s\n",
      "463:\tlearn: 0.0162888\ttotal: 1.82s\tremaining: 2.1s\n",
      "464:\tlearn: 0.0162233\ttotal: 1.82s\tremaining: 2.1s\n",
      "465:\tlearn: 0.0161848\ttotal: 1.82s\tremaining: 2.09s\n",
      "466:\tlearn: 0.0161568\ttotal: 1.83s\tremaining: 2.09s\n",
      "467:\tlearn: 0.0161037\ttotal: 1.83s\tremaining: 2.08s\n",
      "468:\tlearn: 0.0160495\ttotal: 1.84s\tremaining: 2.08s\n",
      "469:\tlearn: 0.0159811\ttotal: 1.84s\tremaining: 2.08s\n",
      "470:\tlearn: 0.0159447\ttotal: 1.84s\tremaining: 2.07s\n",
      "471:\tlearn: 0.0159065\ttotal: 1.85s\tremaining: 2.07s\n",
      "472:\tlearn: 0.0158814\ttotal: 1.85s\tremaining: 2.06s\n",
      "473:\tlearn: 0.0158440\ttotal: 1.85s\tremaining: 2.06s\n",
      "474:\tlearn: 0.0157959\ttotal: 1.86s\tremaining: 2.05s\n",
      "475:\tlearn: 0.0157552\ttotal: 1.86s\tremaining: 2.05s\n",
      "476:\tlearn: 0.0157020\ttotal: 1.86s\tremaining: 2.04s\n",
      "477:\tlearn: 0.0156439\ttotal: 1.87s\tremaining: 2.04s\n",
      "478:\tlearn: 0.0155591\ttotal: 1.87s\tremaining: 2.04s\n",
      "479:\tlearn: 0.0155261\ttotal: 1.88s\tremaining: 2.03s\n",
      "480:\tlearn: 0.0154793\ttotal: 1.88s\tremaining: 2.03s\n",
      "481:\tlearn: 0.0154380\ttotal: 1.88s\tremaining: 2.02s\n",
      "482:\tlearn: 0.0153920\ttotal: 1.89s\tremaining: 2.02s\n",
      "483:\tlearn: 0.0153450\ttotal: 1.89s\tremaining: 2.02s\n",
      "484:\tlearn: 0.0153137\ttotal: 1.89s\tremaining: 2.01s\n",
      "485:\tlearn: 0.0152672\ttotal: 1.9s\tremaining: 2.01s\n",
      "486:\tlearn: 0.0152354\ttotal: 1.9s\tremaining: 2s\n",
      "487:\tlearn: 0.0151977\ttotal: 1.9s\tremaining: 2s\n",
      "488:\tlearn: 0.0151620\ttotal: 1.91s\tremaining: 1.99s\n",
      "489:\tlearn: 0.0150890\ttotal: 1.91s\tremaining: 1.99s\n",
      "490:\tlearn: 0.0150508\ttotal: 1.91s\tremaining: 1.99s\n",
      "491:\tlearn: 0.0150201\ttotal: 1.92s\tremaining: 1.98s\n",
      "492:\tlearn: 0.0149721\ttotal: 1.92s\tremaining: 1.98s\n",
      "493:\tlearn: 0.0149380\ttotal: 1.93s\tremaining: 1.97s\n",
      "494:\tlearn: 0.0149061\ttotal: 1.93s\tremaining: 1.97s\n",
      "495:\tlearn: 0.0148635\ttotal: 1.93s\tremaining: 1.96s\n",
      "496:\tlearn: 0.0148469\ttotal: 1.94s\tremaining: 1.96s\n",
      "497:\tlearn: 0.0148193\ttotal: 1.94s\tremaining: 1.95s\n",
      "498:\tlearn: 0.0147831\ttotal: 1.94s\tremaining: 1.95s\n",
      "499:\tlearn: 0.0147539\ttotal: 1.95s\tremaining: 1.95s\n",
      "500:\tlearn: 0.0147182\ttotal: 1.95s\tremaining: 1.94s\n",
      "501:\tlearn: 0.0146620\ttotal: 1.95s\tremaining: 1.94s\n",
      "502:\tlearn: 0.0146263\ttotal: 1.96s\tremaining: 1.93s\n",
      "503:\tlearn: 0.0145854\ttotal: 1.96s\tremaining: 1.93s\n",
      "504:\tlearn: 0.0145420\ttotal: 1.96s\tremaining: 1.92s\n",
      "505:\tlearn: 0.0144989\ttotal: 1.97s\tremaining: 1.92s\n",
      "506:\tlearn: 0.0144810\ttotal: 1.97s\tremaining: 1.92s\n",
      "507:\tlearn: 0.0144402\ttotal: 1.97s\tremaining: 1.91s\n",
      "508:\tlearn: 0.0144055\ttotal: 1.98s\tremaining: 1.91s\n",
      "509:\tlearn: 0.0143661\ttotal: 1.98s\tremaining: 1.9s\n",
      "510:\tlearn: 0.0143251\ttotal: 1.98s\tremaining: 1.9s\n",
      "511:\tlearn: 0.0142801\ttotal: 1.99s\tremaining: 1.89s\n",
      "512:\tlearn: 0.0142428\ttotal: 1.99s\tremaining: 1.89s\n",
      "513:\tlearn: 0.0142140\ttotal: 2s\tremaining: 1.89s\n",
      "514:\tlearn: 0.0141782\ttotal: 2s\tremaining: 1.88s\n",
      "515:\tlearn: 0.0141402\ttotal: 2s\tremaining: 1.88s\n",
      "516:\tlearn: 0.0141068\ttotal: 2.01s\tremaining: 1.87s\n",
      "517:\tlearn: 0.0140841\ttotal: 2.01s\tremaining: 1.87s\n",
      "518:\tlearn: 0.0140186\ttotal: 2.01s\tremaining: 1.87s\n",
      "519:\tlearn: 0.0139968\ttotal: 2.02s\tremaining: 1.86s\n",
      "520:\tlearn: 0.0139403\ttotal: 2.02s\tremaining: 1.86s\n",
      "521:\tlearn: 0.0138999\ttotal: 2.02s\tremaining: 1.85s\n",
      "522:\tlearn: 0.0138672\ttotal: 2.03s\tremaining: 1.85s\n",
      "523:\tlearn: 0.0138401\ttotal: 2.03s\tremaining: 1.84s\n",
      "524:\tlearn: 0.0137934\ttotal: 2.03s\tremaining: 1.84s\n",
      "525:\tlearn: 0.0137639\ttotal: 2.04s\tremaining: 1.84s\n",
      "526:\tlearn: 0.0137431\ttotal: 2.04s\tremaining: 1.83s\n",
      "527:\tlearn: 0.0137067\ttotal: 2.04s\tremaining: 1.83s\n",
      "528:\tlearn: 0.0136644\ttotal: 2.05s\tremaining: 1.82s\n",
      "529:\tlearn: 0.0136356\ttotal: 2.05s\tremaining: 1.82s\n",
      "530:\tlearn: 0.0135968\ttotal: 2.06s\tremaining: 1.81s\n",
      "531:\tlearn: 0.0135564\ttotal: 2.06s\tremaining: 1.81s\n",
      "532:\tlearn: 0.0135112\ttotal: 2.06s\tremaining: 1.81s\n",
      "533:\tlearn: 0.0134897\ttotal: 2.07s\tremaining: 1.8s\n",
      "534:\tlearn: 0.0134447\ttotal: 2.07s\tremaining: 1.8s\n",
      "535:\tlearn: 0.0134201\ttotal: 2.07s\tremaining: 1.79s\n",
      "536:\tlearn: 0.0133777\ttotal: 2.08s\tremaining: 1.79s\n",
      "537:\tlearn: 0.0133531\ttotal: 2.08s\tremaining: 1.79s\n",
      "538:\tlearn: 0.0133238\ttotal: 2.08s\tremaining: 1.78s\n",
      "539:\tlearn: 0.0133046\ttotal: 2.09s\tremaining: 1.78s\n",
      "540:\tlearn: 0.0132691\ttotal: 2.09s\tremaining: 1.77s\n",
      "541:\tlearn: 0.0132485\ttotal: 2.09s\tremaining: 1.77s\n",
      "542:\tlearn: 0.0132165\ttotal: 2.1s\tremaining: 1.76s\n",
      "543:\tlearn: 0.0131846\ttotal: 2.1s\tremaining: 1.76s\n",
      "544:\tlearn: 0.0131613\ttotal: 2.1s\tremaining: 1.76s\n",
      "545:\tlearn: 0.0131315\ttotal: 2.11s\tremaining: 1.75s\n",
      "546:\tlearn: 0.0130974\ttotal: 2.11s\tremaining: 1.75s\n",
      "547:\tlearn: 0.0130658\ttotal: 2.12s\tremaining: 1.74s\n",
      "548:\tlearn: 0.0130408\ttotal: 2.12s\tremaining: 1.74s\n",
      "549:\tlearn: 0.0130145\ttotal: 2.12s\tremaining: 1.74s\n",
      "550:\tlearn: 0.0129885\ttotal: 2.13s\tremaining: 1.73s\n",
      "551:\tlearn: 0.0129454\ttotal: 2.13s\tremaining: 1.73s\n",
      "552:\tlearn: 0.0129260\ttotal: 2.13s\tremaining: 1.72s\n",
      "553:\tlearn: 0.0128817\ttotal: 2.14s\tremaining: 1.72s\n",
      "554:\tlearn: 0.0128573\ttotal: 2.14s\tremaining: 1.72s\n",
      "555:\tlearn: 0.0128240\ttotal: 2.14s\tremaining: 1.71s\n",
      "556:\tlearn: 0.0127998\ttotal: 2.15s\tremaining: 1.71s\n",
      "557:\tlearn: 0.0127700\ttotal: 2.15s\tremaining: 1.7s\n",
      "558:\tlearn: 0.0127461\ttotal: 2.15s\tremaining: 1.7s\n",
      "559:\tlearn: 0.0127177\ttotal: 2.16s\tremaining: 1.7s\n",
      "560:\tlearn: 0.0126923\ttotal: 2.16s\tremaining: 1.69s\n",
      "561:\tlearn: 0.0126718\ttotal: 2.17s\tremaining: 1.69s\n",
      "562:\tlearn: 0.0126404\ttotal: 2.17s\tremaining: 1.68s\n",
      "563:\tlearn: 0.0126140\ttotal: 2.17s\tremaining: 1.68s\n",
      "564:\tlearn: 0.0125814\ttotal: 2.17s\tremaining: 1.68s\n",
      "565:\tlearn: 0.0125575\ttotal: 2.18s\tremaining: 1.67s\n",
      "566:\tlearn: 0.0125321\ttotal: 2.18s\tremaining: 1.67s\n",
      "567:\tlearn: 0.0125013\ttotal: 2.19s\tremaining: 1.66s\n",
      "568:\tlearn: 0.0124812\ttotal: 2.19s\tremaining: 1.66s\n",
      "569:\tlearn: 0.0124561\ttotal: 2.19s\tremaining: 1.65s\n",
      "570:\tlearn: 0.0124277\ttotal: 2.2s\tremaining: 1.65s\n",
      "571:\tlearn: 0.0124069\ttotal: 2.2s\tremaining: 1.65s\n",
      "572:\tlearn: 0.0123719\ttotal: 2.2s\tremaining: 1.64s\n",
      "573:\tlearn: 0.0123417\ttotal: 2.21s\tremaining: 1.64s\n",
      "574:\tlearn: 0.0123172\ttotal: 2.21s\tremaining: 1.63s\n",
      "575:\tlearn: 0.0122821\ttotal: 2.21s\tremaining: 1.63s\n",
      "576:\tlearn: 0.0122434\ttotal: 2.22s\tremaining: 1.63s\n",
      "577:\tlearn: 0.0122105\ttotal: 2.22s\tremaining: 1.62s\n",
      "578:\tlearn: 0.0121727\ttotal: 2.22s\tremaining: 1.62s\n",
      "579:\tlearn: 0.0121418\ttotal: 2.23s\tremaining: 1.61s\n",
      "580:\tlearn: 0.0121140\ttotal: 2.23s\tremaining: 1.61s\n",
      "581:\tlearn: 0.0120885\ttotal: 2.23s\tremaining: 1.6s\n",
      "582:\tlearn: 0.0120522\ttotal: 2.24s\tremaining: 1.6s\n",
      "583:\tlearn: 0.0120197\ttotal: 2.24s\tremaining: 1.6s\n",
      "584:\tlearn: 0.0119956\ttotal: 2.24s\tremaining: 1.59s\n",
      "585:\tlearn: 0.0119718\ttotal: 2.25s\tremaining: 1.59s\n",
      "586:\tlearn: 0.0119385\ttotal: 2.25s\tremaining: 1.58s\n",
      "587:\tlearn: 0.0119148\ttotal: 2.25s\tremaining: 1.58s\n",
      "588:\tlearn: 0.0118881\ttotal: 2.26s\tremaining: 1.58s\n",
      "589:\tlearn: 0.0118554\ttotal: 2.26s\tremaining: 1.57s\n",
      "590:\tlearn: 0.0118294\ttotal: 2.27s\tremaining: 1.57s\n",
      "591:\tlearn: 0.0117950\ttotal: 2.27s\tremaining: 1.56s\n",
      "592:\tlearn: 0.0117754\ttotal: 2.27s\tremaining: 1.56s\n",
      "593:\tlearn: 0.0117610\ttotal: 2.28s\tremaining: 1.56s\n",
      "594:\tlearn: 0.0117318\ttotal: 2.28s\tremaining: 1.55s\n",
      "595:\tlearn: 0.0117066\ttotal: 2.28s\tremaining: 1.55s\n",
      "596:\tlearn: 0.0116762\ttotal: 2.29s\tremaining: 1.54s\n",
      "597:\tlearn: 0.0116613\ttotal: 2.29s\tremaining: 1.54s\n",
      "598:\tlearn: 0.0116243\ttotal: 2.3s\tremaining: 1.54s\n",
      "599:\tlearn: 0.0116056\ttotal: 2.3s\tremaining: 1.53s\n",
      "600:\tlearn: 0.0115879\ttotal: 2.3s\tremaining: 1.53s\n",
      "601:\tlearn: 0.0115600\ttotal: 2.31s\tremaining: 1.52s\n",
      "602:\tlearn: 0.0115293\ttotal: 2.31s\tremaining: 1.52s\n",
      "603:\tlearn: 0.0114917\ttotal: 2.31s\tremaining: 1.52s\n",
      "604:\tlearn: 0.0114719\ttotal: 2.32s\tremaining: 1.51s\n",
      "605:\tlearn: 0.0114517\ttotal: 2.32s\tremaining: 1.51s\n",
      "606:\tlearn: 0.0114219\ttotal: 2.32s\tremaining: 1.5s\n",
      "607:\tlearn: 0.0114054\ttotal: 2.33s\tremaining: 1.5s\n",
      "608:\tlearn: 0.0113880\ttotal: 2.33s\tremaining: 1.5s\n",
      "609:\tlearn: 0.0113756\ttotal: 2.33s\tremaining: 1.49s\n",
      "610:\tlearn: 0.0113605\ttotal: 2.34s\tremaining: 1.49s\n",
      "611:\tlearn: 0.0113481\ttotal: 2.34s\tremaining: 1.48s\n",
      "612:\tlearn: 0.0113150\ttotal: 2.34s\tremaining: 1.48s\n",
      "613:\tlearn: 0.0112925\ttotal: 2.35s\tremaining: 1.48s\n",
      "614:\tlearn: 0.0112638\ttotal: 2.35s\tremaining: 1.47s\n",
      "615:\tlearn: 0.0112328\ttotal: 2.35s\tremaining: 1.47s\n",
      "616:\tlearn: 0.0112105\ttotal: 2.36s\tremaining: 1.46s\n",
      "617:\tlearn: 0.0112035\ttotal: 2.36s\tremaining: 1.46s\n",
      "618:\tlearn: 0.0111875\ttotal: 2.37s\tremaining: 1.46s\n",
      "619:\tlearn: 0.0111695\ttotal: 2.37s\tremaining: 1.45s\n",
      "620:\tlearn: 0.0111522\ttotal: 2.37s\tremaining: 1.45s\n",
      "621:\tlearn: 0.0111348\ttotal: 2.38s\tremaining: 1.44s\n",
      "622:\tlearn: 0.0111083\ttotal: 2.38s\tremaining: 1.44s\n",
      "623:\tlearn: 0.0110697\ttotal: 2.38s\tremaining: 1.44s\n",
      "624:\tlearn: 0.0110499\ttotal: 2.39s\tremaining: 1.43s\n",
      "625:\tlearn: 0.0110260\ttotal: 2.39s\tremaining: 1.43s\n",
      "626:\tlearn: 0.0110059\ttotal: 2.39s\tremaining: 1.42s\n",
      "627:\tlearn: 0.0109836\ttotal: 2.4s\tremaining: 1.42s\n",
      "628:\tlearn: 0.0109727\ttotal: 2.4s\tremaining: 1.42s\n",
      "629:\tlearn: 0.0109668\ttotal: 2.4s\tremaining: 1.41s\n",
      "630:\tlearn: 0.0109487\ttotal: 2.41s\tremaining: 1.41s\n",
      "631:\tlearn: 0.0109343\ttotal: 2.41s\tremaining: 1.4s\n",
      "632:\tlearn: 0.0109214\ttotal: 2.42s\tremaining: 1.4s\n",
      "633:\tlearn: 0.0109056\ttotal: 2.42s\tremaining: 1.4s\n",
      "634:\tlearn: 0.0108896\ttotal: 2.42s\tremaining: 1.39s\n",
      "635:\tlearn: 0.0108663\ttotal: 2.43s\tremaining: 1.39s\n",
      "636:\tlearn: 0.0108363\ttotal: 2.43s\tremaining: 1.39s\n",
      "637:\tlearn: 0.0108231\ttotal: 2.44s\tremaining: 1.38s\n",
      "638:\tlearn: 0.0108028\ttotal: 2.44s\tremaining: 1.38s\n",
      "639:\tlearn: 0.0107732\ttotal: 2.44s\tremaining: 1.38s\n",
      "640:\tlearn: 0.0107530\ttotal: 2.45s\tremaining: 1.37s\n",
      "641:\tlearn: 0.0107284\ttotal: 2.45s\tremaining: 1.37s\n",
      "642:\tlearn: 0.0107064\ttotal: 2.46s\tremaining: 1.36s\n",
      "643:\tlearn: 0.0106896\ttotal: 2.46s\tremaining: 1.36s\n",
      "644:\tlearn: 0.0106649\ttotal: 2.46s\tremaining: 1.35s\n",
      "645:\tlearn: 0.0106420\ttotal: 2.47s\tremaining: 1.35s\n",
      "646:\tlearn: 0.0106209\ttotal: 2.47s\tremaining: 1.35s\n",
      "647:\tlearn: 0.0105960\ttotal: 2.47s\tremaining: 1.34s\n",
      "648:\tlearn: 0.0105756\ttotal: 2.48s\tremaining: 1.34s\n",
      "649:\tlearn: 0.0105567\ttotal: 2.48s\tremaining: 1.34s\n",
      "650:\tlearn: 0.0105311\ttotal: 2.48s\tremaining: 1.33s\n",
      "651:\tlearn: 0.0105070\ttotal: 2.49s\tremaining: 1.33s\n",
      "652:\tlearn: 0.0104922\ttotal: 2.49s\tremaining: 1.32s\n",
      "653:\tlearn: 0.0104729\ttotal: 2.5s\tremaining: 1.32s\n",
      "654:\tlearn: 0.0104607\ttotal: 2.5s\tremaining: 1.32s\n",
      "655:\tlearn: 0.0104537\ttotal: 2.5s\tremaining: 1.31s\n",
      "656:\tlearn: 0.0104392\ttotal: 2.51s\tremaining: 1.31s\n",
      "657:\tlearn: 0.0104194\ttotal: 2.51s\tremaining: 1.3s\n",
      "658:\tlearn: 0.0103958\ttotal: 2.51s\tremaining: 1.3s\n",
      "659:\tlearn: 0.0103794\ttotal: 2.52s\tremaining: 1.3s\n",
      "660:\tlearn: 0.0103523\ttotal: 2.52s\tremaining: 1.29s\n",
      "661:\tlearn: 0.0103310\ttotal: 2.52s\tremaining: 1.29s\n",
      "662:\tlearn: 0.0103081\ttotal: 2.53s\tremaining: 1.28s\n",
      "663:\tlearn: 0.0102855\ttotal: 2.53s\tremaining: 1.28s\n",
      "664:\tlearn: 0.0102698\ttotal: 2.54s\tremaining: 1.28s\n",
      "665:\tlearn: 0.0102563\ttotal: 2.54s\tremaining: 1.27s\n",
      "666:\tlearn: 0.0102334\ttotal: 2.54s\tremaining: 1.27s\n",
      "667:\tlearn: 0.0102051\ttotal: 2.55s\tremaining: 1.26s\n",
      "668:\tlearn: 0.0101868\ttotal: 2.55s\tremaining: 1.26s\n",
      "669:\tlearn: 0.0101697\ttotal: 2.55s\tremaining: 1.26s\n",
      "670:\tlearn: 0.0101520\ttotal: 2.56s\tremaining: 1.25s\n",
      "671:\tlearn: 0.0101277\ttotal: 2.56s\tremaining: 1.25s\n",
      "672:\tlearn: 0.0101221\ttotal: 2.56s\tremaining: 1.25s\n",
      "673:\tlearn: 0.0101131\ttotal: 2.57s\tremaining: 1.24s\n",
      "674:\tlearn: 0.0100956\ttotal: 2.57s\tremaining: 1.24s\n",
      "675:\tlearn: 0.0100839\ttotal: 2.57s\tremaining: 1.23s\n",
      "676:\tlearn: 0.0100657\ttotal: 2.58s\tremaining: 1.23s\n",
      "677:\tlearn: 0.0100470\ttotal: 2.58s\tremaining: 1.23s\n",
      "678:\tlearn: 0.0100337\ttotal: 2.58s\tremaining: 1.22s\n",
      "679:\tlearn: 0.0100046\ttotal: 2.59s\tremaining: 1.22s\n",
      "680:\tlearn: 0.0099860\ttotal: 2.59s\tremaining: 1.21s\n",
      "681:\tlearn: 0.0099610\ttotal: 2.6s\tremaining: 1.21s\n",
      "682:\tlearn: 0.0099432\ttotal: 2.6s\tremaining: 1.21s\n",
      "683:\tlearn: 0.0099257\ttotal: 2.6s\tremaining: 1.2s\n",
      "684:\tlearn: 0.0099122\ttotal: 2.6s\tremaining: 1.2s\n",
      "685:\tlearn: 0.0098797\ttotal: 2.61s\tremaining: 1.19s\n",
      "686:\tlearn: 0.0098535\ttotal: 2.61s\tremaining: 1.19s\n",
      "687:\tlearn: 0.0098403\ttotal: 2.62s\tremaining: 1.19s\n",
      "688:\tlearn: 0.0098169\ttotal: 2.62s\tremaining: 1.18s\n",
      "689:\tlearn: 0.0097966\ttotal: 2.62s\tremaining: 1.18s\n",
      "690:\tlearn: 0.0097742\ttotal: 2.63s\tremaining: 1.17s\n",
      "691:\tlearn: 0.0097617\ttotal: 2.63s\tremaining: 1.17s\n",
      "692:\tlearn: 0.0097451\ttotal: 2.63s\tremaining: 1.17s\n",
      "693:\tlearn: 0.0097309\ttotal: 2.64s\tremaining: 1.16s\n",
      "694:\tlearn: 0.0097085\ttotal: 2.64s\tremaining: 1.16s\n",
      "695:\tlearn: 0.0096935\ttotal: 2.64s\tremaining: 1.16s\n",
      "696:\tlearn: 0.0096688\ttotal: 2.65s\tremaining: 1.15s\n",
      "697:\tlearn: 0.0096588\ttotal: 2.65s\tremaining: 1.15s\n",
      "698:\tlearn: 0.0096302\ttotal: 2.65s\tremaining: 1.14s\n",
      "699:\tlearn: 0.0096132\ttotal: 2.66s\tremaining: 1.14s\n",
      "700:\tlearn: 0.0095972\ttotal: 2.66s\tremaining: 1.14s\n",
      "701:\tlearn: 0.0095758\ttotal: 2.67s\tremaining: 1.13s\n",
      "702:\tlearn: 0.0095568\ttotal: 2.67s\tremaining: 1.13s\n",
      "703:\tlearn: 0.0095404\ttotal: 2.67s\tremaining: 1.12s\n",
      "704:\tlearn: 0.0095279\ttotal: 2.68s\tremaining: 1.12s\n",
      "705:\tlearn: 0.0095140\ttotal: 2.68s\tremaining: 1.12s\n",
      "706:\tlearn: 0.0094955\ttotal: 2.69s\tremaining: 1.11s\n",
      "707:\tlearn: 0.0094792\ttotal: 2.69s\tremaining: 1.11s\n",
      "708:\tlearn: 0.0094593\ttotal: 2.69s\tremaining: 1.1s\n",
      "709:\tlearn: 0.0094516\ttotal: 2.7s\tremaining: 1.1s\n",
      "710:\tlearn: 0.0094318\ttotal: 2.7s\tremaining: 1.1s\n",
      "711:\tlearn: 0.0094059\ttotal: 2.7s\tremaining: 1.09s\n",
      "712:\tlearn: 0.0093796\ttotal: 2.71s\tremaining: 1.09s\n",
      "713:\tlearn: 0.0093598\ttotal: 2.71s\tremaining: 1.08s\n",
      "714:\tlearn: 0.0093389\ttotal: 2.71s\tremaining: 1.08s\n",
      "715:\tlearn: 0.0093187\ttotal: 2.72s\tremaining: 1.08s\n",
      "716:\tlearn: 0.0093030\ttotal: 2.72s\tremaining: 1.07s\n",
      "717:\tlearn: 0.0092863\ttotal: 2.73s\tremaining: 1.07s\n",
      "718:\tlearn: 0.0092737\ttotal: 2.73s\tremaining: 1.07s\n",
      "719:\tlearn: 0.0092646\ttotal: 2.73s\tremaining: 1.06s\n",
      "720:\tlearn: 0.0092508\ttotal: 2.74s\tremaining: 1.06s\n",
      "721:\tlearn: 0.0092358\ttotal: 2.74s\tremaining: 1.05s\n",
      "722:\tlearn: 0.0092192\ttotal: 2.74s\tremaining: 1.05s\n",
      "723:\tlearn: 0.0091923\ttotal: 2.75s\tremaining: 1.05s\n",
      "724:\tlearn: 0.0091799\ttotal: 2.75s\tremaining: 1.04s\n",
      "725:\tlearn: 0.0091607\ttotal: 2.75s\tremaining: 1.04s\n",
      "726:\tlearn: 0.0091512\ttotal: 2.76s\tremaining: 1.04s\n",
      "727:\tlearn: 0.0091383\ttotal: 2.76s\tremaining: 1.03s\n",
      "728:\tlearn: 0.0091071\ttotal: 2.77s\tremaining: 1.03s\n",
      "729:\tlearn: 0.0090939\ttotal: 2.77s\tremaining: 1.02s\n",
      "730:\tlearn: 0.0090801\ttotal: 2.77s\tremaining: 1.02s\n",
      "731:\tlearn: 0.0090622\ttotal: 2.78s\tremaining: 1.02s\n",
      "732:\tlearn: 0.0090429\ttotal: 2.78s\tremaining: 1.01s\n",
      "733:\tlearn: 0.0090255\ttotal: 2.79s\tremaining: 1.01s\n",
      "734:\tlearn: 0.0090061\ttotal: 2.79s\tremaining: 1s\n",
      "735:\tlearn: 0.0089881\ttotal: 2.79s\tremaining: 1s\n",
      "736:\tlearn: 0.0089696\ttotal: 2.8s\tremaining: 998ms\n",
      "737:\tlearn: 0.0089538\ttotal: 2.8s\tremaining: 994ms\n",
      "738:\tlearn: 0.0089375\ttotal: 2.8s\tremaining: 990ms\n",
      "739:\tlearn: 0.0089267\ttotal: 2.81s\tremaining: 986ms\n",
      "740:\tlearn: 0.0089120\ttotal: 2.81s\tremaining: 983ms\n",
      "741:\tlearn: 0.0089020\ttotal: 2.81s\tremaining: 979ms\n",
      "742:\tlearn: 0.0088821\ttotal: 2.82s\tremaining: 975ms\n",
      "743:\tlearn: 0.0088685\ttotal: 2.82s\tremaining: 971ms\n",
      "744:\tlearn: 0.0088488\ttotal: 2.83s\tremaining: 967ms\n",
      "745:\tlearn: 0.0088362\ttotal: 2.83s\tremaining: 964ms\n",
      "746:\tlearn: 0.0088241\ttotal: 2.83s\tremaining: 960ms\n",
      "747:\tlearn: 0.0088091\ttotal: 2.84s\tremaining: 956ms\n",
      "748:\tlearn: 0.0087921\ttotal: 2.84s\tremaining: 952ms\n",
      "749:\tlearn: 0.0087796\ttotal: 2.85s\tremaining: 948ms\n",
      "750:\tlearn: 0.0087665\ttotal: 2.85s\tremaining: 945ms\n",
      "751:\tlearn: 0.0087484\ttotal: 2.85s\tremaining: 941ms\n",
      "752:\tlearn: 0.0087339\ttotal: 2.86s\tremaining: 938ms\n",
      "753:\tlearn: 0.0087215\ttotal: 2.86s\tremaining: 934ms\n",
      "754:\tlearn: 0.0087087\ttotal: 2.87s\tremaining: 930ms\n",
      "755:\tlearn: 0.0086884\ttotal: 2.87s\tremaining: 927ms\n",
      "756:\tlearn: 0.0086731\ttotal: 2.88s\tremaining: 923ms\n",
      "757:\tlearn: 0.0086603\ttotal: 2.88s\tremaining: 919ms\n",
      "758:\tlearn: 0.0086476\ttotal: 2.88s\tremaining: 916ms\n",
      "759:\tlearn: 0.0086339\ttotal: 2.89s\tremaining: 912ms\n",
      "760:\tlearn: 0.0086157\ttotal: 2.89s\tremaining: 909ms\n",
      "761:\tlearn: 0.0086047\ttotal: 2.9s\tremaining: 905ms\n",
      "762:\tlearn: 0.0085909\ttotal: 2.9s\tremaining: 902ms\n",
      "763:\tlearn: 0.0085735\ttotal: 2.91s\tremaining: 898ms\n",
      "764:\tlearn: 0.0085701\ttotal: 2.91s\tremaining: 894ms\n",
      "765:\tlearn: 0.0085544\ttotal: 2.92s\tremaining: 891ms\n",
      "766:\tlearn: 0.0085453\ttotal: 2.92s\tremaining: 887ms\n",
      "767:\tlearn: 0.0085318\ttotal: 2.92s\tremaining: 883ms\n",
      "768:\tlearn: 0.0085157\ttotal: 2.93s\tremaining: 880ms\n",
      "769:\tlearn: 0.0085041\ttotal: 2.93s\tremaining: 876ms\n",
      "770:\tlearn: 0.0084926\ttotal: 2.94s\tremaining: 872ms\n",
      "771:\tlearn: 0.0084833\ttotal: 2.94s\tremaining: 869ms\n",
      "772:\tlearn: 0.0084703\ttotal: 2.95s\tremaining: 865ms\n",
      "773:\tlearn: 0.0084599\ttotal: 2.95s\tremaining: 862ms\n",
      "774:\tlearn: 0.0084499\ttotal: 2.95s\tremaining: 858ms\n",
      "775:\tlearn: 0.0084378\ttotal: 2.96s\tremaining: 854ms\n",
      "776:\tlearn: 0.0084289\ttotal: 2.96s\tremaining: 851ms\n",
      "777:\tlearn: 0.0084156\ttotal: 2.97s\tremaining: 847ms\n",
      "778:\tlearn: 0.0083988\ttotal: 2.97s\tremaining: 843ms\n",
      "779:\tlearn: 0.0083803\ttotal: 2.98s\tremaining: 840ms\n",
      "780:\tlearn: 0.0083692\ttotal: 2.98s\tremaining: 836ms\n",
      "781:\tlearn: 0.0083546\ttotal: 2.99s\tremaining: 833ms\n",
      "782:\tlearn: 0.0083448\ttotal: 2.99s\tremaining: 829ms\n",
      "783:\tlearn: 0.0083354\ttotal: 3s\tremaining: 826ms\n",
      "784:\tlearn: 0.0083239\ttotal: 3s\tremaining: 822ms\n",
      "785:\tlearn: 0.0083145\ttotal: 3s\tremaining: 818ms\n",
      "786:\tlearn: 0.0083025\ttotal: 3.01s\tremaining: 815ms\n",
      "787:\tlearn: 0.0082900\ttotal: 3.01s\tremaining: 811ms\n",
      "788:\tlearn: 0.0082798\ttotal: 3.02s\tremaining: 807ms\n",
      "789:\tlearn: 0.0082577\ttotal: 3.02s\tremaining: 804ms\n",
      "790:\tlearn: 0.0082362\ttotal: 3.03s\tremaining: 800ms\n",
      "791:\tlearn: 0.0082210\ttotal: 3.03s\tremaining: 797ms\n",
      "792:\tlearn: 0.0082010\ttotal: 3.04s\tremaining: 793ms\n",
      "793:\tlearn: 0.0081914\ttotal: 3.04s\tremaining: 789ms\n",
      "794:\tlearn: 0.0081778\ttotal: 3.05s\tremaining: 786ms\n",
      "795:\tlearn: 0.0081611\ttotal: 3.05s\tremaining: 782ms\n",
      "796:\tlearn: 0.0081495\ttotal: 3.06s\tremaining: 779ms\n",
      "797:\tlearn: 0.0081378\ttotal: 3.06s\tremaining: 775ms\n",
      "798:\tlearn: 0.0081275\ttotal: 3.07s\tremaining: 771ms\n",
      "799:\tlearn: 0.0081204\ttotal: 3.07s\tremaining: 768ms\n",
      "800:\tlearn: 0.0081073\ttotal: 3.08s\tremaining: 764ms\n",
      "801:\tlearn: 0.0080959\ttotal: 3.08s\tremaining: 761ms\n",
      "802:\tlearn: 0.0080836\ttotal: 3.09s\tremaining: 758ms\n",
      "803:\tlearn: 0.0080686\ttotal: 3.09s\tremaining: 754ms\n",
      "804:\tlearn: 0.0080538\ttotal: 3.1s\tremaining: 751ms\n",
      "805:\tlearn: 0.0080403\ttotal: 3.1s\tremaining: 747ms\n",
      "806:\tlearn: 0.0080248\ttotal: 3.11s\tremaining: 744ms\n",
      "807:\tlearn: 0.0080124\ttotal: 3.12s\tremaining: 741ms\n",
      "808:\tlearn: 0.0079960\ttotal: 3.12s\tremaining: 737ms\n",
      "809:\tlearn: 0.0079870\ttotal: 3.13s\tremaining: 734ms\n",
      "810:\tlearn: 0.0079725\ttotal: 3.13s\tremaining: 731ms\n",
      "811:\tlearn: 0.0079565\ttotal: 3.14s\tremaining: 727ms\n",
      "812:\tlearn: 0.0079451\ttotal: 3.15s\tremaining: 723ms\n",
      "813:\tlearn: 0.0079312\ttotal: 3.15s\tremaining: 720ms\n",
      "814:\tlearn: 0.0079203\ttotal: 3.15s\tremaining: 716ms\n",
      "815:\tlearn: 0.0079147\ttotal: 3.16s\tremaining: 713ms\n",
      "816:\tlearn: 0.0079060\ttotal: 3.17s\tremaining: 709ms\n",
      "817:\tlearn: 0.0078980\ttotal: 3.17s\tremaining: 705ms\n",
      "818:\tlearn: 0.0078885\ttotal: 3.17s\tremaining: 702ms\n",
      "819:\tlearn: 0.0078696\ttotal: 3.18s\tremaining: 698ms\n",
      "820:\tlearn: 0.0078580\ttotal: 3.18s\tremaining: 694ms\n",
      "821:\tlearn: 0.0078408\ttotal: 3.19s\tremaining: 691ms\n",
      "822:\tlearn: 0.0078288\ttotal: 3.19s\tremaining: 687ms\n",
      "823:\tlearn: 0.0078118\ttotal: 3.2s\tremaining: 683ms\n",
      "824:\tlearn: 0.0078046\ttotal: 3.2s\tremaining: 679ms\n",
      "825:\tlearn: 0.0077936\ttotal: 3.21s\tremaining: 675ms\n",
      "826:\tlearn: 0.0077846\ttotal: 3.21s\tremaining: 671ms\n",
      "827:\tlearn: 0.0077701\ttotal: 3.21s\tremaining: 668ms\n",
      "828:\tlearn: 0.0077594\ttotal: 3.22s\tremaining: 664ms\n",
      "829:\tlearn: 0.0077476\ttotal: 3.22s\tremaining: 660ms\n",
      "830:\tlearn: 0.0077360\ttotal: 3.23s\tremaining: 656ms\n",
      "831:\tlearn: 0.0077272\ttotal: 3.23s\tremaining: 652ms\n",
      "832:\tlearn: 0.0077227\ttotal: 3.23s\tremaining: 648ms\n",
      "833:\tlearn: 0.0077052\ttotal: 3.24s\tremaining: 644ms\n",
      "834:\tlearn: 0.0076926\ttotal: 3.24s\tremaining: 640ms\n",
      "835:\tlearn: 0.0076790\ttotal: 3.24s\tremaining: 636ms\n",
      "836:\tlearn: 0.0076673\ttotal: 3.25s\tremaining: 633ms\n",
      "837:\tlearn: 0.0076528\ttotal: 3.25s\tremaining: 629ms\n",
      "838:\tlearn: 0.0076464\ttotal: 3.26s\tremaining: 625ms\n",
      "839:\tlearn: 0.0076356\ttotal: 3.26s\tremaining: 621ms\n",
      "840:\tlearn: 0.0076185\ttotal: 3.26s\tremaining: 617ms\n",
      "841:\tlearn: 0.0076023\ttotal: 3.27s\tremaining: 613ms\n",
      "842:\tlearn: 0.0075924\ttotal: 3.27s\tremaining: 609ms\n",
      "843:\tlearn: 0.0075850\ttotal: 3.27s\tremaining: 605ms\n",
      "844:\tlearn: 0.0075779\ttotal: 3.28s\tremaining: 601ms\n",
      "845:\tlearn: 0.0075604\ttotal: 3.28s\tremaining: 597ms\n",
      "846:\tlearn: 0.0075455\ttotal: 3.28s\tremaining: 593ms\n",
      "847:\tlearn: 0.0075296\ttotal: 3.29s\tremaining: 589ms\n",
      "848:\tlearn: 0.0075184\ttotal: 3.29s\tremaining: 585ms\n",
      "849:\tlearn: 0.0075095\ttotal: 3.29s\tremaining: 581ms\n",
      "850:\tlearn: 0.0074980\ttotal: 3.3s\tremaining: 577ms\n",
      "851:\tlearn: 0.0074861\ttotal: 3.3s\tremaining: 573ms\n",
      "852:\tlearn: 0.0074762\ttotal: 3.3s\tremaining: 570ms\n",
      "853:\tlearn: 0.0074633\ttotal: 3.31s\tremaining: 566ms\n",
      "854:\tlearn: 0.0074507\ttotal: 3.31s\tremaining: 562ms\n",
      "855:\tlearn: 0.0074420\ttotal: 3.31s\tremaining: 558ms\n",
      "856:\tlearn: 0.0074303\ttotal: 3.32s\tremaining: 554ms\n",
      "857:\tlearn: 0.0074178\ttotal: 3.32s\tremaining: 550ms\n",
      "858:\tlearn: 0.0074096\ttotal: 3.33s\tremaining: 546ms\n",
      "859:\tlearn: 0.0074001\ttotal: 3.33s\tremaining: 542ms\n",
      "860:\tlearn: 0.0073903\ttotal: 3.33s\tremaining: 538ms\n",
      "861:\tlearn: 0.0073761\ttotal: 3.34s\tremaining: 534ms\n",
      "862:\tlearn: 0.0073626\ttotal: 3.34s\tremaining: 530ms\n",
      "863:\tlearn: 0.0073520\ttotal: 3.34s\tremaining: 526ms\n",
      "864:\tlearn: 0.0073434\ttotal: 3.35s\tremaining: 523ms\n",
      "865:\tlearn: 0.0073335\ttotal: 3.35s\tremaining: 519ms\n",
      "866:\tlearn: 0.0073237\ttotal: 3.35s\tremaining: 515ms\n",
      "867:\tlearn: 0.0073114\ttotal: 3.36s\tremaining: 511ms\n",
      "868:\tlearn: 0.0073025\ttotal: 3.36s\tremaining: 507ms\n",
      "869:\tlearn: 0.0072930\ttotal: 3.37s\tremaining: 503ms\n",
      "870:\tlearn: 0.0072847\ttotal: 3.37s\tremaining: 499ms\n",
      "871:\tlearn: 0.0072747\ttotal: 3.38s\tremaining: 495ms\n",
      "872:\tlearn: 0.0072674\ttotal: 3.38s\tremaining: 492ms\n",
      "873:\tlearn: 0.0072613\ttotal: 3.38s\tremaining: 488ms\n",
      "874:\tlearn: 0.0072499\ttotal: 3.39s\tremaining: 484ms\n",
      "875:\tlearn: 0.0072420\ttotal: 3.39s\tremaining: 480ms\n",
      "876:\tlearn: 0.0072293\ttotal: 3.4s\tremaining: 476ms\n",
      "877:\tlearn: 0.0072165\ttotal: 3.4s\tremaining: 472ms\n",
      "878:\tlearn: 0.0072118\ttotal: 3.4s\tremaining: 468ms\n",
      "879:\tlearn: 0.0072030\ttotal: 3.41s\tremaining: 464ms\n",
      "880:\tlearn: 0.0071903\ttotal: 3.41s\tremaining: 461ms\n",
      "881:\tlearn: 0.0071805\ttotal: 3.41s\tremaining: 457ms\n",
      "882:\tlearn: 0.0071653\ttotal: 3.42s\tremaining: 453ms\n",
      "883:\tlearn: 0.0071562\ttotal: 3.42s\tremaining: 449ms\n",
      "884:\tlearn: 0.0071470\ttotal: 3.42s\tremaining: 445ms\n",
      "885:\tlearn: 0.0071381\ttotal: 3.43s\tremaining: 441ms\n",
      "886:\tlearn: 0.0071307\ttotal: 3.43s\tremaining: 437ms\n",
      "887:\tlearn: 0.0071141\ttotal: 3.43s\tremaining: 433ms\n",
      "888:\tlearn: 0.0071009\ttotal: 3.44s\tremaining: 429ms\n",
      "889:\tlearn: 0.0070909\ttotal: 3.44s\tremaining: 425ms\n",
      "890:\tlearn: 0.0070791\ttotal: 3.44s\tremaining: 421ms\n",
      "891:\tlearn: 0.0070696\ttotal: 3.45s\tremaining: 417ms\n",
      "892:\tlearn: 0.0070539\ttotal: 3.45s\tremaining: 414ms\n",
      "893:\tlearn: 0.0070443\ttotal: 3.45s\tremaining: 410ms\n",
      "894:\tlearn: 0.0070373\ttotal: 3.46s\tremaining: 406ms\n",
      "895:\tlearn: 0.0070271\ttotal: 3.46s\tremaining: 402ms\n",
      "896:\tlearn: 0.0070197\ttotal: 3.46s\tremaining: 398ms\n",
      "897:\tlearn: 0.0070105\ttotal: 3.47s\tremaining: 394ms\n",
      "898:\tlearn: 0.0070023\ttotal: 3.47s\tremaining: 390ms\n",
      "899:\tlearn: 0.0069893\ttotal: 3.48s\tremaining: 386ms\n",
      "900:\tlearn: 0.0069771\ttotal: 3.48s\tremaining: 382ms\n",
      "901:\tlearn: 0.0069694\ttotal: 3.48s\tremaining: 378ms\n",
      "902:\tlearn: 0.0069617\ttotal: 3.48s\tremaining: 374ms\n",
      "903:\tlearn: 0.0069558\ttotal: 3.49s\tremaining: 371ms\n",
      "904:\tlearn: 0.0069463\ttotal: 3.49s\tremaining: 367ms\n",
      "905:\tlearn: 0.0069404\ttotal: 3.5s\tremaining: 363ms\n",
      "906:\tlearn: 0.0069350\ttotal: 3.5s\tremaining: 359ms\n",
      "907:\tlearn: 0.0069271\ttotal: 3.5s\tremaining: 355ms\n",
      "908:\tlearn: 0.0069152\ttotal: 3.51s\tremaining: 351ms\n",
      "909:\tlearn: 0.0069087\ttotal: 3.51s\tremaining: 347ms\n",
      "910:\tlearn: 0.0069004\ttotal: 3.51s\tremaining: 343ms\n",
      "911:\tlearn: 0.0068916\ttotal: 3.52s\tremaining: 339ms\n",
      "912:\tlearn: 0.0068851\ttotal: 3.52s\tremaining: 335ms\n",
      "913:\tlearn: 0.0068791\ttotal: 3.52s\tremaining: 332ms\n",
      "914:\tlearn: 0.0068711\ttotal: 3.53s\tremaining: 328ms\n",
      "915:\tlearn: 0.0068646\ttotal: 3.53s\tremaining: 324ms\n",
      "916:\tlearn: 0.0068534\ttotal: 3.53s\tremaining: 320ms\n",
      "917:\tlearn: 0.0068447\ttotal: 3.54s\tremaining: 316ms\n",
      "918:\tlearn: 0.0068378\ttotal: 3.54s\tremaining: 312ms\n",
      "919:\tlearn: 0.0068329\ttotal: 3.54s\tremaining: 308ms\n",
      "920:\tlearn: 0.0068204\ttotal: 3.55s\tremaining: 304ms\n",
      "921:\tlearn: 0.0068043\ttotal: 3.55s\tremaining: 301ms\n",
      "922:\tlearn: 0.0067955\ttotal: 3.56s\tremaining: 297ms\n",
      "923:\tlearn: 0.0067886\ttotal: 3.56s\tremaining: 293ms\n",
      "924:\tlearn: 0.0067837\ttotal: 3.56s\tremaining: 289ms\n",
      "925:\tlearn: 0.0067755\ttotal: 3.57s\tremaining: 285ms\n",
      "926:\tlearn: 0.0067651\ttotal: 3.57s\tremaining: 281ms\n",
      "927:\tlearn: 0.0067500\ttotal: 3.57s\tremaining: 277ms\n",
      "928:\tlearn: 0.0067440\ttotal: 3.58s\tremaining: 273ms\n",
      "929:\tlearn: 0.0067409\ttotal: 3.58s\tremaining: 270ms\n",
      "930:\tlearn: 0.0067309\ttotal: 3.58s\tremaining: 266ms\n",
      "931:\tlearn: 0.0067222\ttotal: 3.59s\tremaining: 262ms\n",
      "932:\tlearn: 0.0067202\ttotal: 3.59s\tremaining: 258ms\n",
      "933:\tlearn: 0.0067106\ttotal: 3.6s\tremaining: 254ms\n",
      "934:\tlearn: 0.0066989\ttotal: 3.6s\tremaining: 250ms\n",
      "935:\tlearn: 0.0066940\ttotal: 3.6s\tremaining: 246ms\n",
      "936:\tlearn: 0.0066865\ttotal: 3.61s\tremaining: 242ms\n",
      "937:\tlearn: 0.0066782\ttotal: 3.61s\tremaining: 239ms\n",
      "938:\tlearn: 0.0066706\ttotal: 3.61s\tremaining: 235ms\n",
      "939:\tlearn: 0.0066603\ttotal: 3.62s\tremaining: 231ms\n",
      "940:\tlearn: 0.0066521\ttotal: 3.62s\tremaining: 227ms\n",
      "941:\tlearn: 0.0066455\ttotal: 3.62s\tremaining: 223ms\n",
      "942:\tlearn: 0.0066342\ttotal: 3.63s\tremaining: 219ms\n",
      "943:\tlearn: 0.0066256\ttotal: 3.63s\tremaining: 215ms\n",
      "944:\tlearn: 0.0066207\ttotal: 3.63s\tremaining: 211ms\n",
      "945:\tlearn: 0.0066119\ttotal: 3.64s\tremaining: 208ms\n",
      "946:\tlearn: 0.0066035\ttotal: 3.64s\tremaining: 204ms\n",
      "947:\tlearn: 0.0065956\ttotal: 3.64s\tremaining: 200ms\n",
      "948:\tlearn: 0.0065905\ttotal: 3.65s\tremaining: 196ms\n",
      "949:\tlearn: 0.0065782\ttotal: 3.65s\tremaining: 192ms\n",
      "950:\tlearn: 0.0065687\ttotal: 3.65s\tremaining: 188ms\n",
      "951:\tlearn: 0.0065562\ttotal: 3.66s\tremaining: 184ms\n",
      "952:\tlearn: 0.0065468\ttotal: 3.66s\tremaining: 181ms\n",
      "953:\tlearn: 0.0065385\ttotal: 3.66s\tremaining: 177ms\n",
      "954:\tlearn: 0.0065298\ttotal: 3.67s\tremaining: 173ms\n",
      "955:\tlearn: 0.0065219\ttotal: 3.67s\tremaining: 169ms\n",
      "956:\tlearn: 0.0065125\ttotal: 3.67s\tremaining: 165ms\n",
      "957:\tlearn: 0.0065049\ttotal: 3.68s\tremaining: 161ms\n",
      "958:\tlearn: 0.0064928\ttotal: 3.68s\tremaining: 157ms\n",
      "959:\tlearn: 0.0064835\ttotal: 3.69s\tremaining: 154ms\n",
      "960:\tlearn: 0.0064765\ttotal: 3.69s\tremaining: 150ms\n",
      "961:\tlearn: 0.0064701\ttotal: 3.69s\tremaining: 146ms\n",
      "962:\tlearn: 0.0064601\ttotal: 3.69s\tremaining: 142ms\n",
      "963:\tlearn: 0.0064523\ttotal: 3.7s\tremaining: 138ms\n",
      "964:\tlearn: 0.0064430\ttotal: 3.7s\tremaining: 134ms\n",
      "965:\tlearn: 0.0064352\ttotal: 3.71s\tremaining: 130ms\n",
      "966:\tlearn: 0.0064234\ttotal: 3.71s\tremaining: 127ms\n",
      "967:\tlearn: 0.0064168\ttotal: 3.71s\tremaining: 123ms\n",
      "968:\tlearn: 0.0064036\ttotal: 3.72s\tremaining: 119ms\n",
      "969:\tlearn: 0.0063964\ttotal: 3.72s\tremaining: 115ms\n",
      "970:\tlearn: 0.0063842\ttotal: 3.72s\tremaining: 111ms\n",
      "971:\tlearn: 0.0063758\ttotal: 3.73s\tremaining: 107ms\n",
      "972:\tlearn: 0.0063679\ttotal: 3.73s\tremaining: 104ms\n",
      "973:\tlearn: 0.0063609\ttotal: 3.73s\tremaining: 99.7ms\n",
      "974:\tlearn: 0.0063516\ttotal: 3.74s\tremaining: 95.9ms\n",
      "975:\tlearn: 0.0063421\ttotal: 3.74s\tremaining: 92ms\n",
      "976:\tlearn: 0.0063291\ttotal: 3.75s\tremaining: 88.2ms\n",
      "977:\tlearn: 0.0063241\ttotal: 3.75s\tremaining: 84.4ms\n",
      "978:\tlearn: 0.0063161\ttotal: 3.75s\tremaining: 80.6ms\n",
      "979:\tlearn: 0.0063123\ttotal: 3.76s\tremaining: 76.7ms\n",
      "980:\tlearn: 0.0063039\ttotal: 3.76s\tremaining: 72.9ms\n",
      "981:\tlearn: 0.0062966\ttotal: 3.77s\tremaining: 69ms\n",
      "982:\tlearn: 0.0062894\ttotal: 3.77s\tremaining: 65.2ms\n",
      "983:\tlearn: 0.0062842\ttotal: 3.77s\tremaining: 61.4ms\n",
      "984:\tlearn: 0.0062762\ttotal: 3.78s\tremaining: 57.5ms\n",
      "985:\tlearn: 0.0062708\ttotal: 3.78s\tremaining: 53.7ms\n",
      "986:\tlearn: 0.0062669\ttotal: 3.79s\tremaining: 49.9ms\n",
      "987:\tlearn: 0.0062623\ttotal: 3.79s\tremaining: 46ms\n",
      "988:\tlearn: 0.0062538\ttotal: 3.79s\tremaining: 42.2ms\n",
      "989:\tlearn: 0.0062434\ttotal: 3.8s\tremaining: 38.4ms\n",
      "990:\tlearn: 0.0062366\ttotal: 3.8s\tremaining: 34.5ms\n",
      "991:\tlearn: 0.0062277\ttotal: 3.8s\tremaining: 30.7ms\n",
      "992:\tlearn: 0.0062221\ttotal: 3.81s\tremaining: 26.8ms\n",
      "993:\tlearn: 0.0062160\ttotal: 3.81s\tremaining: 23ms\n",
      "994:\tlearn: 0.0062076\ttotal: 3.81s\tremaining: 19.2ms\n",
      "995:\tlearn: 0.0062013\ttotal: 3.82s\tremaining: 15.3ms\n",
      "996:\tlearn: 0.0061950\ttotal: 3.82s\tremaining: 11.5ms\n",
      "997:\tlearn: 0.0061899\ttotal: 3.83s\tremaining: 7.67ms\n",
      "998:\tlearn: 0.0061828\ttotal: 3.83s\tremaining: 3.83ms\n",
      "999:\tlearn: 0.0061757\ttotal: 3.83s\tremaining: 0us\n"
     ]
    },
    {
     "data": {
      "text/plain": "0.9185185185185185"
     },
     "execution_count": 23,
     "metadata": {},
     "output_type": "execute_result"
    }
   ],
   "source": [
    "from catboost import CatBoostClassifier\n",
    "\n",
    "run_classifier(CatBoostClassifier())"
   ],
   "metadata": {
    "collapsed": false
   }
  },
  {
   "cell_type": "code",
   "execution_count": 24,
   "outputs": [
    {
     "name": "stdout",
     "output_type": "stream",
     "text": [
      "Learning rate set to 0.080854\n",
      "0:\tlearn: 1.8500636\ttotal: 6.05ms\tremaining: 6.04s\n",
      "1:\tlearn: 1.5650859\ttotal: 11.4ms\tremaining: 5.69s\n",
      "2:\tlearn: 1.3682917\ttotal: 17ms\tremaining: 5.64s\n",
      "3:\tlearn: 1.2272490\ttotal: 22.8ms\tremaining: 5.67s\n",
      "4:\tlearn: 1.0868296\ttotal: 28.7ms\tremaining: 5.71s\n",
      "5:\tlearn: 0.9845115\ttotal: 34.9ms\tremaining: 5.78s\n",
      "6:\tlearn: 0.8967595\ttotal: 40.4ms\tremaining: 5.73s\n",
      "7:\tlearn: 0.8234540\ttotal: 45.8ms\tremaining: 5.68s\n",
      "8:\tlearn: 0.7569280\ttotal: 51.1ms\tremaining: 5.63s\n",
      "9:\tlearn: 0.6969618\ttotal: 56.6ms\tremaining: 5.61s\n",
      "10:\tlearn: 0.6463911\ttotal: 62.4ms\tremaining: 5.61s\n",
      "11:\tlearn: 0.6027955\ttotal: 68ms\tremaining: 5.6s\n",
      "12:\tlearn: 0.5640726\ttotal: 73.6ms\tremaining: 5.59s\n",
      "13:\tlearn: 0.5282597\ttotal: 78.9ms\tremaining: 5.56s\n",
      "14:\tlearn: 0.4944795\ttotal: 83.8ms\tremaining: 5.5s\n",
      "15:\tlearn: 0.4644043\ttotal: 88.8ms\tremaining: 5.46s\n",
      "16:\tlearn: 0.4359319\ttotal: 94.3ms\tremaining: 5.46s\n",
      "17:\tlearn: 0.4096845\ttotal: 99.6ms\tremaining: 5.43s\n",
      "18:\tlearn: 0.3874539\ttotal: 105ms\tremaining: 5.4s\n",
      "19:\tlearn: 0.3649576\ttotal: 110ms\tremaining: 5.38s\n",
      "20:\tlearn: 0.3443900\ttotal: 115ms\tremaining: 5.35s\n",
      "21:\tlearn: 0.3264648\ttotal: 120ms\tremaining: 5.32s\n",
      "22:\tlearn: 0.3104642\ttotal: 125ms\tremaining: 5.29s\n",
      "23:\tlearn: 0.2941914\ttotal: 130ms\tremaining: 5.28s\n",
      "24:\tlearn: 0.2799645\ttotal: 135ms\tremaining: 5.27s\n",
      "25:\tlearn: 0.2669392\ttotal: 140ms\tremaining: 5.26s\n",
      "26:\tlearn: 0.2540529\ttotal: 146ms\tremaining: 5.25s\n",
      "27:\tlearn: 0.2427396\ttotal: 151ms\tremaining: 5.23s\n",
      "28:\tlearn: 0.2325112\ttotal: 156ms\tremaining: 5.22s\n",
      "29:\tlearn: 0.2242153\ttotal: 161ms\tremaining: 5.2s\n",
      "30:\tlearn: 0.2150993\ttotal: 166ms\tremaining: 5.19s\n",
      "31:\tlearn: 0.2060590\ttotal: 171ms\tremaining: 5.17s\n",
      "32:\tlearn: 0.1980760\ttotal: 176ms\tremaining: 5.15s\n",
      "33:\tlearn: 0.1902488\ttotal: 181ms\tremaining: 5.13s\n",
      "34:\tlearn: 0.1846000\ttotal: 186ms\tremaining: 5.12s\n",
      "35:\tlearn: 0.1778511\ttotal: 191ms\tremaining: 5.1s\n",
      "36:\tlearn: 0.1714452\ttotal: 196ms\tremaining: 5.09s\n",
      "37:\tlearn: 0.1656183\ttotal: 201ms\tremaining: 5.08s\n",
      "38:\tlearn: 0.1604777\ttotal: 206ms\tremaining: 5.07s\n",
      "39:\tlearn: 0.1558703\ttotal: 211ms\tremaining: 5.05s\n",
      "40:\tlearn: 0.1507123\ttotal: 216ms\tremaining: 5.04s\n",
      "41:\tlearn: 0.1463242\ttotal: 221ms\tremaining: 5.04s\n",
      "42:\tlearn: 0.1420269\ttotal: 226ms\tremaining: 5.03s\n",
      "43:\tlearn: 0.1375543\ttotal: 231ms\tremaining: 5.02s\n",
      "44:\tlearn: 0.1336993\ttotal: 236ms\tremaining: 5.02s\n",
      "45:\tlearn: 0.1304891\ttotal: 242ms\tremaining: 5.02s\n",
      "46:\tlearn: 0.1271099\ttotal: 247ms\tremaining: 5.01s\n",
      "47:\tlearn: 0.1240305\ttotal: 253ms\tremaining: 5.01s\n",
      "48:\tlearn: 0.1209161\ttotal: 258ms\tremaining: 5.01s\n",
      "49:\tlearn: 0.1175763\ttotal: 264ms\tremaining: 5.01s\n",
      "50:\tlearn: 0.1152322\ttotal: 269ms\tremaining: 5s\n",
      "51:\tlearn: 0.1126026\ttotal: 274ms\tremaining: 4.99s\n",
      "52:\tlearn: 0.1099188\ttotal: 279ms\tremaining: 4.99s\n",
      "53:\tlearn: 0.1073153\ttotal: 285ms\tremaining: 4.99s\n",
      "54:\tlearn: 0.1054854\ttotal: 290ms\tremaining: 4.98s\n",
      "55:\tlearn: 0.1036987\ttotal: 295ms\tremaining: 4.98s\n",
      "56:\tlearn: 0.1013182\ttotal: 301ms\tremaining: 4.97s\n",
      "57:\tlearn: 0.0992066\ttotal: 306ms\tremaining: 4.96s\n",
      "58:\tlearn: 0.0973197\ttotal: 311ms\tremaining: 4.96s\n",
      "59:\tlearn: 0.0958148\ttotal: 316ms\tremaining: 4.95s\n",
      "60:\tlearn: 0.0940275\ttotal: 322ms\tremaining: 4.95s\n",
      "61:\tlearn: 0.0923592\ttotal: 327ms\tremaining: 4.95s\n",
      "62:\tlearn: 0.0907466\ttotal: 332ms\tremaining: 4.94s\n",
      "63:\tlearn: 0.0892196\ttotal: 337ms\tremaining: 4.93s\n",
      "64:\tlearn: 0.0878567\ttotal: 343ms\tremaining: 4.93s\n",
      "65:\tlearn: 0.0867709\ttotal: 348ms\tremaining: 4.93s\n",
      "66:\tlearn: 0.0860763\ttotal: 354ms\tremaining: 4.92s\n",
      "67:\tlearn: 0.0846921\ttotal: 359ms\tremaining: 4.92s\n",
      "68:\tlearn: 0.0835754\ttotal: 364ms\tremaining: 4.91s\n",
      "69:\tlearn: 0.0824064\ttotal: 369ms\tremaining: 4.9s\n",
      "70:\tlearn: 0.0810525\ttotal: 374ms\tremaining: 4.9s\n",
      "71:\tlearn: 0.0797094\ttotal: 380ms\tremaining: 4.89s\n",
      "72:\tlearn: 0.0788708\ttotal: 385ms\tremaining: 4.89s\n",
      "73:\tlearn: 0.0778999\ttotal: 390ms\tremaining: 4.88s\n",
      "74:\tlearn: 0.0771843\ttotal: 395ms\tremaining: 4.88s\n",
      "75:\tlearn: 0.0762173\ttotal: 401ms\tremaining: 4.88s\n",
      "76:\tlearn: 0.0752329\ttotal: 407ms\tremaining: 4.88s\n",
      "77:\tlearn: 0.0744335\ttotal: 412ms\tremaining: 4.87s\n",
      "78:\tlearn: 0.0735653\ttotal: 417ms\tremaining: 4.87s\n",
      "79:\tlearn: 0.0729966\ttotal: 423ms\tremaining: 4.86s\n",
      "80:\tlearn: 0.0720241\ttotal: 428ms\tremaining: 4.85s\n",
      "81:\tlearn: 0.0711153\ttotal: 433ms\tremaining: 4.85s\n",
      "82:\tlearn: 0.0702492\ttotal: 439ms\tremaining: 4.85s\n",
      "83:\tlearn: 0.0694147\ttotal: 444ms\tremaining: 4.84s\n",
      "84:\tlearn: 0.0685863\ttotal: 449ms\tremaining: 4.84s\n",
      "85:\tlearn: 0.0680105\ttotal: 455ms\tremaining: 4.83s\n",
      "86:\tlearn: 0.0671524\ttotal: 460ms\tremaining: 4.83s\n",
      "87:\tlearn: 0.0666502\ttotal: 465ms\tremaining: 4.82s\n",
      "88:\tlearn: 0.0658061\ttotal: 471ms\tremaining: 4.82s\n",
      "89:\tlearn: 0.0651278\ttotal: 477ms\tremaining: 4.82s\n",
      "90:\tlearn: 0.0646380\ttotal: 483ms\tremaining: 4.82s\n",
      "91:\tlearn: 0.0639747\ttotal: 488ms\tremaining: 4.81s\n",
      "92:\tlearn: 0.0633782\ttotal: 493ms\tremaining: 4.8s\n",
      "93:\tlearn: 0.0629213\ttotal: 498ms\tremaining: 4.8s\n",
      "94:\tlearn: 0.0624398\ttotal: 503ms\tremaining: 4.79s\n",
      "95:\tlearn: 0.0620726\ttotal: 508ms\tremaining: 4.79s\n",
      "96:\tlearn: 0.0614594\ttotal: 514ms\tremaining: 4.78s\n",
      "97:\tlearn: 0.0608274\ttotal: 519ms\tremaining: 4.78s\n",
      "98:\tlearn: 0.0602123\ttotal: 524ms\tremaining: 4.77s\n",
      "99:\tlearn: 0.0596875\ttotal: 530ms\tremaining: 4.76s\n",
      "100:\tlearn: 0.0591967\ttotal: 535ms\tremaining: 4.76s\n",
      "101:\tlearn: 0.0587152\ttotal: 540ms\tremaining: 4.75s\n",
      "102:\tlearn: 0.0582847\ttotal: 545ms\tremaining: 4.75s\n",
      "103:\tlearn: 0.0577895\ttotal: 550ms\tremaining: 4.74s\n",
      "104:\tlearn: 0.0574202\ttotal: 555ms\tremaining: 4.73s\n",
      "105:\tlearn: 0.0570134\ttotal: 560ms\tremaining: 4.72s\n",
      "106:\tlearn: 0.0567780\ttotal: 565ms\tremaining: 4.72s\n",
      "107:\tlearn: 0.0563614\ttotal: 570ms\tremaining: 4.71s\n",
      "108:\tlearn: 0.0560698\ttotal: 575ms\tremaining: 4.7s\n",
      "109:\tlearn: 0.0557921\ttotal: 580ms\tremaining: 4.7s\n",
      "110:\tlearn: 0.0554166\ttotal: 586ms\tremaining: 4.69s\n",
      "111:\tlearn: 0.0550468\ttotal: 591ms\tremaining: 4.69s\n",
      "112:\tlearn: 0.0548005\ttotal: 596ms\tremaining: 4.68s\n",
      "113:\tlearn: 0.0545771\ttotal: 601ms\tremaining: 4.67s\n",
      "114:\tlearn: 0.0542340\ttotal: 607ms\tremaining: 4.67s\n",
      "115:\tlearn: 0.0537951\ttotal: 612ms\tremaining: 4.66s\n",
      "116:\tlearn: 0.0536166\ttotal: 617ms\tremaining: 4.66s\n",
      "117:\tlearn: 0.0533369\ttotal: 622ms\tremaining: 4.65s\n",
      "118:\tlearn: 0.0529864\ttotal: 627ms\tremaining: 4.64s\n",
      "119:\tlearn: 0.0526379\ttotal: 632ms\tremaining: 4.63s\n",
      "120:\tlearn: 0.0522795\ttotal: 637ms\tremaining: 4.63s\n",
      "121:\tlearn: 0.0520059\ttotal: 642ms\tremaining: 4.62s\n",
      "122:\tlearn: 0.0516872\ttotal: 647ms\tremaining: 4.61s\n",
      "123:\tlearn: 0.0514133\ttotal: 652ms\tremaining: 4.61s\n",
      "124:\tlearn: 0.0510252\ttotal: 657ms\tremaining: 4.6s\n",
      "125:\tlearn: 0.0507448\ttotal: 662ms\tremaining: 4.59s\n",
      "126:\tlearn: 0.0503102\ttotal: 667ms\tremaining: 4.59s\n",
      "127:\tlearn: 0.0500388\ttotal: 672ms\tremaining: 4.58s\n",
      "128:\tlearn: 0.0498121\ttotal: 677ms\tremaining: 4.57s\n",
      "129:\tlearn: 0.0496230\ttotal: 682ms\tremaining: 4.57s\n",
      "130:\tlearn: 0.0494530\ttotal: 687ms\tremaining: 4.56s\n",
      "131:\tlearn: 0.0492280\ttotal: 693ms\tremaining: 4.55s\n",
      "132:\tlearn: 0.0490011\ttotal: 698ms\tremaining: 4.55s\n",
      "133:\tlearn: 0.0487925\ttotal: 703ms\tremaining: 4.54s\n",
      "134:\tlearn: 0.0486120\ttotal: 708ms\tremaining: 4.53s\n",
      "135:\tlearn: 0.0483325\ttotal: 713ms\tremaining: 4.53s\n",
      "136:\tlearn: 0.0481252\ttotal: 718ms\tremaining: 4.52s\n",
      "137:\tlearn: 0.0479260\ttotal: 723ms\tremaining: 4.51s\n",
      "138:\tlearn: 0.0477274\ttotal: 728ms\tremaining: 4.51s\n",
      "139:\tlearn: 0.0474939\ttotal: 733ms\tremaining: 4.5s\n",
      "140:\tlearn: 0.0472462\ttotal: 739ms\tremaining: 4.5s\n",
      "141:\tlearn: 0.0470732\ttotal: 744ms\tremaining: 4.49s\n",
      "142:\tlearn: 0.0467856\ttotal: 749ms\tremaining: 4.49s\n",
      "143:\tlearn: 0.0465481\ttotal: 754ms\tremaining: 4.48s\n",
      "144:\tlearn: 0.0464093\ttotal: 759ms\tremaining: 4.47s\n",
      "145:\tlearn: 0.0462221\ttotal: 764ms\tremaining: 4.47s\n",
      "146:\tlearn: 0.0460545\ttotal: 769ms\tremaining: 4.46s\n",
      "147:\tlearn: 0.0458592\ttotal: 774ms\tremaining: 4.46s\n",
      "148:\tlearn: 0.0456013\ttotal: 779ms\tremaining: 4.45s\n",
      "149:\tlearn: 0.0454137\ttotal: 784ms\tremaining: 4.44s\n",
      "150:\tlearn: 0.0451858\ttotal: 789ms\tremaining: 4.43s\n",
      "151:\tlearn: 0.0450356\ttotal: 794ms\tremaining: 4.43s\n",
      "152:\tlearn: 0.0448112\ttotal: 799ms\tremaining: 4.42s\n",
      "153:\tlearn: 0.0445805\ttotal: 804ms\tremaining: 4.42s\n",
      "154:\tlearn: 0.0444614\ttotal: 810ms\tremaining: 4.41s\n",
      "155:\tlearn: 0.0443633\ttotal: 815ms\tremaining: 4.41s\n",
      "156:\tlearn: 0.0441598\ttotal: 820ms\tremaining: 4.4s\n",
      "157:\tlearn: 0.0440366\ttotal: 825ms\tremaining: 4.39s\n",
      "158:\tlearn: 0.0439484\ttotal: 830ms\tremaining: 4.39s\n",
      "159:\tlearn: 0.0437537\ttotal: 835ms\tremaining: 4.38s\n",
      "160:\tlearn: 0.0435411\ttotal: 840ms\tremaining: 4.38s\n",
      "161:\tlearn: 0.0434617\ttotal: 845ms\tremaining: 4.37s\n",
      "162:\tlearn: 0.0432546\ttotal: 850ms\tremaining: 4.37s\n",
      "163:\tlearn: 0.0430207\ttotal: 855ms\tremaining: 4.36s\n",
      "164:\tlearn: 0.0428540\ttotal: 860ms\tremaining: 4.35s\n",
      "165:\tlearn: 0.0426364\ttotal: 865ms\tremaining: 4.35s\n",
      "166:\tlearn: 0.0424426\ttotal: 870ms\tremaining: 4.34s\n",
      "167:\tlearn: 0.0422861\ttotal: 875ms\tremaining: 4.33s\n",
      "168:\tlearn: 0.0421272\ttotal: 881ms\tremaining: 4.33s\n",
      "169:\tlearn: 0.0419761\ttotal: 886ms\tremaining: 4.32s\n",
      "170:\tlearn: 0.0417980\ttotal: 891ms\tremaining: 4.32s\n",
      "171:\tlearn: 0.0415452\ttotal: 896ms\tremaining: 4.31s\n",
      "172:\tlearn: 0.0413614\ttotal: 901ms\tremaining: 4.3s\n",
      "173:\tlearn: 0.0412114\ttotal: 906ms\tremaining: 4.3s\n",
      "174:\tlearn: 0.0410662\ttotal: 911ms\tremaining: 4.29s\n",
      "175:\tlearn: 0.0408595\ttotal: 916ms\tremaining: 4.29s\n",
      "176:\tlearn: 0.0407377\ttotal: 921ms\tremaining: 4.28s\n",
      "177:\tlearn: 0.0405781\ttotal: 926ms\tremaining: 4.28s\n",
      "178:\tlearn: 0.0403783\ttotal: 931ms\tremaining: 4.27s\n",
      "179:\tlearn: 0.0401912\ttotal: 937ms\tremaining: 4.27s\n",
      "180:\tlearn: 0.0400536\ttotal: 942ms\tremaining: 4.26s\n",
      "181:\tlearn: 0.0399302\ttotal: 946ms\tremaining: 4.25s\n",
      "182:\tlearn: 0.0397028\ttotal: 951ms\tremaining: 4.25s\n",
      "183:\tlearn: 0.0395355\ttotal: 957ms\tremaining: 4.24s\n",
      "184:\tlearn: 0.0393603\ttotal: 962ms\tremaining: 4.24s\n",
      "185:\tlearn: 0.0392420\ttotal: 967ms\tremaining: 4.23s\n",
      "186:\tlearn: 0.0390632\ttotal: 972ms\tremaining: 4.22s\n",
      "187:\tlearn: 0.0388924\ttotal: 977ms\tremaining: 4.22s\n",
      "188:\tlearn: 0.0387391\ttotal: 982ms\tremaining: 4.21s\n",
      "189:\tlearn: 0.0385849\ttotal: 987ms\tremaining: 4.21s\n",
      "190:\tlearn: 0.0383870\ttotal: 992ms\tremaining: 4.2s\n",
      "191:\tlearn: 0.0382397\ttotal: 997ms\tremaining: 4.19s\n",
      "192:\tlearn: 0.0381311\ttotal: 1s\tremaining: 4.19s\n",
      "193:\tlearn: 0.0379964\ttotal: 1.01s\tremaining: 4.18s\n",
      "194:\tlearn: 0.0378483\ttotal: 1.01s\tremaining: 4.18s\n",
      "195:\tlearn: 0.0376694\ttotal: 1.02s\tremaining: 4.17s\n",
      "196:\tlearn: 0.0375695\ttotal: 1.02s\tremaining: 4.17s\n",
      "197:\tlearn: 0.0374195\ttotal: 1.03s\tremaining: 4.16s\n",
      "198:\tlearn: 0.0372897\ttotal: 1.03s\tremaining: 4.16s\n",
      "199:\tlearn: 0.0371844\ttotal: 1.04s\tremaining: 4.15s\n",
      "200:\tlearn: 0.0371002\ttotal: 1.04s\tremaining: 4.14s\n",
      "201:\tlearn: 0.0368948\ttotal: 1.05s\tremaining: 4.14s\n",
      "202:\tlearn: 0.0368271\ttotal: 1.05s\tremaining: 4.13s\n",
      "203:\tlearn: 0.0367775\ttotal: 1.06s\tremaining: 4.13s\n",
      "204:\tlearn: 0.0366293\ttotal: 1.06s\tremaining: 4.12s\n",
      "205:\tlearn: 0.0364793\ttotal: 1.07s\tremaining: 4.12s\n",
      "206:\tlearn: 0.0363511\ttotal: 1.07s\tremaining: 4.11s\n",
      "207:\tlearn: 0.0362220\ttotal: 1.08s\tremaining: 4.1s\n",
      "208:\tlearn: 0.0360804\ttotal: 1.08s\tremaining: 4.1s\n",
      "209:\tlearn: 0.0359137\ttotal: 1.09s\tremaining: 4.09s\n",
      "210:\tlearn: 0.0357822\ttotal: 1.09s\tremaining: 4.09s\n",
      "211:\tlearn: 0.0356698\ttotal: 1.1s\tremaining: 4.08s\n",
      "212:\tlearn: 0.0355399\ttotal: 1.1s\tremaining: 4.07s\n",
      "213:\tlearn: 0.0354379\ttotal: 1.11s\tremaining: 4.07s\n",
      "214:\tlearn: 0.0352679\ttotal: 1.11s\tremaining: 4.06s\n",
      "215:\tlearn: 0.0351399\ttotal: 1.12s\tremaining: 4.05s\n",
      "216:\tlearn: 0.0350950\ttotal: 1.12s\tremaining: 4.05s\n",
      "217:\tlearn: 0.0349526\ttotal: 1.13s\tremaining: 4.04s\n",
      "218:\tlearn: 0.0347796\ttotal: 1.13s\tremaining: 4.04s\n",
      "219:\tlearn: 0.0346930\ttotal: 1.14s\tremaining: 4.03s\n",
      "220:\tlearn: 0.0345819\ttotal: 1.14s\tremaining: 4.03s\n",
      "221:\tlearn: 0.0344140\ttotal: 1.15s\tremaining: 4.02s\n",
      "222:\tlearn: 0.0343706\ttotal: 1.15s\tremaining: 4.01s\n",
      "223:\tlearn: 0.0342531\ttotal: 1.16s\tremaining: 4.01s\n",
      "224:\tlearn: 0.0341255\ttotal: 1.16s\tremaining: 4s\n",
      "225:\tlearn: 0.0340290\ttotal: 1.17s\tremaining: 4s\n",
      "226:\tlearn: 0.0338780\ttotal: 1.17s\tremaining: 3.99s\n",
      "227:\tlearn: 0.0337770\ttotal: 1.18s\tremaining: 3.99s\n",
      "228:\tlearn: 0.0336163\ttotal: 1.18s\tremaining: 3.98s\n",
      "229:\tlearn: 0.0335136\ttotal: 1.19s\tremaining: 3.97s\n",
      "230:\tlearn: 0.0334241\ttotal: 1.19s\tremaining: 3.97s\n",
      "231:\tlearn: 0.0333167\ttotal: 1.2s\tremaining: 3.96s\n",
      "232:\tlearn: 0.0332293\ttotal: 1.2s\tremaining: 3.96s\n",
      "233:\tlearn: 0.0331172\ttotal: 1.21s\tremaining: 3.95s\n",
      "234:\tlearn: 0.0329909\ttotal: 1.21s\tremaining: 3.94s\n",
      "235:\tlearn: 0.0328608\ttotal: 1.22s\tremaining: 3.94s\n",
      "236:\tlearn: 0.0327224\ttotal: 1.22s\tremaining: 3.94s\n",
      "237:\tlearn: 0.0326377\ttotal: 1.23s\tremaining: 3.93s\n",
      "238:\tlearn: 0.0325202\ttotal: 1.23s\tremaining: 3.93s\n",
      "239:\tlearn: 0.0323920\ttotal: 1.24s\tremaining: 3.92s\n",
      "240:\tlearn: 0.0323125\ttotal: 1.24s\tremaining: 3.92s\n",
      "241:\tlearn: 0.0321475\ttotal: 1.25s\tremaining: 3.91s\n",
      "242:\tlearn: 0.0320528\ttotal: 1.25s\tremaining: 3.91s\n",
      "243:\tlearn: 0.0319642\ttotal: 1.26s\tremaining: 3.9s\n",
      "244:\tlearn: 0.0318255\ttotal: 1.26s\tremaining: 3.89s\n",
      "245:\tlearn: 0.0317210\ttotal: 1.27s\tremaining: 3.89s\n",
      "246:\tlearn: 0.0316263\ttotal: 1.27s\tremaining: 3.88s\n",
      "247:\tlearn: 0.0315309\ttotal: 1.28s\tremaining: 3.88s\n",
      "248:\tlearn: 0.0314195\ttotal: 1.28s\tremaining: 3.87s\n",
      "249:\tlearn: 0.0313215\ttotal: 1.29s\tremaining: 3.87s\n",
      "250:\tlearn: 0.0312112\ttotal: 1.29s\tremaining: 3.86s\n",
      "251:\tlearn: 0.0310757\ttotal: 1.3s\tremaining: 3.86s\n",
      "252:\tlearn: 0.0309713\ttotal: 1.3s\tremaining: 3.85s\n",
      "253:\tlearn: 0.0308267\ttotal: 1.31s\tremaining: 3.85s\n",
      "254:\tlearn: 0.0307241\ttotal: 1.31s\tremaining: 3.84s\n",
      "255:\tlearn: 0.0306769\ttotal: 1.32s\tremaining: 3.84s\n",
      "256:\tlearn: 0.0305857\ttotal: 1.32s\tremaining: 3.83s\n",
      "257:\tlearn: 0.0305301\ttotal: 1.33s\tremaining: 3.83s\n",
      "258:\tlearn: 0.0304191\ttotal: 1.33s\tremaining: 3.82s\n",
      "259:\tlearn: 0.0303867\ttotal: 1.34s\tremaining: 3.81s\n",
      "260:\tlearn: 0.0302880\ttotal: 1.34s\tremaining: 3.81s\n",
      "261:\tlearn: 0.0301870\ttotal: 1.35s\tremaining: 3.8s\n",
      "262:\tlearn: 0.0301324\ttotal: 1.35s\tremaining: 3.8s\n",
      "263:\tlearn: 0.0300043\ttotal: 1.36s\tremaining: 3.79s\n",
      "264:\tlearn: 0.0299205\ttotal: 1.36s\tremaining: 3.79s\n",
      "265:\tlearn: 0.0298293\ttotal: 1.37s\tremaining: 3.78s\n",
      "266:\tlearn: 0.0297442\ttotal: 1.38s\tremaining: 3.78s\n",
      "267:\tlearn: 0.0296589\ttotal: 1.38s\tremaining: 3.77s\n",
      "268:\tlearn: 0.0296135\ttotal: 1.39s\tremaining: 3.77s\n",
      "269:\tlearn: 0.0295459\ttotal: 1.39s\tremaining: 3.76s\n",
      "270:\tlearn: 0.0294588\ttotal: 1.4s\tremaining: 3.75s\n",
      "271:\tlearn: 0.0293960\ttotal: 1.4s\tremaining: 3.75s\n",
      "272:\tlearn: 0.0293116\ttotal: 1.41s\tremaining: 3.74s\n",
      "273:\tlearn: 0.0292314\ttotal: 1.41s\tremaining: 3.74s\n",
      "274:\tlearn: 0.0291664\ttotal: 1.42s\tremaining: 3.73s\n",
      "275:\tlearn: 0.0290978\ttotal: 1.42s\tremaining: 3.73s\n",
      "276:\tlearn: 0.0290024\ttotal: 1.43s\tremaining: 3.72s\n",
      "277:\tlearn: 0.0289066\ttotal: 1.43s\tremaining: 3.71s\n",
      "278:\tlearn: 0.0288326\ttotal: 1.44s\tremaining: 3.71s\n",
      "279:\tlearn: 0.0287219\ttotal: 1.44s\tremaining: 3.71s\n",
      "280:\tlearn: 0.0286366\ttotal: 1.45s\tremaining: 3.7s\n",
      "281:\tlearn: 0.0285698\ttotal: 1.45s\tremaining: 3.69s\n",
      "282:\tlearn: 0.0284621\ttotal: 1.46s\tremaining: 3.69s\n",
      "283:\tlearn: 0.0283856\ttotal: 1.46s\tremaining: 3.68s\n",
      "284:\tlearn: 0.0283047\ttotal: 1.47s\tremaining: 3.68s\n",
      "285:\tlearn: 0.0281662\ttotal: 1.47s\tremaining: 3.67s\n",
      "286:\tlearn: 0.0281105\ttotal: 1.48s\tremaining: 3.67s\n",
      "287:\tlearn: 0.0279821\ttotal: 1.48s\tremaining: 3.66s\n",
      "288:\tlearn: 0.0279228\ttotal: 1.49s\tremaining: 3.65s\n",
      "289:\tlearn: 0.0278188\ttotal: 1.49s\tremaining: 3.65s\n",
      "290:\tlearn: 0.0277406\ttotal: 1.5s\tremaining: 3.64s\n",
      "291:\tlearn: 0.0276471\ttotal: 1.5s\tremaining: 3.64s\n",
      "292:\tlearn: 0.0275307\ttotal: 1.5s\tremaining: 3.63s\n",
      "293:\tlearn: 0.0274583\ttotal: 1.51s\tremaining: 3.63s\n",
      "294:\tlearn: 0.0273554\ttotal: 1.51s\tremaining: 3.62s\n",
      "295:\tlearn: 0.0272563\ttotal: 1.52s\tremaining: 3.62s\n",
      "296:\tlearn: 0.0271546\ttotal: 1.52s\tremaining: 3.61s\n",
      "297:\tlearn: 0.0270349\ttotal: 1.53s\tremaining: 3.6s\n",
      "298:\tlearn: 0.0269194\ttotal: 1.53s\tremaining: 3.6s\n",
      "299:\tlearn: 0.0268065\ttotal: 1.54s\tremaining: 3.59s\n",
      "300:\tlearn: 0.0267280\ttotal: 1.54s\tremaining: 3.59s\n",
      "301:\tlearn: 0.0266076\ttotal: 1.55s\tremaining: 3.58s\n",
      "302:\tlearn: 0.0265384\ttotal: 1.55s\tremaining: 3.58s\n",
      "303:\tlearn: 0.0264780\ttotal: 1.56s\tremaining: 3.57s\n",
      "304:\tlearn: 0.0264197\ttotal: 1.56s\tremaining: 3.57s\n",
      "305:\tlearn: 0.0263394\ttotal: 1.57s\tremaining: 3.56s\n",
      "306:\tlearn: 0.0262843\ttotal: 1.58s\tremaining: 3.56s\n",
      "307:\tlearn: 0.0261903\ttotal: 1.58s\tremaining: 3.55s\n",
      "308:\tlearn: 0.0261217\ttotal: 1.59s\tremaining: 3.55s\n",
      "309:\tlearn: 0.0260473\ttotal: 1.59s\tremaining: 3.54s\n",
      "310:\tlearn: 0.0259765\ttotal: 1.6s\tremaining: 3.54s\n",
      "311:\tlearn: 0.0259167\ttotal: 1.6s\tremaining: 3.53s\n",
      "312:\tlearn: 0.0258528\ttotal: 1.61s\tremaining: 3.52s\n",
      "313:\tlearn: 0.0257573\ttotal: 1.61s\tremaining: 3.52s\n",
      "314:\tlearn: 0.0256829\ttotal: 1.62s\tremaining: 3.51s\n",
      "315:\tlearn: 0.0255805\ttotal: 1.62s\tremaining: 3.51s\n",
      "316:\tlearn: 0.0255322\ttotal: 1.63s\tremaining: 3.5s\n",
      "317:\tlearn: 0.0254422\ttotal: 1.63s\tremaining: 3.5s\n",
      "318:\tlearn: 0.0253541\ttotal: 1.64s\tremaining: 3.49s\n",
      "319:\tlearn: 0.0252703\ttotal: 1.64s\tremaining: 3.49s\n",
      "320:\tlearn: 0.0251672\ttotal: 1.65s\tremaining: 3.48s\n",
      "321:\tlearn: 0.0250933\ttotal: 1.65s\tremaining: 3.48s\n",
      "322:\tlearn: 0.0250116\ttotal: 1.66s\tremaining: 3.47s\n",
      "323:\tlearn: 0.0249504\ttotal: 1.66s\tremaining: 3.46s\n",
      "324:\tlearn: 0.0248800\ttotal: 1.67s\tremaining: 3.46s\n",
      "325:\tlearn: 0.0247671\ttotal: 1.67s\tremaining: 3.46s\n",
      "326:\tlearn: 0.0246750\ttotal: 1.68s\tremaining: 3.45s\n",
      "327:\tlearn: 0.0246214\ttotal: 1.68s\tremaining: 3.44s\n",
      "328:\tlearn: 0.0245701\ttotal: 1.69s\tremaining: 3.44s\n",
      "329:\tlearn: 0.0244686\ttotal: 1.69s\tremaining: 3.44s\n",
      "330:\tlearn: 0.0243898\ttotal: 1.7s\tremaining: 3.43s\n",
      "331:\tlearn: 0.0242789\ttotal: 1.7s\tremaining: 3.42s\n",
      "332:\tlearn: 0.0242333\ttotal: 1.71s\tremaining: 3.42s\n",
      "333:\tlearn: 0.0241497\ttotal: 1.71s\tremaining: 3.41s\n",
      "334:\tlearn: 0.0240756\ttotal: 1.72s\tremaining: 3.41s\n",
      "335:\tlearn: 0.0239748\ttotal: 1.72s\tremaining: 3.4s\n",
      "336:\tlearn: 0.0239088\ttotal: 1.73s\tremaining: 3.4s\n",
      "337:\tlearn: 0.0238282\ttotal: 1.73s\tremaining: 3.39s\n",
      "338:\tlearn: 0.0237413\ttotal: 1.74s\tremaining: 3.39s\n",
      "339:\tlearn: 0.0236574\ttotal: 1.74s\tremaining: 3.38s\n",
      "340:\tlearn: 0.0235485\ttotal: 1.75s\tremaining: 3.38s\n",
      "341:\tlearn: 0.0234686\ttotal: 1.75s\tremaining: 3.37s\n",
      "342:\tlearn: 0.0233807\ttotal: 1.76s\tremaining: 3.36s\n",
      "343:\tlearn: 0.0233276\ttotal: 1.76s\tremaining: 3.36s\n",
      "344:\tlearn: 0.0232640\ttotal: 1.77s\tremaining: 3.35s\n",
      "345:\tlearn: 0.0231718\ttotal: 1.77s\tremaining: 3.35s\n",
      "346:\tlearn: 0.0230554\ttotal: 1.78s\tremaining: 3.34s\n",
      "347:\tlearn: 0.0229833\ttotal: 1.78s\tremaining: 3.34s\n",
      "348:\tlearn: 0.0228996\ttotal: 1.79s\tremaining: 3.33s\n",
      "349:\tlearn: 0.0228593\ttotal: 1.79s\tremaining: 3.33s\n",
      "350:\tlearn: 0.0228178\ttotal: 1.8s\tremaining: 3.32s\n",
      "351:\tlearn: 0.0227435\ttotal: 1.8s\tremaining: 3.32s\n",
      "352:\tlearn: 0.0226769\ttotal: 1.81s\tremaining: 3.31s\n",
      "353:\tlearn: 0.0225488\ttotal: 1.81s\tremaining: 3.31s\n",
      "354:\tlearn: 0.0224885\ttotal: 1.82s\tremaining: 3.3s\n",
      "355:\tlearn: 0.0224194\ttotal: 1.82s\tremaining: 3.3s\n",
      "356:\tlearn: 0.0223691\ttotal: 1.83s\tremaining: 3.29s\n",
      "357:\tlearn: 0.0223252\ttotal: 1.83s\tremaining: 3.29s\n",
      "358:\tlearn: 0.0222712\ttotal: 1.84s\tremaining: 3.28s\n",
      "359:\tlearn: 0.0222212\ttotal: 1.84s\tremaining: 3.28s\n",
      "360:\tlearn: 0.0221544\ttotal: 1.85s\tremaining: 3.27s\n",
      "361:\tlearn: 0.0220801\ttotal: 1.85s\tremaining: 3.27s\n",
      "362:\tlearn: 0.0219947\ttotal: 1.86s\tremaining: 3.26s\n",
      "363:\tlearn: 0.0219300\ttotal: 1.86s\tremaining: 3.26s\n",
      "364:\tlearn: 0.0218848\ttotal: 1.87s\tremaining: 3.25s\n",
      "365:\tlearn: 0.0218254\ttotal: 1.87s\tremaining: 3.25s\n",
      "366:\tlearn: 0.0217679\ttotal: 1.88s\tremaining: 3.24s\n",
      "367:\tlearn: 0.0217094\ttotal: 1.88s\tremaining: 3.23s\n",
      "368:\tlearn: 0.0216427\ttotal: 1.89s\tremaining: 3.23s\n",
      "369:\tlearn: 0.0215835\ttotal: 1.89s\tremaining: 3.22s\n",
      "370:\tlearn: 0.0215382\ttotal: 1.9s\tremaining: 3.22s\n",
      "371:\tlearn: 0.0214677\ttotal: 1.9s\tremaining: 3.21s\n",
      "372:\tlearn: 0.0213787\ttotal: 1.91s\tremaining: 3.21s\n",
      "373:\tlearn: 0.0213271\ttotal: 1.91s\tremaining: 3.2s\n",
      "374:\tlearn: 0.0212954\ttotal: 1.92s\tremaining: 3.2s\n",
      "375:\tlearn: 0.0212054\ttotal: 1.92s\tremaining: 3.19s\n",
      "376:\tlearn: 0.0211551\ttotal: 1.93s\tremaining: 3.19s\n",
      "377:\tlearn: 0.0210990\ttotal: 1.93s\tremaining: 3.18s\n",
      "378:\tlearn: 0.0210483\ttotal: 1.94s\tremaining: 3.18s\n",
      "379:\tlearn: 0.0210259\ttotal: 1.94s\tremaining: 3.17s\n",
      "380:\tlearn: 0.0209629\ttotal: 1.95s\tremaining: 3.17s\n",
      "381:\tlearn: 0.0209086\ttotal: 1.95s\tremaining: 3.16s\n",
      "382:\tlearn: 0.0208374\ttotal: 1.96s\tremaining: 3.16s\n",
      "383:\tlearn: 0.0207564\ttotal: 1.96s\tremaining: 3.15s\n",
      "384:\tlearn: 0.0206699\ttotal: 1.97s\tremaining: 3.15s\n",
      "385:\tlearn: 0.0206153\ttotal: 1.98s\tremaining: 3.14s\n",
      "386:\tlearn: 0.0205586\ttotal: 1.98s\tremaining: 3.14s\n",
      "387:\tlearn: 0.0205085\ttotal: 1.99s\tremaining: 3.13s\n",
      "388:\tlearn: 0.0204557\ttotal: 1.99s\tremaining: 3.13s\n",
      "389:\tlearn: 0.0203939\ttotal: 2s\tremaining: 3.12s\n",
      "390:\tlearn: 0.0203298\ttotal: 2s\tremaining: 3.12s\n",
      "391:\tlearn: 0.0202524\ttotal: 2s\tremaining: 3.11s\n",
      "392:\tlearn: 0.0201820\ttotal: 2.01s\tremaining: 3.1s\n",
      "393:\tlearn: 0.0201405\ttotal: 2.02s\tremaining: 3.1s\n",
      "394:\tlearn: 0.0200903\ttotal: 2.02s\tremaining: 3.1s\n",
      "395:\tlearn: 0.0200400\ttotal: 2.02s\tremaining: 3.09s\n",
      "396:\tlearn: 0.0199676\ttotal: 2.03s\tremaining: 3.08s\n",
      "397:\tlearn: 0.0198936\ttotal: 2.04s\tremaining: 3.08s\n",
      "398:\tlearn: 0.0198506\ttotal: 2.04s\tremaining: 3.08s\n",
      "399:\tlearn: 0.0198023\ttotal: 2.05s\tremaining: 3.07s\n",
      "400:\tlearn: 0.0197555\ttotal: 2.05s\tremaining: 3.06s\n",
      "401:\tlearn: 0.0196988\ttotal: 2.06s\tremaining: 3.06s\n",
      "402:\tlearn: 0.0196454\ttotal: 2.06s\tremaining: 3.06s\n",
      "403:\tlearn: 0.0195700\ttotal: 2.07s\tremaining: 3.05s\n",
      "404:\tlearn: 0.0195250\ttotal: 2.07s\tremaining: 3.04s\n",
      "405:\tlearn: 0.0194699\ttotal: 2.08s\tremaining: 3.04s\n",
      "406:\tlearn: 0.0194302\ttotal: 2.08s\tremaining: 3.03s\n",
      "407:\tlearn: 0.0193791\ttotal: 2.09s\tremaining: 3.03s\n",
      "408:\tlearn: 0.0193037\ttotal: 2.09s\tremaining: 3.02s\n",
      "409:\tlearn: 0.0192494\ttotal: 2.1s\tremaining: 3.02s\n",
      "410:\tlearn: 0.0192222\ttotal: 2.1s\tremaining: 3.01s\n",
      "411:\tlearn: 0.0191644\ttotal: 2.11s\tremaining: 3.01s\n",
      "412:\tlearn: 0.0191331\ttotal: 2.11s\tremaining: 3s\n",
      "413:\tlearn: 0.0190593\ttotal: 2.12s\tremaining: 3s\n",
      "414:\tlearn: 0.0190025\ttotal: 2.12s\tremaining: 2.99s\n",
      "415:\tlearn: 0.0189480\ttotal: 2.13s\tremaining: 2.99s\n",
      "416:\tlearn: 0.0188844\ttotal: 2.13s\tremaining: 2.98s\n",
      "417:\tlearn: 0.0188399\ttotal: 2.14s\tremaining: 2.98s\n",
      "418:\tlearn: 0.0187986\ttotal: 2.14s\tremaining: 2.97s\n",
      "419:\tlearn: 0.0187605\ttotal: 2.15s\tremaining: 2.97s\n",
      "420:\tlearn: 0.0187059\ttotal: 2.15s\tremaining: 2.96s\n",
      "421:\tlearn: 0.0186472\ttotal: 2.16s\tremaining: 2.96s\n",
      "422:\tlearn: 0.0186064\ttotal: 2.16s\tremaining: 2.95s\n",
      "423:\tlearn: 0.0185620\ttotal: 2.17s\tremaining: 2.95s\n",
      "424:\tlearn: 0.0184972\ttotal: 2.17s\tremaining: 2.94s\n",
      "425:\tlearn: 0.0184378\ttotal: 2.18s\tremaining: 2.94s\n",
      "426:\tlearn: 0.0183799\ttotal: 2.19s\tremaining: 2.93s\n",
      "427:\tlearn: 0.0183284\ttotal: 2.19s\tremaining: 2.93s\n",
      "428:\tlearn: 0.0182740\ttotal: 2.19s\tremaining: 2.92s\n",
      "429:\tlearn: 0.0182096\ttotal: 2.2s\tremaining: 2.92s\n",
      "430:\tlearn: 0.0181517\ttotal: 2.21s\tremaining: 2.91s\n",
      "431:\tlearn: 0.0181093\ttotal: 2.21s\tremaining: 2.91s\n",
      "432:\tlearn: 0.0180737\ttotal: 2.21s\tremaining: 2.9s\n",
      "433:\tlearn: 0.0180264\ttotal: 2.22s\tremaining: 2.9s\n",
      "434:\tlearn: 0.0179732\ttotal: 2.23s\tremaining: 2.89s\n",
      "435:\tlearn: 0.0179353\ttotal: 2.23s\tremaining: 2.88s\n",
      "436:\tlearn: 0.0178903\ttotal: 2.24s\tremaining: 2.88s\n",
      "437:\tlearn: 0.0178499\ttotal: 2.24s\tremaining: 2.88s\n",
      "438:\tlearn: 0.0177994\ttotal: 2.25s\tremaining: 2.87s\n",
      "439:\tlearn: 0.0177643\ttotal: 2.25s\tremaining: 2.87s\n",
      "440:\tlearn: 0.0176936\ttotal: 2.26s\tremaining: 2.86s\n",
      "441:\tlearn: 0.0176300\ttotal: 2.26s\tremaining: 2.85s\n",
      "442:\tlearn: 0.0176010\ttotal: 2.27s\tremaining: 2.85s\n",
      "443:\tlearn: 0.0175633\ttotal: 2.27s\tremaining: 2.85s\n",
      "444:\tlearn: 0.0175093\ttotal: 2.28s\tremaining: 2.84s\n",
      "445:\tlearn: 0.0174735\ttotal: 2.28s\tremaining: 2.83s\n",
      "446:\tlearn: 0.0174282\ttotal: 2.29s\tremaining: 2.83s\n",
      "447:\tlearn: 0.0173958\ttotal: 2.29s\tremaining: 2.82s\n",
      "448:\tlearn: 0.0173100\ttotal: 2.3s\tremaining: 2.82s\n",
      "449:\tlearn: 0.0172670\ttotal: 2.3s\tremaining: 2.81s\n",
      "450:\tlearn: 0.0172388\ttotal: 2.31s\tremaining: 2.81s\n",
      "451:\tlearn: 0.0171776\ttotal: 2.31s\tremaining: 2.8s\n",
      "452:\tlearn: 0.0171316\ttotal: 2.32s\tremaining: 2.8s\n",
      "453:\tlearn: 0.0171034\ttotal: 2.32s\tremaining: 2.79s\n",
      "454:\tlearn: 0.0170616\ttotal: 2.33s\tremaining: 2.79s\n",
      "455:\tlearn: 0.0170255\ttotal: 2.33s\tremaining: 2.78s\n",
      "456:\tlearn: 0.0169816\ttotal: 2.34s\tremaining: 2.78s\n",
      "457:\tlearn: 0.0169180\ttotal: 2.34s\tremaining: 2.77s\n",
      "458:\tlearn: 0.0168817\ttotal: 2.35s\tremaining: 2.77s\n",
      "459:\tlearn: 0.0168208\ttotal: 2.35s\tremaining: 2.76s\n",
      "460:\tlearn: 0.0167804\ttotal: 2.36s\tremaining: 2.76s\n",
      "461:\tlearn: 0.0167209\ttotal: 2.37s\tremaining: 2.75s\n",
      "462:\tlearn: 0.0166439\ttotal: 2.37s\tremaining: 2.75s\n",
      "463:\tlearn: 0.0166045\ttotal: 2.38s\tremaining: 2.74s\n",
      "464:\tlearn: 0.0165409\ttotal: 2.38s\tremaining: 2.74s\n",
      "465:\tlearn: 0.0165099\ttotal: 2.39s\tremaining: 2.73s\n",
      "466:\tlearn: 0.0164800\ttotal: 2.39s\tremaining: 2.73s\n",
      "467:\tlearn: 0.0164078\ttotal: 2.4s\tremaining: 2.72s\n",
      "468:\tlearn: 0.0163618\ttotal: 2.4s\tremaining: 2.72s\n",
      "469:\tlearn: 0.0163284\ttotal: 2.4s\tremaining: 2.71s\n",
      "470:\tlearn: 0.0162973\ttotal: 2.41s\tremaining: 2.71s\n",
      "471:\tlearn: 0.0162479\ttotal: 2.42s\tremaining: 2.7s\n",
      "472:\tlearn: 0.0162070\ttotal: 2.42s\tremaining: 2.7s\n",
      "473:\tlearn: 0.0161820\ttotal: 2.43s\tremaining: 2.69s\n",
      "474:\tlearn: 0.0161462\ttotal: 2.43s\tremaining: 2.69s\n",
      "475:\tlearn: 0.0161116\ttotal: 2.44s\tremaining: 2.68s\n",
      "476:\tlearn: 0.0160715\ttotal: 2.44s\tremaining: 2.68s\n",
      "477:\tlearn: 0.0160355\ttotal: 2.45s\tremaining: 2.67s\n",
      "478:\tlearn: 0.0159959\ttotal: 2.45s\tremaining: 2.67s\n",
      "479:\tlearn: 0.0159494\ttotal: 2.46s\tremaining: 2.66s\n",
      "480:\tlearn: 0.0159146\ttotal: 2.46s\tremaining: 2.66s\n",
      "481:\tlearn: 0.0158764\ttotal: 2.47s\tremaining: 2.65s\n",
      "482:\tlearn: 0.0158401\ttotal: 2.47s\tremaining: 2.65s\n",
      "483:\tlearn: 0.0157993\ttotal: 2.48s\tremaining: 2.64s\n",
      "484:\tlearn: 0.0157582\ttotal: 2.48s\tremaining: 2.63s\n",
      "485:\tlearn: 0.0156959\ttotal: 2.49s\tremaining: 2.63s\n",
      "486:\tlearn: 0.0156343\ttotal: 2.49s\tremaining: 2.62s\n",
      "487:\tlearn: 0.0156085\ttotal: 2.5s\tremaining: 2.62s\n",
      "488:\tlearn: 0.0155551\ttotal: 2.5s\tremaining: 2.61s\n",
      "489:\tlearn: 0.0155229\ttotal: 2.51s\tremaining: 2.61s\n",
      "490:\tlearn: 0.0154981\ttotal: 2.51s\tremaining: 2.6s\n",
      "491:\tlearn: 0.0154483\ttotal: 2.52s\tremaining: 2.6s\n",
      "492:\tlearn: 0.0154126\ttotal: 2.52s\tremaining: 2.59s\n",
      "493:\tlearn: 0.0153704\ttotal: 2.53s\tremaining: 2.59s\n",
      "494:\tlearn: 0.0153279\ttotal: 2.53s\tremaining: 2.58s\n",
      "495:\tlearn: 0.0152779\ttotal: 2.54s\tremaining: 2.58s\n",
      "496:\tlearn: 0.0152490\ttotal: 2.54s\tremaining: 2.57s\n",
      "497:\tlearn: 0.0152165\ttotal: 2.55s\tremaining: 2.57s\n",
      "498:\tlearn: 0.0151697\ttotal: 2.55s\tremaining: 2.56s\n",
      "499:\tlearn: 0.0151142\ttotal: 2.56s\tremaining: 2.56s\n",
      "500:\tlearn: 0.0150776\ttotal: 2.56s\tremaining: 2.55s\n",
      "501:\tlearn: 0.0150500\ttotal: 2.57s\tremaining: 2.55s\n",
      "502:\tlearn: 0.0150193\ttotal: 2.57s\tremaining: 2.54s\n",
      "503:\tlearn: 0.0149856\ttotal: 2.58s\tremaining: 2.54s\n",
      "504:\tlearn: 0.0149572\ttotal: 2.58s\tremaining: 2.53s\n",
      "505:\tlearn: 0.0149046\ttotal: 2.59s\tremaining: 2.52s\n",
      "506:\tlearn: 0.0148757\ttotal: 2.59s\tremaining: 2.52s\n",
      "507:\tlearn: 0.0148546\ttotal: 2.6s\tremaining: 2.51s\n",
      "508:\tlearn: 0.0148177\ttotal: 2.6s\tremaining: 2.51s\n",
      "509:\tlearn: 0.0147943\ttotal: 2.61s\tremaining: 2.5s\n",
      "510:\tlearn: 0.0147513\ttotal: 2.61s\tremaining: 2.5s\n",
      "511:\tlearn: 0.0147139\ttotal: 2.62s\tremaining: 2.49s\n",
      "512:\tlearn: 0.0146884\ttotal: 2.62s\tremaining: 2.49s\n",
      "513:\tlearn: 0.0146347\ttotal: 2.63s\tremaining: 2.48s\n",
      "514:\tlearn: 0.0145990\ttotal: 2.63s\tremaining: 2.48s\n",
      "515:\tlearn: 0.0145654\ttotal: 2.64s\tremaining: 2.47s\n",
      "516:\tlearn: 0.0145160\ttotal: 2.64s\tremaining: 2.47s\n",
      "517:\tlearn: 0.0144723\ttotal: 2.65s\tremaining: 2.46s\n",
      "518:\tlearn: 0.0144405\ttotal: 2.65s\tremaining: 2.46s\n",
      "519:\tlearn: 0.0144140\ttotal: 2.66s\tremaining: 2.45s\n",
      "520:\tlearn: 0.0143761\ttotal: 2.66s\tremaining: 2.45s\n",
      "521:\tlearn: 0.0143462\ttotal: 2.67s\tremaining: 2.44s\n",
      "522:\tlearn: 0.0143075\ttotal: 2.67s\tremaining: 2.44s\n",
      "523:\tlearn: 0.0142758\ttotal: 2.68s\tremaining: 2.43s\n",
      "524:\tlearn: 0.0142553\ttotal: 2.68s\tremaining: 2.43s\n",
      "525:\tlearn: 0.0142355\ttotal: 2.69s\tremaining: 2.42s\n",
      "526:\tlearn: 0.0142011\ttotal: 2.69s\tremaining: 2.42s\n",
      "527:\tlearn: 0.0141643\ttotal: 2.7s\tremaining: 2.41s\n",
      "528:\tlearn: 0.0141378\ttotal: 2.7s\tremaining: 2.41s\n",
      "529:\tlearn: 0.0140892\ttotal: 2.71s\tremaining: 2.4s\n",
      "530:\tlearn: 0.0140716\ttotal: 2.71s\tremaining: 2.4s\n",
      "531:\tlearn: 0.0140439\ttotal: 2.72s\tremaining: 2.39s\n",
      "532:\tlearn: 0.0139903\ttotal: 2.72s\tremaining: 2.38s\n",
      "533:\tlearn: 0.0139663\ttotal: 2.73s\tremaining: 2.38s\n",
      "534:\tlearn: 0.0139340\ttotal: 2.73s\tremaining: 2.37s\n",
      "535:\tlearn: 0.0139105\ttotal: 2.74s\tremaining: 2.37s\n",
      "536:\tlearn: 0.0138815\ttotal: 2.74s\tremaining: 2.36s\n",
      "537:\tlearn: 0.0138423\ttotal: 2.75s\tremaining: 2.36s\n",
      "538:\tlearn: 0.0138113\ttotal: 2.75s\tremaining: 2.35s\n",
      "539:\tlearn: 0.0137822\ttotal: 2.76s\tremaining: 2.35s\n",
      "540:\tlearn: 0.0137608\ttotal: 2.76s\tremaining: 2.34s\n",
      "541:\tlearn: 0.0137390\ttotal: 2.77s\tremaining: 2.34s\n",
      "542:\tlearn: 0.0137152\ttotal: 2.77s\tremaining: 2.33s\n",
      "543:\tlearn: 0.0136710\ttotal: 2.78s\tremaining: 2.33s\n",
      "544:\tlearn: 0.0136469\ttotal: 2.78s\tremaining: 2.32s\n",
      "545:\tlearn: 0.0136196\ttotal: 2.79s\tremaining: 2.32s\n",
      "546:\tlearn: 0.0135919\ttotal: 2.79s\tremaining: 2.31s\n",
      "547:\tlearn: 0.0135651\ttotal: 2.8s\tremaining: 2.31s\n",
      "548:\tlearn: 0.0135434\ttotal: 2.8s\tremaining: 2.3s\n",
      "549:\tlearn: 0.0135108\ttotal: 2.81s\tremaining: 2.3s\n",
      "550:\tlearn: 0.0134714\ttotal: 2.81s\tremaining: 2.29s\n",
      "551:\tlearn: 0.0134305\ttotal: 2.82s\tremaining: 2.29s\n",
      "552:\tlearn: 0.0134119\ttotal: 2.82s\tremaining: 2.28s\n",
      "553:\tlearn: 0.0133862\ttotal: 2.83s\tremaining: 2.28s\n",
      "554:\tlearn: 0.0133499\ttotal: 2.83s\tremaining: 2.27s\n",
      "555:\tlearn: 0.0133089\ttotal: 2.84s\tremaining: 2.27s\n",
      "556:\tlearn: 0.0132861\ttotal: 2.84s\tremaining: 2.26s\n",
      "557:\tlearn: 0.0132555\ttotal: 2.85s\tremaining: 2.25s\n",
      "558:\tlearn: 0.0132212\ttotal: 2.85s\tremaining: 2.25s\n",
      "559:\tlearn: 0.0131971\ttotal: 2.86s\tremaining: 2.25s\n",
      "560:\tlearn: 0.0131575\ttotal: 2.86s\tremaining: 2.24s\n",
      "561:\tlearn: 0.0131385\ttotal: 2.87s\tremaining: 2.23s\n",
      "562:\tlearn: 0.0131206\ttotal: 2.87s\tremaining: 2.23s\n",
      "563:\tlearn: 0.0130625\ttotal: 2.88s\tremaining: 2.22s\n",
      "564:\tlearn: 0.0130288\ttotal: 2.88s\tremaining: 2.22s\n",
      "565:\tlearn: 0.0130057\ttotal: 2.89s\tremaining: 2.21s\n",
      "566:\tlearn: 0.0129718\ttotal: 2.89s\tremaining: 2.21s\n",
      "567:\tlearn: 0.0129417\ttotal: 2.9s\tremaining: 2.2s\n",
      "568:\tlearn: 0.0129219\ttotal: 2.9s\tremaining: 2.2s\n",
      "569:\tlearn: 0.0128926\ttotal: 2.91s\tremaining: 2.19s\n",
      "570:\tlearn: 0.0128618\ttotal: 2.91s\tremaining: 2.19s\n",
      "571:\tlearn: 0.0128254\ttotal: 2.92s\tremaining: 2.18s\n",
      "572:\tlearn: 0.0128035\ttotal: 2.92s\tremaining: 2.18s\n",
      "573:\tlearn: 0.0127820\ttotal: 2.93s\tremaining: 2.17s\n",
      "574:\tlearn: 0.0127482\ttotal: 2.93s\tremaining: 2.17s\n",
      "575:\tlearn: 0.0127257\ttotal: 2.94s\tremaining: 2.16s\n",
      "576:\tlearn: 0.0127050\ttotal: 2.94s\tremaining: 2.16s\n",
      "577:\tlearn: 0.0126753\ttotal: 2.95s\tremaining: 2.15s\n",
      "578:\tlearn: 0.0126533\ttotal: 2.95s\tremaining: 2.15s\n",
      "579:\tlearn: 0.0126360\ttotal: 2.96s\tremaining: 2.14s\n",
      "580:\tlearn: 0.0126135\ttotal: 2.96s\tremaining: 2.14s\n",
      "581:\tlearn: 0.0125800\ttotal: 2.97s\tremaining: 2.13s\n",
      "582:\tlearn: 0.0125570\ttotal: 2.97s\tremaining: 2.13s\n",
      "583:\tlearn: 0.0125453\ttotal: 2.98s\tremaining: 2.12s\n",
      "584:\tlearn: 0.0125221\ttotal: 2.98s\tremaining: 2.12s\n",
      "585:\tlearn: 0.0125015\ttotal: 2.99s\tremaining: 2.11s\n",
      "586:\tlearn: 0.0124756\ttotal: 2.99s\tremaining: 2.1s\n",
      "587:\tlearn: 0.0124542\ttotal: 3s\tremaining: 2.1s\n",
      "588:\tlearn: 0.0124153\ttotal: 3s\tremaining: 2.1s\n",
      "589:\tlearn: 0.0123770\ttotal: 3.01s\tremaining: 2.09s\n",
      "590:\tlearn: 0.0123565\ttotal: 3.01s\tremaining: 2.08s\n",
      "591:\tlearn: 0.0123324\ttotal: 3.02s\tremaining: 2.08s\n",
      "592:\tlearn: 0.0123151\ttotal: 3.02s\tremaining: 2.08s\n",
      "593:\tlearn: 0.0122856\ttotal: 3.03s\tremaining: 2.07s\n",
      "594:\tlearn: 0.0122655\ttotal: 3.03s\tremaining: 2.06s\n",
      "595:\tlearn: 0.0122337\ttotal: 3.04s\tremaining: 2.06s\n",
      "596:\tlearn: 0.0122118\ttotal: 3.04s\tremaining: 2.05s\n",
      "597:\tlearn: 0.0121909\ttotal: 3.05s\tremaining: 2.05s\n",
      "598:\tlearn: 0.0121580\ttotal: 3.05s\tremaining: 2.04s\n",
      "599:\tlearn: 0.0121285\ttotal: 3.06s\tremaining: 2.04s\n",
      "600:\tlearn: 0.0121066\ttotal: 3.06s\tremaining: 2.03s\n",
      "601:\tlearn: 0.0120757\ttotal: 3.07s\tremaining: 2.03s\n",
      "602:\tlearn: 0.0120547\ttotal: 3.07s\tremaining: 2.02s\n",
      "603:\tlearn: 0.0120424\ttotal: 3.08s\tremaining: 2.02s\n",
      "604:\tlearn: 0.0120206\ttotal: 3.08s\tremaining: 2.01s\n",
      "605:\tlearn: 0.0120003\ttotal: 3.09s\tremaining: 2.01s\n",
      "606:\tlearn: 0.0119741\ttotal: 3.09s\tremaining: 2s\n",
      "607:\tlearn: 0.0119540\ttotal: 3.1s\tremaining: 2s\n",
      "608:\tlearn: 0.0119331\ttotal: 3.1s\tremaining: 1.99s\n",
      "609:\tlearn: 0.0119188\ttotal: 3.11s\tremaining: 1.99s\n",
      "610:\tlearn: 0.0119017\ttotal: 3.11s\tremaining: 1.98s\n",
      "611:\tlearn: 0.0118705\ttotal: 3.12s\tremaining: 1.98s\n",
      "612:\tlearn: 0.0118330\ttotal: 3.12s\tremaining: 1.97s\n",
      "613:\tlearn: 0.0118161\ttotal: 3.13s\tremaining: 1.97s\n",
      "614:\tlearn: 0.0118058\ttotal: 3.13s\tremaining: 1.96s\n",
      "615:\tlearn: 0.0117750\ttotal: 3.14s\tremaining: 1.96s\n",
      "616:\tlearn: 0.0117590\ttotal: 3.14s\tremaining: 1.95s\n",
      "617:\tlearn: 0.0117393\ttotal: 3.15s\tremaining: 1.95s\n",
      "618:\tlearn: 0.0117052\ttotal: 3.15s\tremaining: 1.94s\n",
      "619:\tlearn: 0.0116780\ttotal: 3.16s\tremaining: 1.94s\n",
      "620:\tlearn: 0.0116577\ttotal: 3.16s\tremaining: 1.93s\n",
      "621:\tlearn: 0.0116407\ttotal: 3.17s\tremaining: 1.93s\n",
      "622:\tlearn: 0.0116255\ttotal: 3.17s\tremaining: 1.92s\n",
      "623:\tlearn: 0.0115953\ttotal: 3.18s\tremaining: 1.92s\n",
      "624:\tlearn: 0.0115693\ttotal: 3.18s\tremaining: 1.91s\n",
      "625:\tlearn: 0.0115437\ttotal: 3.19s\tremaining: 1.91s\n",
      "626:\tlearn: 0.0115139\ttotal: 3.19s\tremaining: 1.9s\n",
      "627:\tlearn: 0.0114901\ttotal: 3.2s\tremaining: 1.9s\n",
      "628:\tlearn: 0.0114673\ttotal: 3.21s\tremaining: 1.89s\n",
      "629:\tlearn: 0.0114366\ttotal: 3.21s\tremaining: 1.89s\n",
      "630:\tlearn: 0.0114186\ttotal: 3.21s\tremaining: 1.88s\n",
      "631:\tlearn: 0.0114005\ttotal: 3.22s\tremaining: 1.88s\n",
      "632:\tlearn: 0.0113635\ttotal: 3.23s\tremaining: 1.87s\n",
      "633:\tlearn: 0.0113370\ttotal: 3.23s\tremaining: 1.86s\n",
      "634:\tlearn: 0.0113181\ttotal: 3.24s\tremaining: 1.86s\n",
      "635:\tlearn: 0.0113007\ttotal: 3.24s\tremaining: 1.85s\n",
      "636:\tlearn: 0.0112833\ttotal: 3.25s\tremaining: 1.85s\n",
      "637:\tlearn: 0.0112543\ttotal: 3.25s\tremaining: 1.84s\n",
      "638:\tlearn: 0.0112383\ttotal: 3.25s\tremaining: 1.84s\n",
      "639:\tlearn: 0.0112153\ttotal: 3.26s\tremaining: 1.83s\n",
      "640:\tlearn: 0.0111893\ttotal: 3.27s\tremaining: 1.83s\n",
      "641:\tlearn: 0.0111587\ttotal: 3.27s\tremaining: 1.82s\n",
      "642:\tlearn: 0.0111365\ttotal: 3.28s\tremaining: 1.82s\n",
      "643:\tlearn: 0.0111116\ttotal: 3.28s\tremaining: 1.81s\n",
      "644:\tlearn: 0.0110910\ttotal: 3.29s\tremaining: 1.81s\n",
      "645:\tlearn: 0.0110662\ttotal: 3.29s\tremaining: 1.8s\n",
      "646:\tlearn: 0.0110507\ttotal: 3.3s\tremaining: 1.8s\n",
      "647:\tlearn: 0.0110200\ttotal: 3.3s\tremaining: 1.79s\n",
      "648:\tlearn: 0.0109857\ttotal: 3.31s\tremaining: 1.79s\n",
      "649:\tlearn: 0.0109706\ttotal: 3.31s\tremaining: 1.78s\n",
      "650:\tlearn: 0.0109454\ttotal: 3.32s\tremaining: 1.78s\n",
      "651:\tlearn: 0.0109273\ttotal: 3.32s\tremaining: 1.77s\n",
      "652:\tlearn: 0.0109137\ttotal: 3.33s\tremaining: 1.77s\n",
      "653:\tlearn: 0.0108985\ttotal: 3.33s\tremaining: 1.76s\n",
      "654:\tlearn: 0.0108775\ttotal: 3.34s\tremaining: 1.76s\n",
      "655:\tlearn: 0.0108618\ttotal: 3.34s\tremaining: 1.75s\n",
      "656:\tlearn: 0.0108455\ttotal: 3.35s\tremaining: 1.75s\n",
      "657:\tlearn: 0.0108263\ttotal: 3.35s\tremaining: 1.74s\n",
      "658:\tlearn: 0.0107974\ttotal: 3.36s\tremaining: 1.74s\n",
      "659:\tlearn: 0.0107780\ttotal: 3.36s\tremaining: 1.73s\n",
      "660:\tlearn: 0.0107627\ttotal: 3.37s\tremaining: 1.73s\n",
      "661:\tlearn: 0.0107420\ttotal: 3.37s\tremaining: 1.72s\n",
      "662:\tlearn: 0.0107261\ttotal: 3.38s\tremaining: 1.72s\n",
      "663:\tlearn: 0.0107132\ttotal: 3.38s\tremaining: 1.71s\n",
      "664:\tlearn: 0.0106946\ttotal: 3.39s\tremaining: 1.71s\n",
      "665:\tlearn: 0.0106785\ttotal: 3.39s\tremaining: 1.7s\n",
      "666:\tlearn: 0.0106591\ttotal: 3.4s\tremaining: 1.7s\n",
      "667:\tlearn: 0.0106399\ttotal: 3.4s\tremaining: 1.69s\n",
      "668:\tlearn: 0.0106228\ttotal: 3.41s\tremaining: 1.69s\n",
      "669:\tlearn: 0.0106038\ttotal: 3.41s\tremaining: 1.68s\n",
      "670:\tlearn: 0.0105786\ttotal: 3.42s\tremaining: 1.68s\n",
      "671:\tlearn: 0.0105553\ttotal: 3.42s\tremaining: 1.67s\n",
      "672:\tlearn: 0.0105400\ttotal: 3.43s\tremaining: 1.67s\n",
      "673:\tlearn: 0.0105224\ttotal: 3.43s\tremaining: 1.66s\n",
      "674:\tlearn: 0.0104948\ttotal: 3.44s\tremaining: 1.66s\n",
      "675:\tlearn: 0.0104643\ttotal: 3.44s\tremaining: 1.65s\n",
      "676:\tlearn: 0.0104505\ttotal: 3.45s\tremaining: 1.65s\n",
      "677:\tlearn: 0.0104288\ttotal: 3.45s\tremaining: 1.64s\n",
      "678:\tlearn: 0.0104008\ttotal: 3.46s\tremaining: 1.64s\n",
      "679:\tlearn: 0.0103878\ttotal: 3.46s\tremaining: 1.63s\n",
      "680:\tlearn: 0.0103726\ttotal: 3.47s\tremaining: 1.63s\n",
      "681:\tlearn: 0.0103593\ttotal: 3.47s\tremaining: 1.62s\n",
      "682:\tlearn: 0.0103391\ttotal: 3.48s\tremaining: 1.61s\n",
      "683:\tlearn: 0.0103218\ttotal: 3.48s\tremaining: 1.61s\n",
      "684:\tlearn: 0.0103068\ttotal: 3.49s\tremaining: 1.6s\n",
      "685:\tlearn: 0.0102917\ttotal: 3.49s\tremaining: 1.6s\n",
      "686:\tlearn: 0.0102747\ttotal: 3.5s\tremaining: 1.59s\n",
      "687:\tlearn: 0.0102485\ttotal: 3.5s\tremaining: 1.59s\n",
      "688:\tlearn: 0.0102318\ttotal: 3.51s\tremaining: 1.58s\n",
      "689:\tlearn: 0.0102180\ttotal: 3.51s\tremaining: 1.58s\n",
      "690:\tlearn: 0.0101995\ttotal: 3.52s\tremaining: 1.57s\n",
      "691:\tlearn: 0.0101793\ttotal: 3.52s\tremaining: 1.57s\n",
      "692:\tlearn: 0.0101651\ttotal: 3.53s\tremaining: 1.56s\n",
      "693:\tlearn: 0.0101535\ttotal: 3.53s\tremaining: 1.56s\n",
      "694:\tlearn: 0.0101330\ttotal: 3.54s\tremaining: 1.55s\n",
      "695:\tlearn: 0.0101174\ttotal: 3.54s\tremaining: 1.55s\n",
      "696:\tlearn: 0.0100999\ttotal: 3.55s\tremaining: 1.54s\n",
      "697:\tlearn: 0.0100747\ttotal: 3.55s\tremaining: 1.54s\n",
      "698:\tlearn: 0.0100621\ttotal: 3.56s\tremaining: 1.53s\n",
      "699:\tlearn: 0.0100337\ttotal: 3.56s\tremaining: 1.53s\n",
      "700:\tlearn: 0.0100174\ttotal: 3.57s\tremaining: 1.52s\n",
      "701:\tlearn: 0.0100082\ttotal: 3.57s\tremaining: 1.52s\n",
      "702:\tlearn: 0.0099877\ttotal: 3.58s\tremaining: 1.51s\n",
      "703:\tlearn: 0.0099736\ttotal: 3.58s\tremaining: 1.51s\n",
      "704:\tlearn: 0.0099555\ttotal: 3.59s\tremaining: 1.5s\n",
      "705:\tlearn: 0.0099489\ttotal: 3.59s\tremaining: 1.5s\n",
      "706:\tlearn: 0.0099310\ttotal: 3.6s\tremaining: 1.49s\n",
      "707:\tlearn: 0.0099039\ttotal: 3.6s\tremaining: 1.49s\n",
      "708:\tlearn: 0.0098887\ttotal: 3.61s\tremaining: 1.48s\n",
      "709:\tlearn: 0.0098711\ttotal: 3.61s\tremaining: 1.48s\n",
      "710:\tlearn: 0.0098496\ttotal: 3.62s\tremaining: 1.47s\n",
      "711:\tlearn: 0.0098397\ttotal: 3.62s\tremaining: 1.47s\n",
      "712:\tlearn: 0.0098230\ttotal: 3.63s\tremaining: 1.46s\n",
      "713:\tlearn: 0.0098028\ttotal: 3.63s\tremaining: 1.46s\n",
      "714:\tlearn: 0.0097881\ttotal: 3.64s\tremaining: 1.45s\n",
      "715:\tlearn: 0.0097686\ttotal: 3.65s\tremaining: 1.45s\n",
      "716:\tlearn: 0.0097562\ttotal: 3.65s\tremaining: 1.44s\n",
      "717:\tlearn: 0.0097380\ttotal: 3.65s\tremaining: 1.44s\n",
      "718:\tlearn: 0.0097254\ttotal: 3.66s\tremaining: 1.43s\n",
      "719:\tlearn: 0.0097126\ttotal: 3.67s\tremaining: 1.43s\n",
      "720:\tlearn: 0.0096990\ttotal: 3.67s\tremaining: 1.42s\n",
      "721:\tlearn: 0.0096691\ttotal: 3.68s\tremaining: 1.42s\n",
      "722:\tlearn: 0.0096567\ttotal: 3.68s\tremaining: 1.41s\n",
      "723:\tlearn: 0.0096303\ttotal: 3.69s\tremaining: 1.41s\n",
      "724:\tlearn: 0.0096163\ttotal: 3.69s\tremaining: 1.4s\n",
      "725:\tlearn: 0.0096005\ttotal: 3.7s\tremaining: 1.4s\n",
      "726:\tlearn: 0.0095861\ttotal: 3.7s\tremaining: 1.39s\n",
      "727:\tlearn: 0.0095704\ttotal: 3.71s\tremaining: 1.39s\n",
      "728:\tlearn: 0.0095531\ttotal: 3.71s\tremaining: 1.38s\n",
      "729:\tlearn: 0.0095402\ttotal: 3.72s\tremaining: 1.38s\n",
      "730:\tlearn: 0.0095166\ttotal: 3.72s\tremaining: 1.37s\n",
      "731:\tlearn: 0.0095006\ttotal: 3.73s\tremaining: 1.36s\n",
      "732:\tlearn: 0.0094892\ttotal: 3.73s\tremaining: 1.36s\n",
      "733:\tlearn: 0.0094800\ttotal: 3.74s\tremaining: 1.35s\n",
      "734:\tlearn: 0.0094609\ttotal: 3.74s\tremaining: 1.35s\n",
      "735:\tlearn: 0.0094441\ttotal: 3.75s\tremaining: 1.34s\n",
      "736:\tlearn: 0.0094344\ttotal: 3.75s\tremaining: 1.34s\n",
      "737:\tlearn: 0.0094226\ttotal: 3.76s\tremaining: 1.33s\n",
      "738:\tlearn: 0.0094145\ttotal: 3.76s\tremaining: 1.33s\n",
      "739:\tlearn: 0.0093949\ttotal: 3.77s\tremaining: 1.32s\n",
      "740:\tlearn: 0.0093681\ttotal: 3.77s\tremaining: 1.32s\n",
      "741:\tlearn: 0.0093499\ttotal: 3.78s\tremaining: 1.31s\n",
      "742:\tlearn: 0.0093369\ttotal: 3.78s\tremaining: 1.31s\n",
      "743:\tlearn: 0.0093257\ttotal: 3.79s\tremaining: 1.3s\n",
      "744:\tlearn: 0.0093043\ttotal: 3.79s\tremaining: 1.3s\n",
      "745:\tlearn: 0.0092942\ttotal: 3.8s\tremaining: 1.29s\n",
      "746:\tlearn: 0.0092778\ttotal: 3.8s\tremaining: 1.29s\n",
      "747:\tlearn: 0.0092685\ttotal: 3.81s\tremaining: 1.28s\n",
      "748:\tlearn: 0.0092549\ttotal: 3.81s\tremaining: 1.28s\n",
      "749:\tlearn: 0.0092422\ttotal: 3.82s\tremaining: 1.27s\n",
      "750:\tlearn: 0.0092264\ttotal: 3.82s\tremaining: 1.27s\n",
      "751:\tlearn: 0.0092081\ttotal: 3.83s\tremaining: 1.26s\n",
      "752:\tlearn: 0.0091921\ttotal: 3.83s\tremaining: 1.26s\n",
      "753:\tlearn: 0.0091779\ttotal: 3.84s\tremaining: 1.25s\n",
      "754:\tlearn: 0.0091655\ttotal: 3.84s\tremaining: 1.25s\n",
      "755:\tlearn: 0.0091549\ttotal: 3.85s\tremaining: 1.24s\n",
      "756:\tlearn: 0.0091465\ttotal: 3.85s\tremaining: 1.24s\n",
      "757:\tlearn: 0.0091330\ttotal: 3.86s\tremaining: 1.23s\n",
      "758:\tlearn: 0.0091097\ttotal: 3.86s\tremaining: 1.23s\n",
      "759:\tlearn: 0.0090943\ttotal: 3.87s\tremaining: 1.22s\n",
      "760:\tlearn: 0.0090786\ttotal: 3.87s\tremaining: 1.22s\n",
      "761:\tlearn: 0.0090636\ttotal: 3.88s\tremaining: 1.21s\n",
      "762:\tlearn: 0.0090439\ttotal: 3.88s\tremaining: 1.21s\n",
      "763:\tlearn: 0.0090204\ttotal: 3.89s\tremaining: 1.2s\n",
      "764:\tlearn: 0.0090063\ttotal: 3.89s\tremaining: 1.2s\n",
      "765:\tlearn: 0.0089953\ttotal: 3.9s\tremaining: 1.19s\n",
      "766:\tlearn: 0.0089798\ttotal: 3.9s\tremaining: 1.19s\n",
      "767:\tlearn: 0.0089574\ttotal: 3.91s\tremaining: 1.18s\n",
      "768:\tlearn: 0.0089387\ttotal: 3.91s\tremaining: 1.18s\n",
      "769:\tlearn: 0.0089191\ttotal: 3.92s\tremaining: 1.17s\n",
      "770:\tlearn: 0.0089121\ttotal: 3.92s\tremaining: 1.17s\n",
      "771:\tlearn: 0.0088948\ttotal: 3.93s\tremaining: 1.16s\n",
      "772:\tlearn: 0.0088837\ttotal: 3.93s\tremaining: 1.16s\n",
      "773:\tlearn: 0.0088736\ttotal: 3.94s\tremaining: 1.15s\n",
      "774:\tlearn: 0.0088639\ttotal: 3.94s\tremaining: 1.14s\n",
      "775:\tlearn: 0.0088534\ttotal: 3.95s\tremaining: 1.14s\n",
      "776:\tlearn: 0.0088417\ttotal: 3.95s\tremaining: 1.13s\n",
      "777:\tlearn: 0.0088320\ttotal: 3.96s\tremaining: 1.13s\n",
      "778:\tlearn: 0.0088177\ttotal: 3.96s\tremaining: 1.12s\n",
      "779:\tlearn: 0.0088045\ttotal: 3.97s\tremaining: 1.12s\n",
      "780:\tlearn: 0.0087933\ttotal: 3.97s\tremaining: 1.11s\n",
      "781:\tlearn: 0.0087827\ttotal: 3.98s\tremaining: 1.11s\n",
      "782:\tlearn: 0.0087679\ttotal: 3.98s\tremaining: 1.1s\n",
      "783:\tlearn: 0.0087611\ttotal: 3.99s\tremaining: 1.1s\n",
      "784:\tlearn: 0.0087492\ttotal: 3.99s\tremaining: 1.09s\n",
      "785:\tlearn: 0.0087410\ttotal: 4s\tremaining: 1.09s\n",
      "786:\tlearn: 0.0087231\ttotal: 4s\tremaining: 1.08s\n",
      "787:\tlearn: 0.0087044\ttotal: 4.01s\tremaining: 1.08s\n",
      "788:\tlearn: 0.0086937\ttotal: 4.01s\tremaining: 1.07s\n",
      "789:\tlearn: 0.0086854\ttotal: 4.02s\tremaining: 1.07s\n",
      "790:\tlearn: 0.0086749\ttotal: 4.03s\tremaining: 1.06s\n",
      "791:\tlearn: 0.0086672\ttotal: 4.03s\tremaining: 1.06s\n",
      "792:\tlearn: 0.0086596\ttotal: 4.04s\tremaining: 1.05s\n",
      "793:\tlearn: 0.0086476\ttotal: 4.04s\tremaining: 1.05s\n",
      "794:\tlearn: 0.0086398\ttotal: 4.04s\tremaining: 1.04s\n",
      "795:\tlearn: 0.0086308\ttotal: 4.05s\tremaining: 1.04s\n",
      "796:\tlearn: 0.0086102\ttotal: 4.05s\tremaining: 1.03s\n",
      "797:\tlearn: 0.0085915\ttotal: 4.06s\tremaining: 1.03s\n",
      "798:\tlearn: 0.0085807\ttotal: 4.07s\tremaining: 1.02s\n",
      "799:\tlearn: 0.0085673\ttotal: 4.07s\tremaining: 1.02s\n",
      "800:\tlearn: 0.0085574\ttotal: 4.08s\tremaining: 1.01s\n",
      "801:\tlearn: 0.0085437\ttotal: 4.08s\tremaining: 1.01s\n",
      "802:\tlearn: 0.0085242\ttotal: 4.08s\tremaining: 1s\n",
      "803:\tlearn: 0.0085071\ttotal: 4.09s\tremaining: 997ms\n",
      "804:\tlearn: 0.0084847\ttotal: 4.1s\tremaining: 992ms\n",
      "805:\tlearn: 0.0084711\ttotal: 4.1s\tremaining: 987ms\n",
      "806:\tlearn: 0.0084514\ttotal: 4.11s\tremaining: 982ms\n",
      "807:\tlearn: 0.0084366\ttotal: 4.11s\tremaining: 977ms\n",
      "808:\tlearn: 0.0084173\ttotal: 4.12s\tremaining: 972ms\n",
      "809:\tlearn: 0.0084068\ttotal: 4.12s\tremaining: 967ms\n",
      "810:\tlearn: 0.0083964\ttotal: 4.13s\tremaining: 962ms\n",
      "811:\tlearn: 0.0083794\ttotal: 4.13s\tremaining: 957ms\n",
      "812:\tlearn: 0.0083702\ttotal: 4.14s\tremaining: 952ms\n",
      "813:\tlearn: 0.0083561\ttotal: 4.14s\tremaining: 947ms\n",
      "814:\tlearn: 0.0083470\ttotal: 4.15s\tremaining: 942ms\n",
      "815:\tlearn: 0.0083382\ttotal: 4.15s\tremaining: 936ms\n",
      "816:\tlearn: 0.0083290\ttotal: 4.16s\tremaining: 931ms\n",
      "817:\tlearn: 0.0083086\ttotal: 4.16s\tremaining: 926ms\n",
      "818:\tlearn: 0.0082970\ttotal: 4.17s\tremaining: 921ms\n",
      "819:\tlearn: 0.0082888\ttotal: 4.17s\tremaining: 916ms\n",
      "820:\tlearn: 0.0082774\ttotal: 4.18s\tremaining: 911ms\n",
      "821:\tlearn: 0.0082578\ttotal: 4.18s\tremaining: 906ms\n",
      "822:\tlearn: 0.0082436\ttotal: 4.19s\tremaining: 901ms\n",
      "823:\tlearn: 0.0082233\ttotal: 4.19s\tremaining: 896ms\n",
      "824:\tlearn: 0.0082144\ttotal: 4.2s\tremaining: 890ms\n",
      "825:\tlearn: 0.0081978\ttotal: 4.2s\tremaining: 885ms\n",
      "826:\tlearn: 0.0081810\ttotal: 4.21s\tremaining: 880ms\n",
      "827:\tlearn: 0.0081684\ttotal: 4.21s\tremaining: 875ms\n",
      "828:\tlearn: 0.0081491\ttotal: 4.22s\tremaining: 870ms\n",
      "829:\tlearn: 0.0081380\ttotal: 4.22s\tremaining: 865ms\n",
      "830:\tlearn: 0.0081261\ttotal: 4.23s\tremaining: 860ms\n",
      "831:\tlearn: 0.0081184\ttotal: 4.23s\tremaining: 855ms\n",
      "832:\tlearn: 0.0081077\ttotal: 4.24s\tremaining: 850ms\n",
      "833:\tlearn: 0.0080912\ttotal: 4.24s\tremaining: 844ms\n",
      "834:\tlearn: 0.0080818\ttotal: 4.25s\tremaining: 839ms\n",
      "835:\tlearn: 0.0080633\ttotal: 4.25s\tremaining: 834ms\n",
      "836:\tlearn: 0.0080509\ttotal: 4.26s\tremaining: 829ms\n",
      "837:\tlearn: 0.0080381\ttotal: 4.26s\tremaining: 824ms\n",
      "838:\tlearn: 0.0080266\ttotal: 4.27s\tremaining: 819ms\n",
      "839:\tlearn: 0.0080118\ttotal: 4.27s\tremaining: 814ms\n",
      "840:\tlearn: 0.0079964\ttotal: 4.28s\tremaining: 809ms\n",
      "841:\tlearn: 0.0079842\ttotal: 4.28s\tremaining: 804ms\n",
      "842:\tlearn: 0.0079760\ttotal: 4.29s\tremaining: 799ms\n",
      "843:\tlearn: 0.0079650\ttotal: 4.29s\tremaining: 794ms\n",
      "844:\tlearn: 0.0079534\ttotal: 4.3s\tremaining: 789ms\n",
      "845:\tlearn: 0.0079436\ttotal: 4.3s\tremaining: 783ms\n",
      "846:\tlearn: 0.0079375\ttotal: 4.31s\tremaining: 778ms\n",
      "847:\tlearn: 0.0079277\ttotal: 4.31s\tremaining: 773ms\n",
      "848:\tlearn: 0.0079181\ttotal: 4.32s\tremaining: 768ms\n",
      "849:\tlearn: 0.0079077\ttotal: 4.32s\tremaining: 763ms\n",
      "850:\tlearn: 0.0078910\ttotal: 4.33s\tremaining: 758ms\n",
      "851:\tlearn: 0.0078832\ttotal: 4.33s\tremaining: 753ms\n",
      "852:\tlearn: 0.0078696\ttotal: 4.34s\tremaining: 748ms\n",
      "853:\tlearn: 0.0078592\ttotal: 4.34s\tremaining: 743ms\n",
      "854:\tlearn: 0.0078474\ttotal: 4.35s\tremaining: 738ms\n",
      "855:\tlearn: 0.0078352\ttotal: 4.35s\tremaining: 733ms\n",
      "856:\tlearn: 0.0078186\ttotal: 4.36s\tremaining: 727ms\n",
      "857:\tlearn: 0.0078106\ttotal: 4.36s\tremaining: 722ms\n",
      "858:\tlearn: 0.0078031\ttotal: 4.37s\tremaining: 717ms\n",
      "859:\tlearn: 0.0077916\ttotal: 4.37s\tremaining: 712ms\n",
      "860:\tlearn: 0.0077825\ttotal: 4.38s\tremaining: 707ms\n",
      "861:\tlearn: 0.0077761\ttotal: 4.38s\tremaining: 702ms\n",
      "862:\tlearn: 0.0077682\ttotal: 4.39s\tremaining: 697ms\n",
      "863:\tlearn: 0.0077567\ttotal: 4.39s\tremaining: 692ms\n",
      "864:\tlearn: 0.0077475\ttotal: 4.4s\tremaining: 687ms\n",
      "865:\tlearn: 0.0077380\ttotal: 4.4s\tremaining: 682ms\n",
      "866:\tlearn: 0.0077229\ttotal: 4.41s\tremaining: 676ms\n",
      "867:\tlearn: 0.0077144\ttotal: 4.42s\tremaining: 671ms\n",
      "868:\tlearn: 0.0077071\ttotal: 4.42s\tremaining: 666ms\n",
      "869:\tlearn: 0.0076898\ttotal: 4.42s\tremaining: 661ms\n",
      "870:\tlearn: 0.0076821\ttotal: 4.43s\tremaining: 656ms\n",
      "871:\tlearn: 0.0076610\ttotal: 4.43s\tremaining: 651ms\n",
      "872:\tlearn: 0.0076506\ttotal: 4.44s\tremaining: 646ms\n",
      "873:\tlearn: 0.0076383\ttotal: 4.45s\tremaining: 641ms\n",
      "874:\tlearn: 0.0076276\ttotal: 4.45s\tremaining: 636ms\n",
      "875:\tlearn: 0.0076177\ttotal: 4.46s\tremaining: 631ms\n",
      "876:\tlearn: 0.0076079\ttotal: 4.46s\tremaining: 626ms\n",
      "877:\tlearn: 0.0075942\ttotal: 4.47s\tremaining: 621ms\n",
      "878:\tlearn: 0.0075778\ttotal: 4.47s\tremaining: 616ms\n",
      "879:\tlearn: 0.0075701\ttotal: 4.48s\tremaining: 610ms\n",
      "880:\tlearn: 0.0075561\ttotal: 4.48s\tremaining: 605ms\n",
      "881:\tlearn: 0.0075467\ttotal: 4.49s\tremaining: 600ms\n",
      "882:\tlearn: 0.0075338\ttotal: 4.49s\tremaining: 595ms\n",
      "883:\tlearn: 0.0075237\ttotal: 4.5s\tremaining: 590ms\n",
      "884:\tlearn: 0.0075078\ttotal: 4.5s\tremaining: 585ms\n",
      "885:\tlearn: 0.0075035\ttotal: 4.51s\tremaining: 580ms\n",
      "886:\tlearn: 0.0074936\ttotal: 4.51s\tremaining: 575ms\n",
      "887:\tlearn: 0.0074848\ttotal: 4.52s\tremaining: 570ms\n",
      "888:\tlearn: 0.0074711\ttotal: 4.52s\tremaining: 565ms\n",
      "889:\tlearn: 0.0074576\ttotal: 4.53s\tremaining: 560ms\n",
      "890:\tlearn: 0.0074399\ttotal: 4.53s\tremaining: 554ms\n",
      "891:\tlearn: 0.0074342\ttotal: 4.54s\tremaining: 549ms\n",
      "892:\tlearn: 0.0074255\ttotal: 4.54s\tremaining: 544ms\n",
      "893:\tlearn: 0.0074181\ttotal: 4.55s\tremaining: 539ms\n",
      "894:\tlearn: 0.0074071\ttotal: 4.55s\tremaining: 534ms\n",
      "895:\tlearn: 0.0073943\ttotal: 4.56s\tremaining: 529ms\n",
      "896:\tlearn: 0.0073871\ttotal: 4.56s\tremaining: 524ms\n",
      "897:\tlearn: 0.0073778\ttotal: 4.57s\tremaining: 519ms\n",
      "898:\tlearn: 0.0073646\ttotal: 4.57s\tremaining: 514ms\n",
      "899:\tlearn: 0.0073581\ttotal: 4.58s\tremaining: 509ms\n",
      "900:\tlearn: 0.0073473\ttotal: 4.58s\tremaining: 504ms\n",
      "901:\tlearn: 0.0073370\ttotal: 4.59s\tremaining: 498ms\n",
      "902:\tlearn: 0.0073268\ttotal: 4.59s\tremaining: 493ms\n",
      "903:\tlearn: 0.0073171\ttotal: 4.6s\tremaining: 488ms\n",
      "904:\tlearn: 0.0073041\ttotal: 4.6s\tremaining: 483ms\n",
      "905:\tlearn: 0.0072963\ttotal: 4.61s\tremaining: 478ms\n",
      "906:\tlearn: 0.0072848\ttotal: 4.61s\tremaining: 473ms\n",
      "907:\tlearn: 0.0072801\ttotal: 4.62s\tremaining: 468ms\n",
      "908:\tlearn: 0.0072712\ttotal: 4.62s\tremaining: 463ms\n",
      "909:\tlearn: 0.0072651\ttotal: 4.63s\tremaining: 458ms\n",
      "910:\tlearn: 0.0072554\ttotal: 4.63s\tremaining: 453ms\n",
      "911:\tlearn: 0.0072402\ttotal: 4.64s\tremaining: 447ms\n",
      "912:\tlearn: 0.0072285\ttotal: 4.64s\tremaining: 442ms\n",
      "913:\tlearn: 0.0072141\ttotal: 4.65s\tremaining: 437ms\n",
      "914:\tlearn: 0.0072021\ttotal: 4.65s\tremaining: 432ms\n",
      "915:\tlearn: 0.0071872\ttotal: 4.66s\tremaining: 427ms\n",
      "916:\tlearn: 0.0071742\ttotal: 4.66s\tremaining: 422ms\n",
      "917:\tlearn: 0.0071629\ttotal: 4.67s\tremaining: 417ms\n",
      "918:\tlearn: 0.0071573\ttotal: 4.67s\tremaining: 412ms\n",
      "919:\tlearn: 0.0071459\ttotal: 4.68s\tremaining: 407ms\n",
      "920:\tlearn: 0.0071392\ttotal: 4.68s\tremaining: 402ms\n",
      "921:\tlearn: 0.0071228\ttotal: 4.69s\tremaining: 397ms\n",
      "922:\tlearn: 0.0071151\ttotal: 4.69s\tremaining: 391ms\n",
      "923:\tlearn: 0.0071017\ttotal: 4.7s\tremaining: 386ms\n",
      "924:\tlearn: 0.0070953\ttotal: 4.7s\tremaining: 381ms\n",
      "925:\tlearn: 0.0070879\ttotal: 4.71s\tremaining: 376ms\n",
      "926:\tlearn: 0.0070771\ttotal: 4.71s\tremaining: 371ms\n",
      "927:\tlearn: 0.0070704\ttotal: 4.72s\tremaining: 366ms\n",
      "928:\tlearn: 0.0070605\ttotal: 4.72s\tremaining: 361ms\n",
      "929:\tlearn: 0.0070539\ttotal: 4.73s\tremaining: 356ms\n",
      "930:\tlearn: 0.0070398\ttotal: 4.73s\tremaining: 351ms\n",
      "931:\tlearn: 0.0070223\ttotal: 4.74s\tremaining: 346ms\n",
      "932:\tlearn: 0.0070165\ttotal: 4.74s\tremaining: 341ms\n",
      "933:\tlearn: 0.0070098\ttotal: 4.75s\tremaining: 336ms\n",
      "934:\tlearn: 0.0070014\ttotal: 4.75s\tremaining: 330ms\n",
      "935:\tlearn: 0.0069957\ttotal: 4.76s\tremaining: 325ms\n",
      "936:\tlearn: 0.0069900\ttotal: 4.76s\tremaining: 320ms\n",
      "937:\tlearn: 0.0069801\ttotal: 4.77s\tremaining: 315ms\n",
      "938:\tlearn: 0.0069732\ttotal: 4.77s\tremaining: 310ms\n",
      "939:\tlearn: 0.0069673\ttotal: 4.78s\tremaining: 305ms\n",
      "940:\tlearn: 0.0069611\ttotal: 4.78s\tremaining: 300ms\n",
      "941:\tlearn: 0.0069531\ttotal: 4.79s\tremaining: 295ms\n",
      "942:\tlearn: 0.0069401\ttotal: 4.79s\tremaining: 290ms\n",
      "943:\tlearn: 0.0069319\ttotal: 4.8s\tremaining: 285ms\n",
      "944:\tlearn: 0.0069149\ttotal: 4.8s\tremaining: 280ms\n",
      "945:\tlearn: 0.0069064\ttotal: 4.81s\tremaining: 275ms\n",
      "946:\tlearn: 0.0068900\ttotal: 4.81s\tremaining: 269ms\n",
      "947:\tlearn: 0.0068807\ttotal: 4.82s\tremaining: 264ms\n",
      "948:\tlearn: 0.0068725\ttotal: 4.82s\tremaining: 259ms\n",
      "949:\tlearn: 0.0068562\ttotal: 4.83s\tremaining: 254ms\n",
      "950:\tlearn: 0.0068502\ttotal: 4.83s\tremaining: 249ms\n",
      "951:\tlearn: 0.0068385\ttotal: 4.84s\tremaining: 244ms\n",
      "952:\tlearn: 0.0068315\ttotal: 4.84s\tremaining: 239ms\n",
      "953:\tlearn: 0.0068243\ttotal: 4.85s\tremaining: 234ms\n",
      "954:\tlearn: 0.0068146\ttotal: 4.85s\tremaining: 229ms\n",
      "955:\tlearn: 0.0068073\ttotal: 4.86s\tremaining: 224ms\n",
      "956:\tlearn: 0.0067968\ttotal: 4.86s\tremaining: 219ms\n",
      "957:\tlearn: 0.0067858\ttotal: 4.87s\tremaining: 213ms\n",
      "958:\tlearn: 0.0067728\ttotal: 4.87s\tremaining: 208ms\n",
      "959:\tlearn: 0.0067662\ttotal: 4.88s\tremaining: 203ms\n",
      "960:\tlearn: 0.0067536\ttotal: 4.88s\tremaining: 198ms\n",
      "961:\tlearn: 0.0067436\ttotal: 4.89s\tremaining: 193ms\n",
      "962:\tlearn: 0.0067296\ttotal: 4.89s\tremaining: 188ms\n",
      "963:\tlearn: 0.0067223\ttotal: 4.9s\tremaining: 183ms\n",
      "964:\tlearn: 0.0067094\ttotal: 4.9s\tremaining: 178ms\n",
      "965:\tlearn: 0.0067004\ttotal: 4.91s\tremaining: 173ms\n",
      "966:\tlearn: 0.0066951\ttotal: 4.91s\tremaining: 168ms\n",
      "967:\tlearn: 0.0066903\ttotal: 4.92s\tremaining: 163ms\n",
      "968:\tlearn: 0.0066843\ttotal: 4.92s\tremaining: 158ms\n",
      "969:\tlearn: 0.0066800\ttotal: 4.93s\tremaining: 152ms\n",
      "970:\tlearn: 0.0066719\ttotal: 4.93s\tremaining: 147ms\n",
      "971:\tlearn: 0.0066580\ttotal: 4.94s\tremaining: 142ms\n",
      "972:\tlearn: 0.0066526\ttotal: 4.94s\tremaining: 137ms\n",
      "973:\tlearn: 0.0066453\ttotal: 4.95s\tremaining: 132ms\n",
      "974:\tlearn: 0.0066369\ttotal: 4.95s\tremaining: 127ms\n",
      "975:\tlearn: 0.0066268\ttotal: 4.96s\tremaining: 122ms\n",
      "976:\tlearn: 0.0066167\ttotal: 4.96s\tremaining: 117ms\n",
      "977:\tlearn: 0.0066097\ttotal: 4.97s\tremaining: 112ms\n",
      "978:\tlearn: 0.0065983\ttotal: 4.97s\tremaining: 107ms\n",
      "979:\tlearn: 0.0065890\ttotal: 4.98s\tremaining: 102ms\n",
      "980:\tlearn: 0.0065821\ttotal: 4.99s\tremaining: 96.6ms\n",
      "981:\tlearn: 0.0065738\ttotal: 4.99s\tremaining: 91.5ms\n",
      "982:\tlearn: 0.0065634\ttotal: 5s\tremaining: 86.4ms\n",
      "983:\tlearn: 0.0065537\ttotal: 5s\tremaining: 81.3ms\n",
      "984:\tlearn: 0.0065438\ttotal: 5.01s\tremaining: 76.3ms\n",
      "985:\tlearn: 0.0065364\ttotal: 5.01s\tremaining: 71.2ms\n",
      "986:\tlearn: 0.0065304\ttotal: 5.02s\tremaining: 66.1ms\n",
      "987:\tlearn: 0.0065234\ttotal: 5.02s\tremaining: 61ms\n",
      "988:\tlearn: 0.0065168\ttotal: 5.03s\tremaining: 55.9ms\n",
      "989:\tlearn: 0.0065079\ttotal: 5.03s\tremaining: 50.8ms\n",
      "990:\tlearn: 0.0064980\ttotal: 5.04s\tremaining: 45.7ms\n",
      "991:\tlearn: 0.0064905\ttotal: 5.04s\tremaining: 40.7ms\n",
      "992:\tlearn: 0.0064846\ttotal: 5.05s\tremaining: 35.6ms\n",
      "993:\tlearn: 0.0064786\ttotal: 5.05s\tremaining: 30.5ms\n",
      "994:\tlearn: 0.0064715\ttotal: 5.06s\tremaining: 25.4ms\n",
      "995:\tlearn: 0.0064592\ttotal: 5.06s\tremaining: 20.3ms\n",
      "996:\tlearn: 0.0064509\ttotal: 5.07s\tremaining: 15.2ms\n",
      "997:\tlearn: 0.0064463\ttotal: 5.07s\tremaining: 10.2ms\n",
      "998:\tlearn: 0.0064407\ttotal: 5.08s\tremaining: 5.08ms\n",
      "999:\tlearn: 0.0064276\ttotal: 5.08s\tremaining: 0us\n"
     ]
    },
    {
     "data": {
      "text/plain": "0.9592592592592593"
     },
     "execution_count": 24,
     "metadata": {},
     "output_type": "execute_result"
    }
   ],
   "source": [
    "run_classifier(CatBoostClassifier(), True)"
   ],
   "metadata": {
    "collapsed": false
   }
  },
  {
   "cell_type": "markdown",
   "source": [
    "Лучшие результаты были получены с помощью KNeighborsClassifier(n_neighbors=3), обученном на предобработанных t-SNE данных.\n",
    "\n",
    "В целом, большая часть моделей на предобработанных t-SNE данных давала лучшие результаты и обучалась быстрее."
   ],
   "metadata": {
    "collapsed": false
   }
  },
  {
   "cell_type": "code",
   "execution_count": 25,
   "outputs": [
    {
     "data": {
      "text/plain": "(0.9592592592592593, KNeighborsClassifier(n_neighbors=3), True)"
     },
     "execution_count": 25,
     "metadata": {},
     "output_type": "execute_result"
    }
   ],
   "source": [
    "best_accuracy, best_algorithm, best_tsne"
   ],
   "metadata": {
    "collapsed": false
   }
  },
  {
   "cell_type": "markdown",
   "source": [
    "Визуализируем примеры, на которых лучший классификатор ошибся.\n",
    "\n",
    "Для каждого примера будем указывать правильный ответ и ошибочный ответ, который дал классификатор."
   ],
   "metadata": {
    "collapsed": false
   }
  },
  {
   "cell_type": "code",
   "execution_count": 26,
   "outputs": [
    {
     "data": {
      "text/plain": "array([[ 0.,  0.,  1.,  8., 13.,  1.,  0.,  0.,  0.,  0.,  6., 16., 16.,\n         9.,  0.,  0.,  0.,  1., 15., 16., 16., 10.,  0.,  0.,  0.,  6.,\n        15., 14.,  6.,  0.,  0.,  0.,  0.,  3.,  7.,  6.,  6.,  0.,  0.,\n         0.,  0.,  1., 10.,  2., 11.,  0.,  0.,  0.,  0.,  0.,  4., 11.,\n        13.,  2.,  0.,  0.,  0.,  0.,  0.,  5., 12.,  5.,  0.,  0.],\n       [ 0.,  0.,  6., 14., 16., 15.,  1.,  0.,  0.,  9., 16., 12.,  9.,\n        16.,  3.,  0.,  0., 12., 16., 11., 14., 13.,  0.,  0.,  0.,  7.,\n        15., 16., 14.,  0.,  0.,  0.,  0.,  0.,  2.,  8., 16.,  5.,  0.,\n         0.,  0.,  0.,  0.,  6., 16.,  4.,  0.,  0.,  0.,  0.,  2., 13.,\n        12.,  0.,  0.,  0.,  0.,  0.,  9., 16.,  1.,  0.,  0.,  0.],\n       [ 0.,  0.,  9., 16., 16., 10.,  0.,  0.,  0.,  0.,  9.,  9.,  9.,\n        15.,  0.,  0.,  0.,  0.,  0.,  0.,  6., 14.,  0.,  0.,  0.,  0.,\n         0.,  2., 15.,  7.,  0.,  0.,  0.,  0.,  1., 14., 16.,  4.,  0.,\n         0.,  0.,  0.,  5., 16., 16.,  8.,  0.,  0.,  0.,  0.,  0.,  6.,\n        16.,  4.,  0.,  0.,  0.,  0., 11., 16., 12.,  0.,  0.,  0.],\n       [ 0.,  0., 10., 14.,  0.,  0.,  0.,  0.,  0.,  1., 16.,  7.,  1.,\n         7.,  0.,  0.,  0.,  0., 15.,  7., 12., 16.,  2.,  0.,  0.,  0.,\n        10., 16., 16.,  4.,  0.,  0.,  0.,  0.,  0.,  9., 14.,  0.,  0.,\n         0.,  0.,  0.,  0., 14., 10.,  0.,  0.,  0.,  0.,  0.,  5., 16.,\n         2.,  0.,  0.,  0.,  0.,  0., 11., 12.,  0.,  0.,  0.,  0.],\n       [ 0.,  0.,  5., 13.,  0.,  0.,  0.,  0.,  0.,  0., 12.,  9.,  4.,\n        13.,  0.,  0.,  0.,  0., 16.,  5., 11., 13.,  0.,  0.,  0.,  0.,\n        15., 13., 15.,  7.,  0.,  0.,  0.,  0.,  4., 14., 15.,  0.,  0.,\n         0.,  0.,  0.,  0., 14.,  8.,  0.,  0.,  0.,  0.,  0.,  2., 16.,\n         4.,  0.,  0.,  0.,  0.,  0.,  6., 16.,  1.,  0.,  0.,  0.],\n       [ 0.,  0.,  7., 16., 16.,  8.,  0.,  0.,  0.,  0., 14., 12., 11.,\n        14.,  0.,  0.,  0.,  0., 11., 15., 16., 12.,  0.,  0.,  0.,  0.,\n         5., 15., 15.,  4.,  0.,  0.,  0.,  0.,  0.,  3., 12., 14.,  0.,\n         0.,  0.,  1., 10.,  0.,  7., 15.,  0.,  0.,  0.,  1., 14.,  6.,\n        13., 12.,  0.,  0.,  0.,  0.,  7., 16., 16., 11.,  0.,  0.],\n       [ 0.,  0., 11.,  7.,  0.,  0.,  0.,  0.,  0.,  5., 16.,  3.,  2.,\n        14.,  3.,  0.,  0.,  9., 15.,  0., 12., 15.,  0.,  0.,  0.,  6.,\n        16., 15., 16.,  5.,  0.,  0.,  0.,  0.,  6., 15., 11.,  0.,  0.,\n         0.,  0.,  0.,  1., 16.,  4.,  0.,  0.,  0.,  0.,  0.,  9., 12.,\n         0.,  0.,  0.,  0.,  0.,  0., 13., 10.,  0.,  0.,  0.,  0.],\n       [ 0.,  0.,  7., 15., 16., 12.,  0.,  0.,  0., 12., 16., 11., 16.,\n        13.,  0.,  0.,  0., 15., 16., 16., 14.,  5.,  0.,  0.,  0.,  8.,\n        16., 12.,  0.,  0.,  0.,  0.,  0.,  0.,  2., 12.,  9.,  0.,  0.,\n         0.,  0.,  0.,  0.,  9., 13.,  0.,  0.,  0.,  0.,  0.,  2., 16.,\n         8.,  0.,  0.,  0.,  0.,  0., 10., 12.,  1.,  0.,  0.,  0.],\n       [ 0.,  4., 13., 16., 16.,  7.,  0.,  0.,  0.,  8., 12., 16., 16.,\n        13.,  0.,  0.,  0.,  0.,  9., 16., 16.,  3.,  0.,  0.,  0.,  0.,\n        15., 16.,  6.,  0.,  0.,  0.,  0.,  0., 10., 11.,  9.,  2.,  0.,\n         0.,  0.,  0.,  1.,  7., 15., 13.,  2.,  0.,  0.,  0.,  3.,  4.,\n         7., 16., 10.,  0.,  0.,  2., 11., 15., 11.,  8.,  2.,  0.],\n       [ 0.,  1.,  7., 13., 16., 13.,  0.,  0.,  0.,  7., 16., 16., 16.,\n        14.,  0.,  0.,  0.,  1.,  7., 16., 10.,  1.,  0.,  0.,  0.,  1.,\n        16., 15.,  0.,  0.,  0.,  0.,  0.,  0.,  8., 15., 14.,  3.,  0.,\n         0.,  0.,  0.,  0.,  1., 14., 15.,  3.,  0.,  0.,  0.,  1.,  5.,\n        13., 16.,  7.,  0.,  0.,  0.,  8., 15., 10.,  6.,  0.,  0.],\n       [ 0.,  0.,  5., 12.,  8.,  0.,  1.,  0.,  0.,  0., 11., 16.,  5.,\n        13.,  6.,  0.,  0.,  0.,  2., 15., 16., 12.,  1.,  0.,  0.,  0.,\n         0., 10., 16.,  6.,  0.,  0.,  0.,  0.,  1., 15., 16.,  7.,  0.,\n         0.,  0.,  0.,  8., 16., 16., 11.,  0.,  0.,  0.,  0., 11., 16.,\n        16.,  9.,  0.,  0.,  0.,  0.,  6., 12., 12.,  3.,  0.,  0.]])"
     },
     "execution_count": 26,
     "metadata": {},
     "output_type": "execute_result"
    }
   ],
   "source": [
    "def predict(classifier, tsne):\n",
    "    x_test_local = x_test_tsne if tsne else x_test\n",
    "    return classifier.predict(x_test_local)\n",
    "\n",
    "def find_test_errors(classifier, tsne):\n",
    "    prediction = predict(classifier, tsne)\n",
    "    prediction_bool = prediction != y_test\n",
    "    return x_test[prediction_bool], y_test[prediction_bool], prediction[prediction_bool]\n",
    "\n",
    "test_errors, test_errors_correct_answers, test_errors_algo_answers = find_test_errors(best_algorithm, best_tsne)\n",
    "test_errors"
   ],
   "metadata": {
    "collapsed": false
   }
  },
  {
   "cell_type": "code",
   "execution_count": 27,
   "outputs": [
    {
     "data": {
      "text/plain": "<Figure size 3000x1500 with 11 Axes>",
      "image/png": "[encoded data removed]"
     },
     "metadata": {},
     "output_type": "display_data"
    }
   ],
   "source": [
    "from math import ceil\n",
    "\n",
    "columns = 6\n",
    "rows = ceil(test_errors.shape[0] / columns)\n",
    "\n",
    "fig = plt.figure(figsize=(30, 15))\n",
    "\n",
    "for i in range(test_errors.shape[0]):\n",
    "    fig.add_subplot(rows, columns, i + 1)\n",
    "    plt.imshow(np.reshape(test_errors[i], (8, 8)), cmap=plt.cm.gray)\n",
    "    #plt.axis('off')\n",
    "    plt.title(f'Правильный ответ: {test_errors_correct_answers[i]}\\nОтвет алгоритма: {test_errors_algo_answers[i]}')"
   ],
   "metadata": {
    "collapsed": false
   }
  },
  {
   "cell_type": "markdown",
   "source": [
    "Интересно, что многие из примеров, где лучший классификатор ошибся, действительно неоднозначны, и на них с высокой вероятностью дал бы ошибочный ответ даже человек."
   ],
   "metadata": {
    "collapsed": false
   }
  },
  {
   "cell_type": "markdown",
   "source": [
    "## ДЗ №3\n",
    "\n",
    "1. Подумайте, как с помощью кластеризации и классификации определить число на картинке"
   ],
   "metadata": {
    "collapsed": false
   }
  },
  {
   "cell_type": "markdown",
   "source": [
    "Определять число на картинке будем с помощью обученной ранее на датасете digits модели.\n",
    "\n",
    "Для этого нужно сначала разделить цифры с помощью кластеризации, и потом преобразовать данные в формат датасета digits."
   ],
   "metadata": {
    "collapsed": false
   }
  },
  {
   "cell_type": "markdown",
   "source": [
    "Загрузим изображение."
   ],
   "metadata": {
    "collapsed": false
   }
  },
  {
   "cell_type": "code",
   "execution_count": 28,
   "outputs": [
    {
     "data": {
      "text/plain": "<matplotlib.image.AxesImage at 0x1ea4938e350>"
     },
     "execution_count": 28,
     "metadata": {},
     "output_type": "execute_result"
    },
    {
     "data": {
      "text/plain": "<Figure size 640x480 with 1 Axes>",
      "image/png": "[encoded data removed]"
     },
     "metadata": {},
     "output_type": "display_data"
    }
   ],
   "source": [
    "from skimage.io import imread\n",
    "\n",
    "image = imread('42.png')\n",
    "plt.imshow(image)"
   ],
   "metadata": {
    "collapsed": false
   }
  },
  {
   "cell_type": "code",
   "execution_count": 29,
   "outputs": [
    {
     "data": {
      "text/plain": "<matplotlib.image.AxesImage at 0x1ea49428f40>"
     },
     "execution_count": 29,
     "metadata": {},
     "output_type": "execute_result"
    },
    {
     "data": {
      "text/plain": "<Figure size 640x480 with 1 Axes>",
      "image/png": "[encoded data removed]"
     },
     "metadata": {},
     "output_type": "display_data"
    }
   ],
   "source": [
    "from skimage.color import rgb2gray, rgba2rgb\n",
    "\n",
    "image = rgb2gray(rgba2rgb(image))\n",
    "plt.imshow(image, cmap=plt.cm.gray)"
   ],
   "metadata": {
    "collapsed": false
   }
  },
  {
   "cell_type": "markdown",
   "source": [
    "Найдем координаты пикселей, содержащих информацию (то есть не белых)."
   ],
   "metadata": {
    "collapsed": false
   }
  },
  {
   "cell_type": "code",
   "execution_count": 30,
   "outputs": [
    {
     "data": {
      "text/plain": "array([[ 7,  7],\n       [ 7,  8],\n       [ 7,  9],\n       [ 7, 15],\n       [ 7, 16],\n       [ 7, 17],\n       [ 7, 18],\n       [ 7, 19],\n       [ 8,  7],\n       [ 8,  8],\n       [ 8,  9],\n       [ 8, 15],\n       [ 8, 16],\n       [ 8, 18],\n       [ 8, 19],\n       [ 8, 20],\n       [ 9,  6],\n       [ 9,  7],\n       [ 9,  8],\n       [ 9,  9],\n       [ 9, 19],\n       [ 9, 20],\n       [10,  6],\n       [10,  7],\n       [10,  8],\n       [10,  9],\n       [10, 18],\n       [10, 19],\n       [10, 20],\n       [11,  5],\n       [11,  6],\n       [11,  8],\n       [11,  9],\n       [11, 18],\n       [11, 19],\n       [12,  4],\n       [12,  5],\n       [12,  6],\n       [12,  7],\n       [12,  8],\n       [12,  9],\n       [12, 10],\n       [12, 11],\n       [12, 17],\n       [12, 18],\n       [13,  4],\n       [13,  5],\n       [13,  6],\n       [13,  7],\n       [13,  8],\n       [13,  9],\n       [13, 10],\n       [13, 11],\n       [13, 16],\n       [13, 17],\n       [14,  8],\n       [14,  9],\n       [14, 15],\n       [14, 16],\n       [14, 17],\n       [14, 18],\n       [14, 19],\n       [14, 20],\n       [15,  8],\n       [15,  9],\n       [15, 15],\n       [15, 16],\n       [15, 17],\n       [15, 18],\n       [15, 19],\n       [15, 20]])"
     },
     "execution_count": 30,
     "metadata": {},
     "output_type": "execute_result"
    }
   ],
   "source": [
    "point_coords = []\n",
    "\n",
    "for row in range(image.shape[0]):\n",
    "    for column in range(image.shape[1]):\n",
    "        if not (image[row, column] == 1).all():\n",
    "            point_coords.append([row, column])\n",
    "\n",
    "point_coords = np.array(point_coords)\n",
    "point_coords"
   ],
   "metadata": {
    "collapsed": false
   }
  },
  {
   "cell_type": "markdown",
   "source": [
    "Чтобы разделить цифры, используем кластеризацию.\n",
    "\n",
    "Лучше всего для этой задачи подойдет алгоритм DBSCAN."
   ],
   "metadata": {
    "collapsed": false
   }
  },
  {
   "cell_type": "code",
   "execution_count": 31,
   "outputs": [
    {
     "data": {
      "text/plain": "array([0, 0, 0, 1, 1, 1, 1, 1, 0, 0, 0, 1, 1, 1, 1, 1, 0, 0, 0, 0, 1, 1,\n       0, 0, 0, 0, 1, 1, 1, 0, 0, 0, 0, 1, 1, 0, 0, 0, 0, 0, 0, 0, 0, 1,\n       1, 0, 0, 0, 0, 0, 0, 0, 0, 1, 1, 0, 0, 1, 1, 1, 1, 1, 1, 0, 0, 1,\n       1, 1, 1, 1, 1], dtype=int64)"
     },
     "execution_count": 31,
     "metadata": {},
     "output_type": "execute_result"
    }
   ],
   "source": [
    "from sklearn.cluster import DBSCAN\n",
    "\n",
    "points_clustered = DBSCAN(eps=2, min_samples=3).fit_predict(point_coords)\n",
    "points_clustered"
   ],
   "metadata": {
    "collapsed": false
   }
  },
  {
   "cell_type": "markdown",
   "source": [
    "Визуализируем результата кластеризации.\n",
    "\n",
    "Числа неправильно повернуты, так как оси координат на изображении направлены не так, как оси координат на графике. Но, в любом случае, видно, что DBSCAN успешно разделил цифры."
   ],
   "metadata": {
    "collapsed": false
   }
  },
  {
   "cell_type": "code",
   "execution_count": 32,
   "outputs": [
    {
     "data": {
      "text/plain": "<matplotlib.collections.PathCollection at 0x1ea495243d0>"
     },
     "execution_count": 32,
     "metadata": {},
     "output_type": "execute_result"
    },
    {
     "data": {
      "text/plain": "<Figure size 640x480 with 1 Axes>",
      "image/png": "[encoded data removed]"
     },
     "metadata": {},
     "output_type": "display_data"
    }
   ],
   "source": [
    "plt.scatter(point_coords[:, 0], point_coords[:, 1], c=points_clustered)"
   ],
   "metadata": {
    "collapsed": false
   }
  },
  {
   "cell_type": "code",
   "execution_count": 33,
   "outputs": [
    {
     "data": {
      "text/plain": "<matplotlib.collections.PathCollection at 0x1ea495a91e0>"
     },
     "execution_count": 33,
     "metadata": {},
     "output_type": "execute_result"
    },
    {
     "data": {
      "text/plain": "<Figure size 640x480 with 1 Axes>",
      "image/png": "[encoded data removed]"
     },
     "metadata": {},
     "output_type": "display_data"
    }
   ],
   "source": [
    "first_number = point_coords[points_clustered == 0]\n",
    "plt.scatter(first_number[:, 0], first_number[:, 1])"
   ],
   "metadata": {
    "collapsed": false
   }
  },
  {
   "cell_type": "code",
   "execution_count": 34,
   "outputs": [
    {
     "data": {
      "text/plain": "<matplotlib.collections.PathCollection at 0x1ea49771780>"
     },
     "execution_count": 34,
     "metadata": {},
     "output_type": "execute_result"
    },
    {
     "data": {
      "text/plain": "<Figure size 640x480 with 1 Axes>",
      "image/png": "[encoded data removed]"
     },
     "metadata": {},
     "output_type": "display_data"
    }
   ],
   "source": [
    "second_number = point_coords[points_clustered == 1]\n",
    "plt.scatter(second_number[:, 0], second_number[:, 1])"
   ],
   "metadata": {
    "collapsed": false
   }
  },
  {
   "cell_type": "markdown",
   "source": [
    "По результатам кластеризации сформируем изображения отдельных цифр."
   ],
   "metadata": {
    "collapsed": false
   }
  },
  {
   "cell_type": "code",
   "execution_count": 35,
   "outputs": [],
   "source": [
    "def coords_list_to_image(points):\n",
    "    baseline = points.min(axis=0)\n",
    "    points_baselined = points - baseline\n",
    "    max_coords = (points_baselined.max(axis=0) + 1).tolist()\n",
    "    result = np.full(max_coords, 1.0)\n",
    "    for i in range(len(points)):\n",
    "        result[points_baselined[i, 0], points_baselined[i, 1]] = image[points[i, 0], points[i, 1]]\n",
    "    return result"
   ],
   "metadata": {
    "collapsed": false
   }
  },
  {
   "cell_type": "code",
   "execution_count": 36,
   "outputs": [
    {
     "data": {
      "text/plain": "<matplotlib.image.AxesImage at 0x1ea498083d0>"
     },
     "execution_count": 36,
     "metadata": {},
     "output_type": "execute_result"
    },
    {
     "data": {
      "text/plain": "<Figure size 640x480 with 1 Axes>",
      "image/png": "[encoded data removed]"
     },
     "metadata": {},
     "output_type": "display_data"
    }
   ],
   "source": [
    "first_number_image = coords_list_to_image(first_number)\n",
    "plt.imshow(first_number_image, cmap=plt.cm.gray)"
   ],
   "metadata": {
    "collapsed": false
   }
  },
  {
   "cell_type": "code",
   "execution_count": 37,
   "outputs": [
    {
     "data": {
      "text/plain": "(9, 8)"
     },
     "execution_count": 37,
     "metadata": {},
     "output_type": "execute_result"
    }
   ],
   "source": [
    "first_number_image.shape"
   ],
   "metadata": {
    "collapsed": false
   }
  },
  {
   "cell_type": "code",
   "execution_count": 38,
   "outputs": [
    {
     "data": {
      "text/plain": "<matplotlib.image.AxesImage at 0x1ea4985dfc0>"
     },
     "execution_count": 38,
     "metadata": {},
     "output_type": "execute_result"
    },
    {
     "data": {
      "text/plain": "<Figure size 640x480 with 1 Axes>",
      "image/png": "[encoded data removed]"
     },
     "metadata": {},
     "output_type": "display_data"
    }
   ],
   "source": [
    "second_number_image = coords_list_to_image(second_number)\n",
    "plt.imshow(second_number_image, cmap=plt.cm.gray)"
   ],
   "metadata": {
    "collapsed": false
   }
  },
  {
   "cell_type": "code",
   "execution_count": 39,
   "outputs": [
    {
     "data": {
      "text/plain": "(9, 6)"
     },
     "execution_count": 39,
     "metadata": {},
     "output_type": "execute_result"
    }
   ],
   "source": [
    "second_number_image.shape"
   ],
   "metadata": {
    "collapsed": false
   }
  },
  {
   "cell_type": "markdown",
   "source": [
    "В датасете digits размер изображений – (8, 8). Преобразуем изображения цифр к этому размеру."
   ],
   "metadata": {
    "collapsed": false
   }
  },
  {
   "cell_type": "code",
   "execution_count": 40,
   "outputs": [],
   "source": [
    "def reshape_to_8_8(image):\n",
    "    image_local = image\n",
    "    if image_local.shape[0] < 8:\n",
    "        rows_to_add = 8 - image_local.shape[0]\n",
    "        rows = np.full((rows_to_add, image_local.shape[1]), 1.0)\n",
    "        image_local = np.concatenate((image, rows), axis=0)\n",
    "    if image_local.shape[1] < 8:\n",
    "        columns_to_add = 8 - image_local.shape[1]\n",
    "        columns = np.full((image_local.shape[0], columns_to_add), 1.0)\n",
    "        image_local = np.concatenate((image, columns), axis=1)\n",
    "    return image_local[:8, :8]"
   ],
   "metadata": {
    "collapsed": false
   }
  },
  {
   "cell_type": "code",
   "execution_count": 41,
   "outputs": [
    {
     "data": {
      "text/plain": "<matplotlib.image.AxesImage at 0x1ea498dddb0>"
     },
     "execution_count": 41,
     "metadata": {},
     "output_type": "execute_result"
    },
    {
     "data": {
      "text/plain": "<Figure size 640x480 with 1 Axes>",
      "image/png": "[encoded data removed]"
     },
     "metadata": {},
     "output_type": "display_data"
    }
   ],
   "source": [
    "first_number_reshaped = reshape_to_8_8(first_number_image)\n",
    "plt.imshow(first_number_reshaped, cmap=plt.cm.gray)"
   ],
   "metadata": {
    "collapsed": false
   }
  },
  {
   "cell_type": "code",
   "execution_count": 42,
   "outputs": [
    {
     "data": {
      "text/plain": "<matplotlib.image.AxesImage at 0x1ea49964e80>"
     },
     "execution_count": 42,
     "metadata": {},
     "output_type": "execute_result"
    },
    {
     "data": {
      "text/plain": "<Figure size 640x480 with 1 Axes>",
      "image/png": "[encoded data removed]"
     },
     "metadata": {},
     "output_type": "display_data"
    }
   ],
   "source": [
    "second_number_reshaped = reshape_to_8_8(second_number_image)\n",
    "plt.imshow(second_number_reshaped, cmap=plt.cm.gray)"
   ],
   "metadata": {
    "collapsed": false
   }
  },
  {
   "cell_type": "markdown",
   "source": [
    "Отконвертируем цвета изображений в формат датасета digits."
   ],
   "metadata": {
    "collapsed": false
   }
  },
  {
   "cell_type": "code",
   "execution_count": 43,
   "outputs": [],
   "source": [
    "def to_digits_format(image):\n",
    "    result = np.empty((image.shape[0], image.shape[1]))\n",
    "    for row in range(image.shape[0]):\n",
    "        for column in range(image.shape[1]):\n",
    "            result[row, column] = round((1 - image[row, column]) * 16)\n",
    "    return result"
   ],
   "metadata": {
    "collapsed": false
   }
  },
  {
   "cell_type": "code",
   "execution_count": 44,
   "outputs": [
    {
     "data": {
      "text/plain": "<matplotlib.image.AxesImage at 0x1ea499f8c40>"
     },
     "execution_count": 44,
     "metadata": {},
     "output_type": "execute_result"
    },
    {
     "data": {
      "text/plain": "<Figure size 640x480 with 1 Axes>",
      "image/png": "[encoded data removed]"
     },
     "metadata": {},
     "output_type": "display_data"
    }
   ],
   "source": [
    "first_number_digits = to_digits_format(first_number_reshaped)\n",
    "plt.imshow(first_number_digits, cmap=plt.cm.gray)"
   ],
   "metadata": {
    "collapsed": false
   }
  },
  {
   "cell_type": "code",
   "execution_count": 45,
   "outputs": [
    {
     "data": {
      "text/plain": "<matplotlib.image.AxesImage at 0x1ea49a537f0>"
     },
     "execution_count": 45,
     "metadata": {},
     "output_type": "execute_result"
    },
    {
     "data": {
      "text/plain": "<Figure size 640x480 with 1 Axes>",
      "image/png": "[encoded data removed]"
     },
     "metadata": {},
     "output_type": "display_data"
    }
   ],
   "source": [
    "second_number_digits = to_digits_format(second_number_reshaped)\n",
    "plt.imshow(second_number_digits, cmap=plt.cm.gray)"
   ],
   "metadata": {
    "collapsed": false
   }
  },
  {
   "cell_type": "markdown",
   "source": [
    "С помощью лучшего классификатора из предыдущего задания определим, каким цифрам соответствуют изображения."
   ],
   "metadata": {
    "collapsed": false
   }
  },
  {
   "cell_type": "code",
   "execution_count": 46,
   "outputs": [],
   "source": [
    "def image_predict(image_digits):\n",
    "    image_local = image_digits.flatten()[None,:]\n",
    "    if best_tsne:\n",
    "        image_local = x_tsne.transform(image_local)\n",
    "    return best_algorithm.predict(image_local)"
   ],
   "metadata": {
    "collapsed": false
   }
  },
  {
   "cell_type": "markdown",
   "source": [
    "Классификатор правильно распознал изображения. Таким образом, мы правильно определили число на картинке."
   ],
   "metadata": {
    "collapsed": false
   }
  },
  {
   "cell_type": "code",
   "execution_count": 47,
   "outputs": [
    {
     "data": {
      "text/plain": "4"
     },
     "execution_count": 47,
     "metadata": {},
     "output_type": "execute_result"
    }
   ],
   "source": [
    "first_number_prediction = image_predict(first_number_digits)[0]\n",
    "first_number_prediction"
   ],
   "metadata": {
    "collapsed": false
   }
  },
  {
   "cell_type": "code",
   "execution_count": 48,
   "outputs": [
    {
     "data": {
      "text/plain": "2"
     },
     "execution_count": 48,
     "metadata": {},
     "output_type": "execute_result"
    }
   ],
   "source": [
    "second_number_prediction = image_predict(second_number_digits)[0]\n",
    "second_number_prediction"
   ],
   "metadata": {
    "collapsed": false
   }
  },
  {
   "cell_type": "code",
   "execution_count": 49,
   "outputs": [
    {
     "data": {
      "text/plain": "42"
     },
     "execution_count": 49,
     "metadata": {},
     "output_type": "execute_result"
    }
   ],
   "source": [
    "result_number = first_number_prediction * 10 + second_number_prediction\n",
    "result_number"
   ],
   "metadata": {
    "collapsed": false
   }
  }
 ],
 "metadata": {
  "kernelspec": {
   "display_name": "Python 3",
   "language": "python",
   "name": "python3"
  },
  "language_info": {
   "codemirror_mode": {
    "name": "ipython",
    "version": 2
   },
   "file_extension": ".py",
   "mimetype": "text/x-python",
   "name": "python",
   "nbconvert_exporter": "python",
   "pygments_lexer": "ipython2",
   "version": "2.7.6"
  }
 },
 "nbformat": 4,
 "nbformat_minor": 0
}

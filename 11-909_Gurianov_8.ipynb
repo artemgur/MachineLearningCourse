{
 "cells": [
  {
   "cell_type": "markdown",
   "source": [
    "# #08. Метод классификации K_NN"
   ],
   "metadata": {
    "collapsed": false
   }
  },
  {
   "cell_type": "markdown",
   "source": [
    "Загрузим данные"
   ],
   "metadata": {
    "collapsed": false
   }
  },
  {
   "cell_type": "code",
   "execution_count": 1,
   "metadata": {
    "collapsed": true
   },
   "outputs": [
    {
     "name": "stdout",
     "output_type": "stream",
     "text": [
      "[[ 0.  0.  5. ...  0.  0.  0.]\n",
      " [ 0.  0.  0. ... 10.  0.  0.]\n",
      " [ 0.  0.  0. ... 16.  9.  0.]\n",
      " ...\n",
      " [ 0.  0.  1. ...  6.  0.  0.]\n",
      " [ 0.  0.  2. ... 12.  0.  0.]\n",
      " [ 0.  0. 10. ... 12.  1.  0.]]\n",
      "[0 1 2 ... 8 9 8]\n"
     ]
    }
   ],
   "source": [
    "import numpy as np\n",
    "from sklearn.datasets import load_digits\n",
    "\n",
    "digits_dataset = load_digits()\n",
    "x = digits_dataset.data\n",
    "y = digits_dataset.target\n",
    "print(x)\n",
    "print(y)"
   ]
  },
  {
   "cell_type": "markdown",
   "source": [
    "Разделим данные на обучающую и тестовую выборки"
   ],
   "metadata": {
    "collapsed": false
   }
  },
  {
   "cell_type": "code",
   "execution_count": 2,
   "outputs": [
    {
     "data": {
      "text/plain": "1437"
     },
     "execution_count": 2,
     "metadata": {},
     "output_type": "execute_result"
    }
   ],
   "source": [
    "from math import floor\n",
    "\n",
    "train_size = floor(x.shape[0] * 0.8)\n",
    "train_size"
   ],
   "metadata": {
    "collapsed": false
   }
  },
  {
   "cell_type": "code",
   "execution_count": 3,
   "outputs": [],
   "source": [
    "x_train = x[:train_size]\n",
    "x_test = x[train_size:]\n",
    "\n",
    "y_train = y[:train_size]\n",
    "y_test = y[train_size:]"
   ],
   "metadata": {
    "collapsed": false
   }
  },
  {
   "cell_type": "markdown",
   "source": [
    "Создадим функции расстояний\n",
    "\n",
    "- distance определяет расстояние между 2 точками\n",
    "- distances определяет расстояние от всех точек из массива точек (2-мерный массив, где строки – точки, столбцы – координаты) до одной точки"
   ],
   "metadata": {
    "collapsed": false
   }
  },
  {
   "cell_type": "code",
   "execution_count": 4,
   "outputs": [],
   "source": [
    "# noinspection PyShadowingNames\n",
    "def distance(x: np.ndarray, y: np.ndarray):\n",
    "    return np.sqrt(np.sum((x - y) ** 2))\n",
    "\n",
    "\n",
    "# noinspection PyShadowingNames\n",
    "def distances(x: np.ndarray, y: np.ndarray):\n",
    "    return np.sqrt(np.sum((x - y) ** 2, axis=1))"
   ],
   "metadata": {
    "collapsed": false
   }
  },
  {
   "cell_type": "code",
   "execution_count": 5,
   "outputs": [
    {
     "data": {
      "text/plain": "array([ 0.        , 59.55669568, 54.12947441, ..., 50.37856687,\n       37.06750599, 47.03190407])"
     },
     "execution_count": 5,
     "metadata": {},
     "output_type": "execute_result"
    }
   ],
   "source": [
    "distances(x, x[0])"
   ],
   "metadata": {
    "collapsed": false
   }
  },
  {
   "cell_type": "code",
   "execution_count": 6,
   "outputs": [
    {
     "data": {
      "text/plain": "59.55669567731239"
     },
     "execution_count": 6,
     "metadata": {},
     "output_type": "execute_result"
    }
   ],
   "source": [
    "distance(x[1], x[0])"
   ],
   "metadata": {
    "collapsed": false
   }
  },
  {
   "cell_type": "markdown",
   "source": [
    "Создадим классификатор по методу k ближайших соседей"
   ],
   "metadata": {
    "collapsed": false
   }
  },
  {
   "cell_type": "code",
   "execution_count": 7,
   "outputs": [],
   "source": [
    "import statistics\n",
    "\n",
    "\n",
    "# noinspection PyPep8Naming\n",
    "class K_NN:\n",
    "    def __init__(self, n_neighbors=3):\n",
    "        self.n_neighbors = n_neighbors\n",
    "        self.labels: np.ndarray = None\n",
    "        self.dataset: np.ndarray = None\n",
    "\n",
    "\n",
    "    # noinspection PyShadowingNames\n",
    "    def fit(self, x: np.ndarray, y: np.ndarray):\n",
    "        self.dataset = x\n",
    "        self.labels = y\n",
    "\n",
    "\n",
    "    def _get_closest_points(self, point):\n",
    "        distances_to_point: np.ndarray = distances(self.dataset, point)\n",
    "        closest_points = distances_to_point.argpartition(self.n_neighbors - 1)[:self.n_neighbors]\n",
    "        return closest_points\n",
    "\n",
    "\n",
    "    def predict(self, points: np.ndarray):\n",
    "        result = np.empty(points.shape[0])\n",
    "        for i, point in enumerate(points):\n",
    "            closest_points = self._get_closest_points(point)\n",
    "            labels = self.labels[closest_points]\n",
    "            result[i] = statistics.mode(labels)\n",
    "        return result\n",
    "\n",
    "\n",
    "    def get_neighbors(self, points: np.ndarray):\n",
    "        result = np.empty((points.shape[0], self.n_neighbors))\n",
    "        for i, point in enumerate(points):\n",
    "            result[i] = self._get_closest_points(point)\n",
    "        return result"
   ],
   "metadata": {
    "collapsed": false
   }
  },
  {
   "cell_type": "markdown",
   "source": [
    "Обучим созданный нами классификатор и определим accuracy на тестовой выборке"
   ],
   "metadata": {
    "collapsed": false
   }
  },
  {
   "cell_type": "code",
   "execution_count": 8,
   "outputs": [],
   "source": [
    "knn = K_NN(n_neighbors=3)\n",
    "knn.fit(x_train, y_train)\n",
    "knn_prediction = knn.predict(x_test)"
   ],
   "metadata": {
    "collapsed": false
   }
  },
  {
   "cell_type": "code",
   "execution_count": 9,
   "outputs": [
    {
     "data": {
      "text/plain": "0.9611111111111111"
     },
     "execution_count": 9,
     "metadata": {},
     "output_type": "execute_result"
    }
   ],
   "source": [
    "from sklearn.metrics import accuracy_score\n",
    "\n",
    "accuracy_score(y_test, knn_prediction)"
   ],
   "metadata": {
    "collapsed": false
   }
  },
  {
   "cell_type": "markdown",
   "source": [
    "Для сравнения обучим аналогичный классификатор из sklearn и определим accuracy"
   ],
   "metadata": {
    "collapsed": false
   }
  },
  {
   "cell_type": "code",
   "execution_count": 10,
   "outputs": [
    {
     "data": {
      "text/plain": "0.9666666666666667"
     },
     "execution_count": 10,
     "metadata": {},
     "output_type": "execute_result"
    }
   ],
   "source": [
    "from sklearn.neighbors import KNeighborsClassifier\n",
    "\n",
    "knn_sklearn = KNeighborsClassifier(n_neighbors=3)\n",
    "knn_sklearn.fit(x_train, y_train)\n",
    "knn_sklearn_prediction = knn_sklearn.predict(x_test)\n",
    "accuracy_score(y_test, knn_sklearn_prediction)"
   ],
   "metadata": {
    "collapsed": false
   }
  },
  {
   "cell_type": "markdown",
   "source": [
    "Получились разные результаты. Выясним, почему это произошло"
   ],
   "metadata": {
    "collapsed": false
   }
  },
  {
   "cell_type": "markdown",
   "source": [
    "С помощью обоих классификаторов найдем для каждой точки из тестовой выборки ее соседей"
   ],
   "metadata": {
    "collapsed": false
   }
  },
  {
   "cell_type": "code",
   "execution_count": 11,
   "outputs": [
    {
     "data": {
      "text/plain": "array([[1417.,  986.,  833.],\n       [ 865.,  259., 1418.],\n       [ 613.,  520.,  840.],\n       ...,\n       [ 148.,  248.,  242.],\n       [ 254.,  251.,  849.],\n       [ 183.,  248., 1015.]])"
     },
     "execution_count": 11,
     "metadata": {},
     "output_type": "execute_result"
    }
   ],
   "source": [
    "knn_neighbors = knn.get_neighbors(x_test)\n",
    "knn_neighbors"
   ],
   "metadata": {
    "collapsed": false
   }
  },
  {
   "cell_type": "code",
   "execution_count": 12,
   "outputs": [
    {
     "data": {
      "text/plain": "array([[1417,  986,  833],\n       [ 865,  259, 1418],\n       [ 613,  520,  840],\n       ...,\n       [ 148,  248,  242],\n       [ 254,  251,  849],\n       [ 183,  248, 1015]], dtype=int64)"
     },
     "execution_count": 12,
     "metadata": {},
     "output_type": "execute_result"
    }
   ],
   "source": [
    "knn_sklearn_neighbors = knn_sklearn.kneighbors(x_test, return_distance=False)\n",
    "knn_sklearn_neighbors"
   ],
   "metadata": {
    "collapsed": false
   }
  },
  {
   "cell_type": "markdown",
   "source": [
    "Найденные соседи отличаются только для 1 точки"
   ],
   "metadata": {
    "collapsed": false
   }
  },
  {
   "cell_type": "code",
   "execution_count": 13,
   "outputs": [],
   "source": [
    "are_rows_same = (np.sort(knn_neighbors, axis=1) == np.sort(knn_sklearn_neighbors, axis=1)).all(axis=1)"
   ],
   "metadata": {
    "collapsed": false
   }
  },
  {
   "cell_type": "code",
   "execution_count": 14,
   "outputs": [
    {
     "data": {
      "text/plain": "(array([290], dtype=int64),)"
     },
     "execution_count": 14,
     "metadata": {},
     "output_type": "execute_result"
    }
   ],
   "source": [
    "np.where(~are_rows_same)"
   ],
   "metadata": {
    "collapsed": false
   }
  },
  {
   "cell_type": "markdown",
   "source": [
    "Результаты для этой точки отличаются одним соседом"
   ],
   "metadata": {
    "collapsed": false
   }
  },
  {
   "cell_type": "code",
   "execution_count": 15,
   "outputs": [
    {
     "data": {
      "text/plain": "array([[114., 759., 699.]])"
     },
     "execution_count": 15,
     "metadata": {},
     "output_type": "execute_result"
    }
   ],
   "source": [
    "knn_neighbors[~are_rows_same]"
   ],
   "metadata": {
    "collapsed": false
   }
  },
  {
   "cell_type": "code",
   "execution_count": 16,
   "outputs": [
    {
     "data": {
      "text/plain": "array([[114, 759, 761]], dtype=int64)"
     },
     "execution_count": 16,
     "metadata": {},
     "output_type": "execute_result"
    }
   ],
   "source": [
    "knn_sklearn_neighbors[~are_rows_same]"
   ],
   "metadata": {
    "collapsed": false
   }
  },
  {
   "cell_type": "markdown",
   "source": [
    "При этом расстояния от точки до обоих вариантов соседа одинаковы. Это значит, что результаты обоих классификаторов равнозначны"
   ],
   "metadata": {
    "collapsed": false
   }
  },
  {
   "cell_type": "code",
   "execution_count": 17,
   "outputs": [
    {
     "data": {
      "text/plain": "33.075670817082454"
     },
     "execution_count": 17,
     "metadata": {},
     "output_type": "execute_result"
    }
   ],
   "source": [
    "distance(x[train_size + 290], x[699])"
   ],
   "metadata": {
    "collapsed": false
   }
  },
  {
   "cell_type": "code",
   "execution_count": 18,
   "outputs": [
    {
     "data": {
      "text/plain": "33.075670817082454"
     },
     "execution_count": 18,
     "metadata": {},
     "output_type": "execute_result"
    }
   ],
   "source": [
    "distance(x[train_size + 290], x[761])"
   ],
   "metadata": {
    "collapsed": false
   }
  }
 ],
 "metadata": {
  "kernelspec": {
   "display_name": "Python 3",
   "language": "python",
   "name": "python3"
  },
  "language_info": {
   "codemirror_mode": {
    "name": "ipython",
    "version": 2
   },
   "file_extension": ".py",
   "mimetype": "text/x-python",
   "name": "python",
   "nbconvert_exporter": "python",
   "pygments_lexer": "ipython2",
   "version": "2.7.6"
  }
 },
 "nbformat": 4,
 "nbformat_minor": 0
}

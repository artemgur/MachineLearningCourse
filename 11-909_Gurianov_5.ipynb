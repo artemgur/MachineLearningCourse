{
 "cells": [
  {
   "cell_type": "markdown",
   "source": [
    "## ДЗ 1. Класс kmeans\n",
    "\n",
    "Дано:\n",
    "- дан класс K_Means кластеризации данных\n",
    "Требуется:\n",
    "- изменить способ задания начальных положений центров кластеров: разбросать случайным образом между(!) точек заданного обучающего множества dataset (определив разброс точек по всем координатам)\n",
    "- изменить способ задания параметра tolerance: значение параметра должно равняться 1/10000 от минимального диапазона изменения признаков объектов (например, если один признак изменятся в диапазоне [100,200], а другой - [0.1,10], то tolerance = (10-0.1)/10000)\n",
    "- дописать метод get_dist: пользователь должен иметь возможность использовать одну из 4 метрик при подсчете расстояний между объектами (евклидово расстояние, квадрат евклидова расстояния, расстояние городских кварталов, расстояние Чебышёва)\n",
    "- написать метод get_predict: методом можно воспользоваться только после обучения модели (fitted == True), метод принимает двумерный массив объектов (могут быть точки не принадлежащие исходному обучающему множеству dataset), метод возвращает одномерный массив индексов соответствующих кластеров (по близости до центров кластеров)\n"
   ],
   "metadata": {
    "collapsed": false
   }
  },
  {
   "cell_type": "code",
   "execution_count": null,
   "metadata": {
    "collapsed": true
   },
   "outputs": [],
   "source": [
    "import numpy as np\n",
    "import matplotlib.pyplot as plt\n",
    "\n",
    "class K_means():\n",
    "\n",
    "    def __init__(self, dataset, n_clusters=3):\n",
    "        self.dataset = dataset\n",
    "        self.n_clusters = n_clusters\n",
    "        self.max_n_iter = 100\n",
    "        self.tolerance = 0.01\n",
    "        self.fitted = False\n",
    "        self.labels = np.array([], dtype='i')\n",
    "        self.centroids = np.array([self.dataset[k] for k in\n",
    "                                  range(self.n_clusters)], dtype='f')\n",
    "\n",
    "    def get_dist(self, list1, list2):\n",
    "        return np.sqrt(sum([(i-j)**2 for i,j in zip(list1,list2)]))\n",
    "\n",
    "    def distribute_data(self):\n",
    "        self.labels = np.array([], dtype='i')\n",
    "        for data in self.dataset:\n",
    "            dist = np.array([self.get_dist(data,center)\n",
    "                            for center in self.centroids])\n",
    "            self.labels = np.append(self.labels, dist.argmin())\n",
    "\n",
    "    def recalculate_centroids(self):\n",
    "        for i in range(self.n_clusters):\n",
    "            num = 0\n",
    "            temp = np.empty(self.dataset[0].shape)\n",
    "            for k,label in enumerate(self.labels):\n",
    "                if label == i:\n",
    "                    temp += self.dataset[k]\n",
    "                    num += 1\n",
    "            self.centroids[i] = temp / num\n",
    "\n",
    "    def fit(self):\n",
    "        iter = 1\n",
    "        while iter < self.max_n_iter:\n",
    "            prev_centroids = self.centroids.copy()\n",
    "            self.distribute_data()\n",
    "            self.recalculate_centroids()\n",
    "            if max([self.get_dist(i,j) for i,j in zip(prev_centroids,self.centroids)]) \\\n",
    "            < self.tolerance:\n",
    "                break\n",
    "            iter += 1\n",
    "        self.fitted = True\n",
    "\n",
    "    '''\n",
    "    def predict(self, list2d):\n",
    "        return list1d -> [0, 1, 1, 2, ...]\n",
    "    '''\n",
    "\n",
    "\n",
    "\n",
    "\n",
    "kmeans = K_means(points)\n",
    "print(kmeans.centroids)\n",
    "kmeans.get_dist([1,0,1,2],[9,4,1,0])\n",
    "#print(kmeans.labels)\n",
    "kmeans.distribute_data()\n",
    "#print(kmeans.labels)\n",
    "kmeans.recalculate_centroids()\n",
    "print(kmeans.centroids)\n",
    "\n",
    "kmeans.fit()\n",
    "\n",
    "fig = plt.figure(figsize=(width/60,height/60))\n",
    "plt.scatter(points[:,0],points[:,1],c=kmeans.labels)\n",
    "plt.scatter(kmeans.centroids[:,0],kmeans.centroids[:,1],c='black',marker='+')\n",
    "plt.show()"
   ]
  }
 ],
 "metadata": {
  "kernelspec": {
   "display_name": "Python 3",
   "language": "python",
   "name": "python3"
  },
  "language_info": {
   "codemirror_mode": {
    "name": "ipython",
    "version": 2
   },
   "file_extension": ".py",
   "mimetype": "text/x-python",
   "name": "python",
   "nbconvert_exporter": "python",
   "pygments_lexer": "ipython2",
   "version": "2.7.6"
  }
 },
 "nbformat": 4,
 "nbformat_minor": 0
}
